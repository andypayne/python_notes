{
 "cells": [
  {
   "cell_type": "code",
   "execution_count": 1,
   "id": "76e340a0",
   "metadata": {},
   "outputs": [],
   "source": [
    "import pandas as pd"
   ]
  },
  {
   "cell_type": "code",
   "execution_count": 2,
   "id": "c6f34cb1",
   "metadata": {},
   "outputs": [],
   "source": [
    "sample_data = {\n",
    "    \"day\": [\"2/3/2018\", \"4/5/2018\", \"6/7/2019\", \"8/9/2019\", \"10/11/2020\", \"12/13/2020\", \"1/2/2021\", \"1/3/2021\"],\n",
    "    \"price\": [10, 12, 20, 34, 32, 40, 34, 42],\n",
    "    \"vol\": [12, 12, 25, 40, 56, 12, 68, 40],\n",
    "    \"color\": [\"red\", \"yellow\", \"green\", \"blue\", \"orange\", \"magenta\", \"cyan\", \"violet\"],\n",
    "}\n",
    "df = pd.DataFrame(sample_data)"
   ]
  },
  {
   "cell_type": "code",
   "execution_count": 3,
   "id": "b6395567",
   "metadata": {},
   "outputs": [
    {
     "data": {
      "text/html": [
       "<div>\n",
       "<style scoped>\n",
       "    .dataframe tbody tr th:only-of-type {\n",
       "        vertical-align: middle;\n",
       "    }\n",
       "\n",
       "    .dataframe tbody tr th {\n",
       "        vertical-align: top;\n",
       "    }\n",
       "\n",
       "    .dataframe thead th {\n",
       "        text-align: right;\n",
       "    }\n",
       "</style>\n",
       "<table border=\"1\" class=\"dataframe\">\n",
       "  <thead>\n",
       "    <tr style=\"text-align: right;\">\n",
       "      <th></th>\n",
       "      <th>day</th>\n",
       "      <th>price</th>\n",
       "      <th>vol</th>\n",
       "      <th>color</th>\n",
       "    </tr>\n",
       "  </thead>\n",
       "  <tbody>\n",
       "    <tr>\n",
       "      <th>0</th>\n",
       "      <td>2/3/2018</td>\n",
       "      <td>10</td>\n",
       "      <td>12</td>\n",
       "      <td>red</td>\n",
       "    </tr>\n",
       "    <tr>\n",
       "      <th>1</th>\n",
       "      <td>4/5/2018</td>\n",
       "      <td>12</td>\n",
       "      <td>12</td>\n",
       "      <td>yellow</td>\n",
       "    </tr>\n",
       "    <tr>\n",
       "      <th>2</th>\n",
       "      <td>6/7/2019</td>\n",
       "      <td>20</td>\n",
       "      <td>25</td>\n",
       "      <td>green</td>\n",
       "    </tr>\n",
       "    <tr>\n",
       "      <th>3</th>\n",
       "      <td>8/9/2019</td>\n",
       "      <td>34</td>\n",
       "      <td>40</td>\n",
       "      <td>blue</td>\n",
       "    </tr>\n",
       "    <tr>\n",
       "      <th>4</th>\n",
       "      <td>10/11/2020</td>\n",
       "      <td>32</td>\n",
       "      <td>56</td>\n",
       "      <td>orange</td>\n",
       "    </tr>\n",
       "    <tr>\n",
       "      <th>5</th>\n",
       "      <td>12/13/2020</td>\n",
       "      <td>40</td>\n",
       "      <td>12</td>\n",
       "      <td>magenta</td>\n",
       "    </tr>\n",
       "    <tr>\n",
       "      <th>6</th>\n",
       "      <td>1/2/2021</td>\n",
       "      <td>34</td>\n",
       "      <td>68</td>\n",
       "      <td>cyan</td>\n",
       "    </tr>\n",
       "    <tr>\n",
       "      <th>7</th>\n",
       "      <td>1/3/2021</td>\n",
       "      <td>42</td>\n",
       "      <td>40</td>\n",
       "      <td>violet</td>\n",
       "    </tr>\n",
       "  </tbody>\n",
       "</table>\n",
       "</div>"
      ],
      "text/plain": [
       "          day  price  vol    color\n",
       "0    2/3/2018     10   12      red\n",
       "1    4/5/2018     12   12   yellow\n",
       "2    6/7/2019     20   25    green\n",
       "3    8/9/2019     34   40     blue\n",
       "4  10/11/2020     32   56   orange\n",
       "5  12/13/2020     40   12  magenta\n",
       "6    1/2/2021     34   68     cyan\n",
       "7    1/3/2021     42   40   violet"
      ]
     },
     "execution_count": 3,
     "metadata": {},
     "output_type": "execute_result"
    }
   ],
   "source": [
    "# Or: df[:], df.head()\n",
    "df"
   ]
  },
  {
   "cell_type": "code",
   "execution_count": 4,
   "id": "64fbaf47",
   "metadata": {},
   "outputs": [
    {
     "data": {
      "text/html": [
       "<div>\n",
       "<style scoped>\n",
       "    .dataframe tbody tr th:only-of-type {\n",
       "        vertical-align: middle;\n",
       "    }\n",
       "\n",
       "    .dataframe tbody tr th {\n",
       "        vertical-align: top;\n",
       "    }\n",
       "\n",
       "    .dataframe thead th {\n",
       "        text-align: right;\n",
       "    }\n",
       "</style>\n",
       "<table border=\"1\" class=\"dataframe\">\n",
       "  <thead>\n",
       "    <tr style=\"text-align: right;\">\n",
       "      <th></th>\n",
       "      <th>day</th>\n",
       "      <th>price</th>\n",
       "      <th>vol</th>\n",
       "      <th>color</th>\n",
       "    </tr>\n",
       "  </thead>\n",
       "  <tbody>\n",
       "    <tr>\n",
       "      <th>3</th>\n",
       "      <td>8/9/2019</td>\n",
       "      <td>34</td>\n",
       "      <td>40</td>\n",
       "      <td>blue</td>\n",
       "    </tr>\n",
       "    <tr>\n",
       "      <th>4</th>\n",
       "      <td>10/11/2020</td>\n",
       "      <td>32</td>\n",
       "      <td>56</td>\n",
       "      <td>orange</td>\n",
       "    </tr>\n",
       "    <tr>\n",
       "      <th>5</th>\n",
       "      <td>12/13/2020</td>\n",
       "      <td>40</td>\n",
       "      <td>12</td>\n",
       "      <td>magenta</td>\n",
       "    </tr>\n",
       "    <tr>\n",
       "      <th>6</th>\n",
       "      <td>1/2/2021</td>\n",
       "      <td>34</td>\n",
       "      <td>68</td>\n",
       "      <td>cyan</td>\n",
       "    </tr>\n",
       "    <tr>\n",
       "      <th>7</th>\n",
       "      <td>1/3/2021</td>\n",
       "      <td>42</td>\n",
       "      <td>40</td>\n",
       "      <td>violet</td>\n",
       "    </tr>\n",
       "  </tbody>\n",
       "</table>\n",
       "</div>"
      ],
      "text/plain": [
       "          day  price  vol    color\n",
       "3    8/9/2019     34   40     blue\n",
       "4  10/11/2020     32   56   orange\n",
       "5  12/13/2020     40   12  magenta\n",
       "6    1/2/2021     34   68     cyan\n",
       "7    1/3/2021     42   40   violet"
      ]
     },
     "execution_count": 4,
     "metadata": {},
     "output_type": "execute_result"
    }
   ],
   "source": [
    "df.tail()"
   ]
  },
  {
   "cell_type": "code",
   "execution_count": 5,
   "id": "68261033",
   "metadata": {},
   "outputs": [
    {
     "data": {
      "text/plain": [
       "(8, 4)"
      ]
     },
     "execution_count": 5,
     "metadata": {},
     "output_type": "execute_result"
    }
   ],
   "source": [
    "# Shape\n",
    "df.shape"
   ]
  },
  {
   "cell_type": "code",
   "execution_count": 6,
   "id": "367915aa",
   "metadata": {},
   "outputs": [
    {
     "data": {
      "text/plain": [
       "8"
      ]
     },
     "execution_count": 6,
     "metadata": {},
     "output_type": "execute_result"
    }
   ],
   "source": [
    "# Number of rows\n",
    "len(df)"
   ]
  },
  {
   "cell_type": "code",
   "execution_count": 7,
   "id": "aacb1a1a",
   "metadata": {},
   "outputs": [
    {
     "data": {
      "text/plain": [
       "day      object\n",
       "price     int64\n",
       "vol       int64\n",
       "color    object\n",
       "dtype: object"
      ]
     },
     "execution_count": 7,
     "metadata": {},
     "output_type": "execute_result"
    }
   ],
   "source": [
    "df.dtypes"
   ]
  },
  {
   "cell_type": "markdown",
   "id": "7075e30e",
   "metadata": {},
   "source": [
    "## Access"
   ]
  },
  {
   "cell_type": "code",
   "execution_count": 8,
   "id": "e4d20e59",
   "metadata": {},
   "outputs": [
    {
     "data": {
      "text/plain": [
       "0    12\n",
       "1    12\n",
       "2    25\n",
       "3    40\n",
       "4    56\n",
       "5    12\n",
       "6    68\n",
       "7    40\n",
       "Name: vol, dtype: int64"
      ]
     },
     "execution_count": 8,
     "metadata": {},
     "output_type": "execute_result"
    }
   ],
   "source": [
    "# Access a column\n",
    "df.vol"
   ]
  },
  {
   "cell_type": "code",
   "execution_count": 9,
   "id": "9599fa2e",
   "metadata": {},
   "outputs": [
    {
     "data": {
      "text/plain": [
       "0    10\n",
       "1    12\n",
       "2    20\n",
       "3    34\n",
       "4    32\n",
       "5    40\n",
       "6    34\n",
       "7    42\n",
       "Name: price, dtype: int64"
      ]
     },
     "execution_count": 9,
     "metadata": {},
     "output_type": "execute_result"
    }
   ],
   "source": [
    "# Also\n",
    "df['price']"
   ]
  },
  {
   "cell_type": "code",
   "execution_count": 10,
   "id": "d5d0a617",
   "metadata": {},
   "outputs": [
    {
     "data": {
      "text/html": [
       "<div>\n",
       "<style scoped>\n",
       "    .dataframe tbody tr th:only-of-type {\n",
       "        vertical-align: middle;\n",
       "    }\n",
       "\n",
       "    .dataframe tbody tr th {\n",
       "        vertical-align: top;\n",
       "    }\n",
       "\n",
       "    .dataframe thead th {\n",
       "        text-align: right;\n",
       "    }\n",
       "</style>\n",
       "<table border=\"1\" class=\"dataframe\">\n",
       "  <thead>\n",
       "    <tr style=\"text-align: right;\">\n",
       "      <th></th>\n",
       "      <th>day</th>\n",
       "      <th>price</th>\n",
       "      <th>vol</th>\n",
       "      <th>color</th>\n",
       "    </tr>\n",
       "  </thead>\n",
       "  <tbody>\n",
       "    <tr>\n",
       "      <th>2</th>\n",
       "      <td>6/7/2019</td>\n",
       "      <td>20</td>\n",
       "      <td>25</td>\n",
       "      <td>green</td>\n",
       "    </tr>\n",
       "  </tbody>\n",
       "</table>\n",
       "</div>"
      ],
      "text/plain": [
       "        day  price  vol  color\n",
       "2  6/7/2019     20   25  green"
      ]
     },
     "execution_count": 10,
     "metadata": {},
     "output_type": "execute_result"
    }
   ],
   "source": [
    "# Access a row\n",
    "df[2:3]"
   ]
  },
  {
   "cell_type": "code",
   "execution_count": 11,
   "id": "235d29d7",
   "metadata": {},
   "outputs": [
    {
     "data": {
      "text/html": [
       "<div>\n",
       "<style scoped>\n",
       "    .dataframe tbody tr th:only-of-type {\n",
       "        vertical-align: middle;\n",
       "    }\n",
       "\n",
       "    .dataframe tbody tr th {\n",
       "        vertical-align: top;\n",
       "    }\n",
       "\n",
       "    .dataframe thead th {\n",
       "        text-align: right;\n",
       "    }\n",
       "</style>\n",
       "<table border=\"1\" class=\"dataframe\">\n",
       "  <thead>\n",
       "    <tr style=\"text-align: right;\">\n",
       "      <th></th>\n",
       "      <th>day</th>\n",
       "      <th>price</th>\n",
       "      <th>vol</th>\n",
       "      <th>color</th>\n",
       "    </tr>\n",
       "  </thead>\n",
       "  <tbody>\n",
       "    <tr>\n",
       "      <th>2</th>\n",
       "      <td>6/7/2019</td>\n",
       "      <td>20</td>\n",
       "      <td>25</td>\n",
       "      <td>green</td>\n",
       "    </tr>\n",
       "  </tbody>\n",
       "</table>\n",
       "</div>"
      ],
      "text/plain": [
       "        day  price  vol  color\n",
       "2  6/7/2019     20   25  green"
      ]
     },
     "execution_count": 11,
     "metadata": {},
     "output_type": "execute_result"
    }
   ],
   "source": [
    "# Also\n",
    "df.iloc[2:3]"
   ]
  },
  {
   "cell_type": "code",
   "execution_count": 12,
   "id": "c786a6d9",
   "metadata": {},
   "outputs": [
    {
     "data": {
      "text/plain": [
       "34"
      ]
     },
     "execution_count": 12,
     "metadata": {},
     "output_type": "execute_result"
    }
   ],
   "source": [
    "# Access a cell by row, col index with .iat\n",
    "df.iat[3, 1]"
   ]
  },
  {
   "cell_type": "code",
   "execution_count": 13,
   "id": "0d853407",
   "metadata": {},
   "outputs": [
    {
     "data": {
      "text/plain": [
       "'magenta'"
      ]
     },
     "execution_count": 13,
     "metadata": {},
     "output_type": "execute_result"
    }
   ],
   "source": [
    "# Access a cell by row index and column name with .at\n",
    "df.at[5, 'color']"
   ]
  },
  {
   "cell_type": "code",
   "execution_count": 14,
   "id": "1697dbab",
   "metadata": {},
   "outputs": [
    {
     "data": {
      "text/html": [
       "<div>\n",
       "<style scoped>\n",
       "    .dataframe tbody tr th:only-of-type {\n",
       "        vertical-align: middle;\n",
       "    }\n",
       "\n",
       "    .dataframe tbody tr th {\n",
       "        vertical-align: top;\n",
       "    }\n",
       "\n",
       "    .dataframe thead th {\n",
       "        text-align: right;\n",
       "    }\n",
       "</style>\n",
       "<table border=\"1\" class=\"dataframe\">\n",
       "  <thead>\n",
       "    <tr style=\"text-align: right;\">\n",
       "      <th></th>\n",
       "      <th>day</th>\n",
       "      <th>price</th>\n",
       "      <th>vol</th>\n",
       "      <th>color</th>\n",
       "    </tr>\n",
       "  </thead>\n",
       "  <tbody>\n",
       "    <tr>\n",
       "      <th>3</th>\n",
       "      <td>8/9/2019</td>\n",
       "      <td>34</td>\n",
       "      <td>40</td>\n",
       "      <td>blue</td>\n",
       "    </tr>\n",
       "    <tr>\n",
       "      <th>4</th>\n",
       "      <td>10/11/2020</td>\n",
       "      <td>32</td>\n",
       "      <td>56</td>\n",
       "      <td>orange</td>\n",
       "    </tr>\n",
       "    <tr>\n",
       "      <th>6</th>\n",
       "      <td>1/2/2021</td>\n",
       "      <td>34</td>\n",
       "      <td>68</td>\n",
       "      <td>cyan</td>\n",
       "    </tr>\n",
       "    <tr>\n",
       "      <th>7</th>\n",
       "      <td>1/3/2021</td>\n",
       "      <td>42</td>\n",
       "      <td>40</td>\n",
       "      <td>violet</td>\n",
       "    </tr>\n",
       "  </tbody>\n",
       "</table>\n",
       "</div>"
      ],
      "text/plain": [
       "          day  price  vol   color\n",
       "3    8/9/2019     34   40    blue\n",
       "4  10/11/2020     32   56  orange\n",
       "6    1/2/2021     34   68    cyan\n",
       "7    1/3/2021     42   40  violet"
      ]
     },
     "execution_count": 14,
     "metadata": {},
     "output_type": "execute_result"
    }
   ],
   "source": [
    "df.loc[df['vol'] > 30]"
   ]
  },
  {
   "cell_type": "code",
   "execution_count": 15,
   "id": "674f8d2f",
   "metadata": {},
   "outputs": [
    {
     "data": {
      "text/html": [
       "<div>\n",
       "<style scoped>\n",
       "    .dataframe tbody tr th:only-of-type {\n",
       "        vertical-align: middle;\n",
       "    }\n",
       "\n",
       "    .dataframe tbody tr th {\n",
       "        vertical-align: top;\n",
       "    }\n",
       "\n",
       "    .dataframe thead th {\n",
       "        text-align: right;\n",
       "    }\n",
       "</style>\n",
       "<table border=\"1\" class=\"dataframe\">\n",
       "  <thead>\n",
       "    <tr style=\"text-align: right;\">\n",
       "      <th></th>\n",
       "      <th>day</th>\n",
       "      <th>price</th>\n",
       "      <th>vol</th>\n",
       "      <th>color</th>\n",
       "    </tr>\n",
       "  </thead>\n",
       "  <tbody>\n",
       "    <tr>\n",
       "      <th>3</th>\n",
       "      <td>8/9/2019</td>\n",
       "      <td>34</td>\n",
       "      <td>40</td>\n",
       "      <td>blue</td>\n",
       "    </tr>\n",
       "    <tr>\n",
       "      <th>4</th>\n",
       "      <td>10/11/2020</td>\n",
       "      <td>32</td>\n",
       "      <td>56</td>\n",
       "      <td>orange</td>\n",
       "    </tr>\n",
       "    <tr>\n",
       "      <th>6</th>\n",
       "      <td>1/2/2021</td>\n",
       "      <td>34</td>\n",
       "      <td>68</td>\n",
       "      <td>cyan</td>\n",
       "    </tr>\n",
       "    <tr>\n",
       "      <th>7</th>\n",
       "      <td>1/3/2021</td>\n",
       "      <td>42</td>\n",
       "      <td>40</td>\n",
       "      <td>violet</td>\n",
       "    </tr>\n",
       "  </tbody>\n",
       "</table>\n",
       "</div>"
      ],
      "text/plain": [
       "          day  price  vol   color\n",
       "3    8/9/2019     34   40    blue\n",
       "4  10/11/2020     32   56  orange\n",
       "6    1/2/2021     34   68    cyan\n",
       "7    1/3/2021     42   40  violet"
      ]
     },
     "execution_count": 15,
     "metadata": {},
     "output_type": "execute_result"
    }
   ],
   "source": [
    "df[df.vol > 30]"
   ]
  },
  {
   "cell_type": "code",
   "execution_count": 16,
   "id": "257bce40",
   "metadata": {},
   "outputs": [
    {
     "data": {
      "text/html": [
       "<div>\n",
       "<style scoped>\n",
       "    .dataframe tbody tr th:only-of-type {\n",
       "        vertical-align: middle;\n",
       "    }\n",
       "\n",
       "    .dataframe tbody tr th {\n",
       "        vertical-align: top;\n",
       "    }\n",
       "\n",
       "    .dataframe thead th {\n",
       "        text-align: right;\n",
       "    }\n",
       "</style>\n",
       "<table border=\"1\" class=\"dataframe\">\n",
       "  <thead>\n",
       "    <tr style=\"text-align: right;\">\n",
       "      <th></th>\n",
       "      <th>day</th>\n",
       "      <th>color</th>\n",
       "    </tr>\n",
       "  </thead>\n",
       "  <tbody>\n",
       "    <tr>\n",
       "      <th>0</th>\n",
       "      <td>2/3/2018</td>\n",
       "      <td>red</td>\n",
       "    </tr>\n",
       "    <tr>\n",
       "      <th>1</th>\n",
       "      <td>4/5/2018</td>\n",
       "      <td>yellow</td>\n",
       "    </tr>\n",
       "    <tr>\n",
       "      <th>2</th>\n",
       "      <td>6/7/2019</td>\n",
       "      <td>green</td>\n",
       "    </tr>\n",
       "    <tr>\n",
       "      <th>3</th>\n",
       "      <td>8/9/2019</td>\n",
       "      <td>blue</td>\n",
       "    </tr>\n",
       "    <tr>\n",
       "      <th>4</th>\n",
       "      <td>10/11/2020</td>\n",
       "      <td>orange</td>\n",
       "    </tr>\n",
       "    <tr>\n",
       "      <th>5</th>\n",
       "      <td>12/13/2020</td>\n",
       "      <td>magenta</td>\n",
       "    </tr>\n",
       "    <tr>\n",
       "      <th>6</th>\n",
       "      <td>1/2/2021</td>\n",
       "      <td>cyan</td>\n",
       "    </tr>\n",
       "    <tr>\n",
       "      <th>7</th>\n",
       "      <td>1/3/2021</td>\n",
       "      <td>violet</td>\n",
       "    </tr>\n",
       "  </tbody>\n",
       "</table>\n",
       "</div>"
      ],
      "text/plain": [
       "          day    color\n",
       "0    2/3/2018      red\n",
       "1    4/5/2018   yellow\n",
       "2    6/7/2019    green\n",
       "3    8/9/2019     blue\n",
       "4  10/11/2020   orange\n",
       "5  12/13/2020  magenta\n",
       "6    1/2/2021     cyan\n",
       "7    1/3/2021   violet"
      ]
     },
     "execution_count": 16,
     "metadata": {},
     "output_type": "execute_result"
    }
   ],
   "source": [
    "# Show columns from a list\n",
    "df[[\"day\", \"color\"]]"
   ]
  },
  {
   "cell_type": "code",
   "execution_count": 17,
   "id": "8edad026",
   "metadata": {},
   "outputs": [
    {
     "data": {
      "text/plain": [
       "[0     24\n",
       " 1     24\n",
       " 2     50\n",
       " 3     80\n",
       " 4    112\n",
       " 5     24\n",
       " 6    136\n",
       " 7     80\n",
       " Name: vol, dtype: int64]"
      ]
     },
     "execution_count": 17,
     "metadata": {},
     "output_type": "execute_result"
    }
   ],
   "source": [
    "# Vector-style operations on a column\n",
    "[2 * df.vol]"
   ]
  },
  {
   "cell_type": "code",
   "execution_count": 18,
   "id": "4aa5baf9",
   "metadata": {},
   "outputs": [
    {
     "data": {
      "text/html": [
       "<div>\n",
       "<style scoped>\n",
       "    .dataframe tbody tr th:only-of-type {\n",
       "        vertical-align: middle;\n",
       "    }\n",
       "\n",
       "    .dataframe tbody tr th {\n",
       "        vertical-align: top;\n",
       "    }\n",
       "\n",
       "    .dataframe thead th {\n",
       "        text-align: right;\n",
       "    }\n",
       "</style>\n",
       "<table border=\"1\" class=\"dataframe\">\n",
       "  <thead>\n",
       "    <tr style=\"text-align: right;\">\n",
       "      <th></th>\n",
       "      <th>day</th>\n",
       "      <th>price</th>\n",
       "      <th>vol</th>\n",
       "      <th>color</th>\n",
       "    </tr>\n",
       "  </thead>\n",
       "  <tbody>\n",
       "    <tr>\n",
       "      <th>3</th>\n",
       "      <td>8/9/2019</td>\n",
       "      <td>34</td>\n",
       "      <td>40</td>\n",
       "      <td>blue</td>\n",
       "    </tr>\n",
       "    <tr>\n",
       "      <th>6</th>\n",
       "      <td>1/2/2021</td>\n",
       "      <td>34</td>\n",
       "      <td>68</td>\n",
       "      <td>cyan</td>\n",
       "    </tr>\n",
       "    <tr>\n",
       "      <th>7</th>\n",
       "      <td>1/3/2021</td>\n",
       "      <td>42</td>\n",
       "      <td>40</td>\n",
       "      <td>violet</td>\n",
       "    </tr>\n",
       "  </tbody>\n",
       "</table>\n",
       "</div>"
      ],
      "text/plain": [
       "        day  price  vol   color\n",
       "3  8/9/2019     34   40    blue\n",
       "6  1/2/2021     34   68    cyan\n",
       "7  1/3/2021     42   40  violet"
      ]
     },
     "execution_count": 18,
     "metadata": {},
     "output_type": "execute_result"
    }
   ],
   "source": [
    "# Query\n",
    "df.query('vol > 30 and price > 32')"
   ]
  },
  {
   "cell_type": "code",
   "execution_count": 19,
   "id": "7e812d50",
   "metadata": {},
   "outputs": [
    {
     "data": {
      "text/html": [
       "<div>\n",
       "<style scoped>\n",
       "    .dataframe tbody tr th:only-of-type {\n",
       "        vertical-align: middle;\n",
       "    }\n",
       "\n",
       "    .dataframe tbody tr th {\n",
       "        vertical-align: top;\n",
       "    }\n",
       "\n",
       "    .dataframe thead th {\n",
       "        text-align: right;\n",
       "    }\n",
       "</style>\n",
       "<table border=\"1\" class=\"dataframe\">\n",
       "  <thead>\n",
       "    <tr style=\"text-align: right;\">\n",
       "      <th></th>\n",
       "      <th>day</th>\n",
       "      <th>price</th>\n",
       "      <th>vol</th>\n",
       "      <th>color</th>\n",
       "    </tr>\n",
       "  </thead>\n",
       "  <tbody>\n",
       "    <tr>\n",
       "      <th>7</th>\n",
       "      <td>1/3/2021</td>\n",
       "      <td>42</td>\n",
       "      <td>40</td>\n",
       "      <td>violet</td>\n",
       "    </tr>\n",
       "  </tbody>\n",
       "</table>\n",
       "</div>"
      ],
      "text/plain": [
       "        day  price  vol   color\n",
       "7  1/3/2021     42   40  violet"
      ]
     },
     "execution_count": 19,
     "metadata": {},
     "output_type": "execute_result"
    }
   ],
   "source": [
    "# Select a random row\n",
    "df.sample()"
   ]
  },
  {
   "cell_type": "code",
   "execution_count": 20,
   "id": "e86c4eab",
   "metadata": {},
   "outputs": [
    {
     "data": {
      "text/html": [
       "<div>\n",
       "<style scoped>\n",
       "    .dataframe tbody tr th:only-of-type {\n",
       "        vertical-align: middle;\n",
       "    }\n",
       "\n",
       "    .dataframe tbody tr th {\n",
       "        vertical-align: top;\n",
       "    }\n",
       "\n",
       "    .dataframe thead th {\n",
       "        text-align: right;\n",
       "    }\n",
       "</style>\n",
       "<table border=\"1\" class=\"dataframe\">\n",
       "  <thead>\n",
       "    <tr style=\"text-align: right;\">\n",
       "      <th></th>\n",
       "      <th>day</th>\n",
       "      <th>price</th>\n",
       "      <th>vol</th>\n",
       "      <th>color</th>\n",
       "    </tr>\n",
       "  </thead>\n",
       "  <tbody>\n",
       "    <tr>\n",
       "      <th>3</th>\n",
       "      <td>8/9/2019</td>\n",
       "      <td>34</td>\n",
       "      <td>40</td>\n",
       "      <td>blue</td>\n",
       "    </tr>\n",
       "    <tr>\n",
       "      <th>2</th>\n",
       "      <td>6/7/2019</td>\n",
       "      <td>20</td>\n",
       "      <td>25</td>\n",
       "      <td>green</td>\n",
       "    </tr>\n",
       "  </tbody>\n",
       "</table>\n",
       "</div>"
      ],
      "text/plain": [
       "        day  price  vol  color\n",
       "3  8/9/2019     34   40   blue\n",
       "2  6/7/2019     20   25  green"
      ]
     },
     "execution_count": 20,
     "metadata": {},
     "output_type": "execute_result"
    }
   ],
   "source": [
    "# Select n random rows\n",
    "df.sample(n=2)"
   ]
  },
  {
   "cell_type": "code",
   "execution_count": 21,
   "id": "49c2765a",
   "metadata": {},
   "outputs": [
    {
     "data": {
      "text/html": [
       "<div>\n",
       "<style scoped>\n",
       "    .dataframe tbody tr th:only-of-type {\n",
       "        vertical-align: middle;\n",
       "    }\n",
       "\n",
       "    .dataframe tbody tr th {\n",
       "        vertical-align: top;\n",
       "    }\n",
       "\n",
       "    .dataframe thead th {\n",
       "        text-align: right;\n",
       "    }\n",
       "</style>\n",
       "<table border=\"1\" class=\"dataframe\">\n",
       "  <thead>\n",
       "    <tr style=\"text-align: right;\">\n",
       "      <th></th>\n",
       "      <th>variable</th>\n",
       "      <th>value</th>\n",
       "    </tr>\n",
       "  </thead>\n",
       "  <tbody>\n",
       "    <tr>\n",
       "      <th>0</th>\n",
       "      <td>day</td>\n",
       "      <td>2/3/2018</td>\n",
       "    </tr>\n",
       "    <tr>\n",
       "      <th>1</th>\n",
       "      <td>day</td>\n",
       "      <td>4/5/2018</td>\n",
       "    </tr>\n",
       "    <tr>\n",
       "      <th>2</th>\n",
       "      <td>day</td>\n",
       "      <td>6/7/2019</td>\n",
       "    </tr>\n",
       "    <tr>\n",
       "      <th>3</th>\n",
       "      <td>day</td>\n",
       "      <td>8/9/2019</td>\n",
       "    </tr>\n",
       "    <tr>\n",
       "      <th>4</th>\n",
       "      <td>day</td>\n",
       "      <td>10/11/2020</td>\n",
       "    </tr>\n",
       "    <tr>\n",
       "      <th>5</th>\n",
       "      <td>day</td>\n",
       "      <td>12/13/2020</td>\n",
       "    </tr>\n",
       "    <tr>\n",
       "      <th>6</th>\n",
       "      <td>day</td>\n",
       "      <td>1/2/2021</td>\n",
       "    </tr>\n",
       "    <tr>\n",
       "      <th>7</th>\n",
       "      <td>day</td>\n",
       "      <td>1/3/2021</td>\n",
       "    </tr>\n",
       "    <tr>\n",
       "      <th>8</th>\n",
       "      <td>price</td>\n",
       "      <td>10</td>\n",
       "    </tr>\n",
       "    <tr>\n",
       "      <th>9</th>\n",
       "      <td>price</td>\n",
       "      <td>12</td>\n",
       "    </tr>\n",
       "    <tr>\n",
       "      <th>10</th>\n",
       "      <td>price</td>\n",
       "      <td>20</td>\n",
       "    </tr>\n",
       "    <tr>\n",
       "      <th>11</th>\n",
       "      <td>price</td>\n",
       "      <td>34</td>\n",
       "    </tr>\n",
       "    <tr>\n",
       "      <th>12</th>\n",
       "      <td>price</td>\n",
       "      <td>32</td>\n",
       "    </tr>\n",
       "    <tr>\n",
       "      <th>13</th>\n",
       "      <td>price</td>\n",
       "      <td>40</td>\n",
       "    </tr>\n",
       "    <tr>\n",
       "      <th>14</th>\n",
       "      <td>price</td>\n",
       "      <td>34</td>\n",
       "    </tr>\n",
       "    <tr>\n",
       "      <th>15</th>\n",
       "      <td>price</td>\n",
       "      <td>42</td>\n",
       "    </tr>\n",
       "    <tr>\n",
       "      <th>16</th>\n",
       "      <td>vol</td>\n",
       "      <td>12</td>\n",
       "    </tr>\n",
       "    <tr>\n",
       "      <th>17</th>\n",
       "      <td>vol</td>\n",
       "      <td>12</td>\n",
       "    </tr>\n",
       "    <tr>\n",
       "      <th>18</th>\n",
       "      <td>vol</td>\n",
       "      <td>25</td>\n",
       "    </tr>\n",
       "    <tr>\n",
       "      <th>19</th>\n",
       "      <td>vol</td>\n",
       "      <td>40</td>\n",
       "    </tr>\n",
       "    <tr>\n",
       "      <th>20</th>\n",
       "      <td>vol</td>\n",
       "      <td>56</td>\n",
       "    </tr>\n",
       "    <tr>\n",
       "      <th>21</th>\n",
       "      <td>vol</td>\n",
       "      <td>12</td>\n",
       "    </tr>\n",
       "    <tr>\n",
       "      <th>22</th>\n",
       "      <td>vol</td>\n",
       "      <td>68</td>\n",
       "    </tr>\n",
       "    <tr>\n",
       "      <th>23</th>\n",
       "      <td>vol</td>\n",
       "      <td>40</td>\n",
       "    </tr>\n",
       "    <tr>\n",
       "      <th>24</th>\n",
       "      <td>color</td>\n",
       "      <td>red</td>\n",
       "    </tr>\n",
       "    <tr>\n",
       "      <th>25</th>\n",
       "      <td>color</td>\n",
       "      <td>yellow</td>\n",
       "    </tr>\n",
       "    <tr>\n",
       "      <th>26</th>\n",
       "      <td>color</td>\n",
       "      <td>green</td>\n",
       "    </tr>\n",
       "    <tr>\n",
       "      <th>27</th>\n",
       "      <td>color</td>\n",
       "      <td>blue</td>\n",
       "    </tr>\n",
       "    <tr>\n",
       "      <th>28</th>\n",
       "      <td>color</td>\n",
       "      <td>orange</td>\n",
       "    </tr>\n",
       "    <tr>\n",
       "      <th>29</th>\n",
       "      <td>color</td>\n",
       "      <td>magenta</td>\n",
       "    </tr>\n",
       "    <tr>\n",
       "      <th>30</th>\n",
       "      <td>color</td>\n",
       "      <td>cyan</td>\n",
       "    </tr>\n",
       "    <tr>\n",
       "      <th>31</th>\n",
       "      <td>color</td>\n",
       "      <td>violet</td>\n",
       "    </tr>\n",
       "  </tbody>\n",
       "</table>\n",
       "</div>"
      ],
      "text/plain": [
       "   variable       value\n",
       "0       day    2/3/2018\n",
       "1       day    4/5/2018\n",
       "2       day    6/7/2019\n",
       "3       day    8/9/2019\n",
       "4       day  10/11/2020\n",
       "5       day  12/13/2020\n",
       "6       day    1/2/2021\n",
       "7       day    1/3/2021\n",
       "8     price          10\n",
       "9     price          12\n",
       "10    price          20\n",
       "11    price          34\n",
       "12    price          32\n",
       "13    price          40\n",
       "14    price          34\n",
       "15    price          42\n",
       "16      vol          12\n",
       "17      vol          12\n",
       "18      vol          25\n",
       "19      vol          40\n",
       "20      vol          56\n",
       "21      vol          12\n",
       "22      vol          68\n",
       "23      vol          40\n",
       "24    color         red\n",
       "25    color      yellow\n",
       "26    color       green\n",
       "27    color        blue\n",
       "28    color      orange\n",
       "29    color     magenta\n",
       "30    color        cyan\n",
       "31    color      violet"
      ]
     },
     "execution_count": 21,
     "metadata": {},
     "output_type": "execute_result"
    }
   ],
   "source": [
    "pd.melt(df)"
   ]
  },
  {
   "cell_type": "markdown",
   "id": "d00f4e91",
   "metadata": {},
   "source": [
    "## Summarization"
   ]
  },
  {
   "cell_type": "code",
   "execution_count": 22,
   "id": "b3b8ef8c",
   "metadata": {},
   "outputs": [
    {
     "data": {
      "text/html": [
       "<div>\n",
       "<style scoped>\n",
       "    .dataframe tbody tr th:only-of-type {\n",
       "        vertical-align: middle;\n",
       "    }\n",
       "\n",
       "    .dataframe tbody tr th {\n",
       "        vertical-align: top;\n",
       "    }\n",
       "\n",
       "    .dataframe thead th {\n",
       "        text-align: right;\n",
       "    }\n",
       "</style>\n",
       "<table border=\"1\" class=\"dataframe\">\n",
       "  <thead>\n",
       "    <tr style=\"text-align: right;\">\n",
       "      <th></th>\n",
       "      <th>price</th>\n",
       "      <th>vol</th>\n",
       "    </tr>\n",
       "  </thead>\n",
       "  <tbody>\n",
       "    <tr>\n",
       "      <th>count</th>\n",
       "      <td>8.00000</td>\n",
       "      <td>8.00000</td>\n",
       "    </tr>\n",
       "    <tr>\n",
       "      <th>mean</th>\n",
       "      <td>28.00000</td>\n",
       "      <td>33.12500</td>\n",
       "    </tr>\n",
       "    <tr>\n",
       "      <th>std</th>\n",
       "      <td>12.37509</td>\n",
       "      <td>21.51038</td>\n",
       "    </tr>\n",
       "    <tr>\n",
       "      <th>min</th>\n",
       "      <td>10.00000</td>\n",
       "      <td>12.00000</td>\n",
       "    </tr>\n",
       "    <tr>\n",
       "      <th>25%</th>\n",
       "      <td>18.00000</td>\n",
       "      <td>12.00000</td>\n",
       "    </tr>\n",
       "    <tr>\n",
       "      <th>50%</th>\n",
       "      <td>33.00000</td>\n",
       "      <td>32.50000</td>\n",
       "    </tr>\n",
       "    <tr>\n",
       "      <th>75%</th>\n",
       "      <td>35.50000</td>\n",
       "      <td>44.00000</td>\n",
       "    </tr>\n",
       "    <tr>\n",
       "      <th>max</th>\n",
       "      <td>42.00000</td>\n",
       "      <td>68.00000</td>\n",
       "    </tr>\n",
       "  </tbody>\n",
       "</table>\n",
       "</div>"
      ],
      "text/plain": [
       "          price       vol\n",
       "count   8.00000   8.00000\n",
       "mean   28.00000  33.12500\n",
       "std    12.37509  21.51038\n",
       "min    10.00000  12.00000\n",
       "25%    18.00000  12.00000\n",
       "50%    33.00000  32.50000\n",
       "75%    35.50000  44.00000\n",
       "max    42.00000  68.00000"
      ]
     },
     "execution_count": 22,
     "metadata": {},
     "output_type": "execute_result"
    }
   ],
   "source": [
    "df.describe()"
   ]
  },
  {
   "cell_type": "code",
   "execution_count": 23,
   "id": "2c0e1437",
   "metadata": {},
   "outputs": [
    {
     "data": {
      "text/plain": [
       "42"
      ]
     },
     "execution_count": 23,
     "metadata": {},
     "output_type": "execute_result"
    }
   ],
   "source": [
    "# Max of a column\n",
    "max(df.price)"
   ]
  },
  {
   "cell_type": "code",
   "execution_count": 24,
   "id": "57940e40",
   "metadata": {},
   "outputs": [
    {
     "data": {
      "text/plain": [
       "42"
      ]
     },
     "execution_count": 24,
     "metadata": {},
     "output_type": "execute_result"
    }
   ],
   "source": [
    "# Or:\n",
    "df.price.max()"
   ]
  },
  {
   "cell_type": "code",
   "execution_count": 25,
   "id": "79c9c4aa",
   "metadata": {},
   "outputs": [
    {
     "data": {
      "text/plain": [
       "33.125"
      ]
     },
     "execution_count": 25,
     "metadata": {},
     "output_type": "execute_result"
    }
   ],
   "source": [
    "# Mean of a column\n",
    "df.vol.mean()"
   ]
  },
  {
   "cell_type": "code",
   "execution_count": 26,
   "id": "61019372",
   "metadata": {},
   "outputs": [
    {
     "data": {
      "text/plain": [
       "265"
      ]
     },
     "execution_count": 26,
     "metadata": {},
     "output_type": "execute_result"
    }
   ],
   "source": [
    "sum(df.vol)"
   ]
  },
  {
   "cell_type": "code",
   "execution_count": 27,
   "id": "42fba1cd",
   "metadata": {},
   "outputs": [
    {
     "data": {
      "text/plain": [
       "0     12.0\n",
       "1     24.0\n",
       "2     49.0\n",
       "3     89.0\n",
       "4    145.0\n",
       "5    157.0\n",
       "6    225.0\n",
       "7    265.0\n",
       "Name: vol, dtype: float64"
      ]
     },
     "execution_count": 27,
     "metadata": {},
     "output_type": "execute_result"
    }
   ],
   "source": [
    "# Calculate a running sum with .expanding\n",
    "df.vol.expanding(1).sum()"
   ]
  },
  {
   "cell_type": "code",
   "execution_count": 28,
   "id": "d4c19c02",
   "metadata": {},
   "outputs": [
    {
     "data": {
      "text/plain": [
       "vol\n",
       "12    3\n",
       "40    2\n",
       "25    1\n",
       "56    1\n",
       "68    1\n",
       "Name: count, dtype: int64"
      ]
     },
     "execution_count": 28,
     "metadata": {},
     "output_type": "execute_result"
    }
   ],
   "source": [
    "# Count a column by unique values\n",
    "df.vol.value_counts()"
   ]
  },
  {
   "cell_type": "code",
   "execution_count": 29,
   "id": "b6d51b97",
   "metadata": {},
   "outputs": [
    {
     "data": {
      "text/plain": [
       "0    15\n",
       "1    15\n",
       "2    25\n",
       "3    40\n",
       "4    55\n",
       "5    15\n",
       "6    55\n",
       "7    40\n",
       "Name: vol, dtype: int64"
      ]
     },
     "execution_count": 29,
     "metadata": {},
     "output_type": "execute_result"
    }
   ],
   "source": [
    "# Enforce boundary values with .clip\n",
    "df.vol.clip(lower=15, upper=55)"
   ]
  },
  {
   "cell_type": "code",
   "execution_count": 30,
   "id": "e7c686da",
   "metadata": {},
   "outputs": [
    {
     "data": {
      "text/html": [
       "<div>\n",
       "<style scoped>\n",
       "    .dataframe tbody tr th:only-of-type {\n",
       "        vertical-align: middle;\n",
       "    }\n",
       "\n",
       "    .dataframe tbody tr th {\n",
       "        vertical-align: top;\n",
       "    }\n",
       "\n",
       "    .dataframe thead th {\n",
       "        text-align: right;\n",
       "    }\n",
       "</style>\n",
       "<table border=\"1\" class=\"dataframe\">\n",
       "  <thead>\n",
       "    <tr style=\"text-align: right;\">\n",
       "      <th></th>\n",
       "      <th>state</th>\n",
       "      <th>val</th>\n",
       "    </tr>\n",
       "  </thead>\n",
       "  <tbody>\n",
       "    <tr>\n",
       "      <th>0</th>\n",
       "      <td>CA</td>\n",
       "      <td>46</td>\n",
       "    </tr>\n",
       "    <tr>\n",
       "      <th>1</th>\n",
       "      <td>CA</td>\n",
       "      <td>88</td>\n",
       "    </tr>\n",
       "    <tr>\n",
       "      <th>2</th>\n",
       "      <td>NY</td>\n",
       "      <td>11</td>\n",
       "    </tr>\n",
       "    <tr>\n",
       "      <th>3</th>\n",
       "      <td>WA</td>\n",
       "      <td>38</td>\n",
       "    </tr>\n",
       "    <tr>\n",
       "      <th>4</th>\n",
       "      <td>CO</td>\n",
       "      <td>73</td>\n",
       "    </tr>\n",
       "  </tbody>\n",
       "</table>\n",
       "</div>"
      ],
      "text/plain": [
       "  state  val\n",
       "0    CA   46\n",
       "1    CA   88\n",
       "2    NY   11\n",
       "3    WA   38\n",
       "4    CO   73"
      ]
     },
     "execution_count": 30,
     "metadata": {},
     "output_type": "execute_result"
    }
   ],
   "source": [
    "import random\n",
    "\n",
    "df2 = pd.DataFrame({\n",
    "    \"state\": [\"CA\", \"CA\", \"NY\", \"WA\", \"CO\", \"FL\", \"CO\", \"NY\", \"CA\", \"NY\", \"IL\", \"WA\", \"IL\", \"NY\", \"MA\", \"MS\", \"TX\", \"CA\", \"WA\", \"CO\"],\n",
    "    \"val\": [random.randint(0, 100) for _ in range(20)]\n",
    "})\n",
    "df2.head()"
   ]
  },
  {
   "cell_type": "code",
   "execution_count": 31,
   "id": "fc6c369c",
   "metadata": {},
   "outputs": [
    {
     "data": {
      "text/html": [
       "<div>\n",
       "<style scoped>\n",
       "    .dataframe tbody tr th:only-of-type {\n",
       "        vertical-align: middle;\n",
       "    }\n",
       "\n",
       "    .dataframe tbody tr th {\n",
       "        vertical-align: top;\n",
       "    }\n",
       "\n",
       "    .dataframe thead th {\n",
       "        text-align: right;\n",
       "    }\n",
       "</style>\n",
       "<table border=\"1\" class=\"dataframe\">\n",
       "  <thead>\n",
       "    <tr style=\"text-align: right;\">\n",
       "      <th></th>\n",
       "      <th>val</th>\n",
       "    </tr>\n",
       "    <tr>\n",
       "      <th>state</th>\n",
       "      <th></th>\n",
       "    </tr>\n",
       "  </thead>\n",
       "  <tbody>\n",
       "    <tr>\n",
       "      <th>CA</th>\n",
       "      <td>4</td>\n",
       "    </tr>\n",
       "    <tr>\n",
       "      <th>NY</th>\n",
       "      <td>4</td>\n",
       "    </tr>\n",
       "    <tr>\n",
       "      <th>CO</th>\n",
       "      <td>3</td>\n",
       "    </tr>\n",
       "    <tr>\n",
       "      <th>WA</th>\n",
       "      <td>3</td>\n",
       "    </tr>\n",
       "    <tr>\n",
       "      <th>IL</th>\n",
       "      <td>2</td>\n",
       "    </tr>\n",
       "    <tr>\n",
       "      <th>FL</th>\n",
       "      <td>1</td>\n",
       "    </tr>\n",
       "    <tr>\n",
       "      <th>MA</th>\n",
       "      <td>1</td>\n",
       "    </tr>\n",
       "    <tr>\n",
       "      <th>MS</th>\n",
       "      <td>1</td>\n",
       "    </tr>\n",
       "    <tr>\n",
       "      <th>TX</th>\n",
       "      <td>1</td>\n",
       "    </tr>\n",
       "  </tbody>\n",
       "</table>\n",
       "</div>"
      ],
      "text/plain": [
       "       val\n",
       "state     \n",
       "CA       4\n",
       "NY       4\n",
       "CO       3\n",
       "WA       3\n",
       "IL       2\n",
       "FL       1\n",
       "MA       1\n",
       "MS       1\n",
       "TX       1"
      ]
     },
     "execution_count": 31,
     "metadata": {},
     "output_type": "execute_result"
    }
   ],
   "source": [
    "# Count values by a column with .groupby\n",
    "# Sort by a different column with .sort_values\n",
    "df2.groupby(by=\"state\").count().sort_values('val', ascending=False)"
   ]
  },
  {
   "cell_type": "code",
   "execution_count": 32,
   "id": "12493c02",
   "metadata": {},
   "outputs": [
    {
     "data": {
      "text/plain": [
       "9"
      ]
     },
     "execution_count": 32,
     "metadata": {},
     "output_type": "execute_result"
    }
   ],
   "source": [
    "# The number of unique values in a column\n",
    "df2['state'].nunique()"
   ]
  },
  {
   "cell_type": "code",
   "execution_count": 33,
   "id": "7dbb6f54",
   "metadata": {},
   "outputs": [
    {
     "data": {
      "text/plain": [
       "0      46\n",
       "1     134\n",
       "2     145\n",
       "3     183\n",
       "4     256\n",
       "5     272\n",
       "6     352\n",
       "7     437\n",
       "8     481\n",
       "9     503\n",
       "10    572\n",
       "11    579\n",
       "12    618\n",
       "13    702\n",
       "14    774\n",
       "15    785\n",
       "16    841\n",
       "17    929\n",
       "18    964\n",
       "19    992\n",
       "Name: val, dtype: int64"
      ]
     },
     "execution_count": 33,
     "metadata": {},
     "output_type": "execute_result"
    }
   ],
   "source": [
    "# Cumulative sum of a column\n",
    "df2.val.cumsum()"
   ]
  },
  {
   "cell_type": "code",
   "execution_count": 34,
   "id": "fa610586",
   "metadata": {},
   "outputs": [
    {
     "data": {
      "text/plain": [
       "0     46\n",
       "1     88\n",
       "2     88\n",
       "3     88\n",
       "4     88\n",
       "5     88\n",
       "6     88\n",
       "7     88\n",
       "8     88\n",
       "9     88\n",
       "10    88\n",
       "11    88\n",
       "12    88\n",
       "13    88\n",
       "14    88\n",
       "15    88\n",
       "16    88\n",
       "17    88\n",
       "18    88\n",
       "19    88\n",
       "Name: val, dtype: int64"
      ]
     },
     "execution_count": 34,
     "metadata": {},
     "output_type": "execute_result"
    }
   ],
   "source": [
    "# Cumulative max of a column\n",
    "df2.val.cummax()"
   ]
  },
  {
   "cell_type": "code",
   "execution_count": 35,
   "id": "2e467d6a",
   "metadata": {},
   "outputs": [
    {
     "data": {
      "text/plain": [
       "0                      46\n",
       "1                    4048\n",
       "2                   44528\n",
       "3                 1692064\n",
       "4               123520672\n",
       "5              1976330752\n",
       "6            158106460160\n",
       "7          13439049113600\n",
       "8         591318160998400\n",
       "9       13008999541964800\n",
       "10     897620968395571200\n",
       "11    6283346778768998400\n",
       "12    5242851413766766592\n",
       "13   -2322339012620845056\n",
       "14   -1187712245314879488\n",
       "15    5381909375245877248\n",
       "16    6239019834416300032\n",
       "17   -4368576782652145664\n",
       "18   -5326234803148685312\n",
       "19   -1560621898486775808\n",
       "Name: val, dtype: int64"
      ]
     },
     "execution_count": 35,
     "metadata": {},
     "output_type": "execute_result"
    }
   ],
   "source": [
    "# Cumulative product of a column\n",
    "df2.val.cumprod()"
   ]
  },
  {
   "cell_type": "code",
   "execution_count": 36,
   "id": "23f0fbb1",
   "metadata": {},
   "outputs": [
    {
     "data": {
      "text/html": [
       "<div>\n",
       "<style scoped>\n",
       "    .dataframe tbody tr th:only-of-type {\n",
       "        vertical-align: middle;\n",
       "    }\n",
       "\n",
       "    .dataframe tbody tr th {\n",
       "        vertical-align: top;\n",
       "    }\n",
       "\n",
       "    .dataframe thead th {\n",
       "        text-align: right;\n",
       "    }\n",
       "</style>\n",
       "<table border=\"1\" class=\"dataframe\">\n",
       "  <thead>\n",
       "    <tr style=\"text-align: right;\">\n",
       "      <th></th>\n",
       "      <th>state</th>\n",
       "      <th>val</th>\n",
       "    </tr>\n",
       "  </thead>\n",
       "  <tbody>\n",
       "    <tr>\n",
       "      <th>0</th>\n",
       "      <td>WA</td>\n",
       "      <td>80</td>\n",
       "    </tr>\n",
       "    <tr>\n",
       "      <th>1</th>\n",
       "      <td>MI</td>\n",
       "      <td>80</td>\n",
       "    </tr>\n",
       "    <tr>\n",
       "      <th>2</th>\n",
       "      <td>WA</td>\n",
       "      <td>41</td>\n",
       "    </tr>\n",
       "    <tr>\n",
       "      <th>3</th>\n",
       "      <td>AK</td>\n",
       "      <td>84</td>\n",
       "    </tr>\n",
       "    <tr>\n",
       "      <th>4</th>\n",
       "      <td>FL</td>\n",
       "      <td>48</td>\n",
       "    </tr>\n",
       "  </tbody>\n",
       "</table>\n",
       "</div>"
      ],
      "text/plain": [
       "  state  val\n",
       "0    WA   80\n",
       "1    MI   80\n",
       "2    WA   41\n",
       "3    AK   84\n",
       "4    FL   48"
      ]
     },
     "execution_count": 36,
     "metadata": {},
     "output_type": "execute_result"
    }
   ],
   "source": [
    "df3 = pd.DataFrame({\n",
    "    \"state\": [\"WA\", \"MI\", \"WA\", \"AK\", \"FL\", \"IL\", \"CA\", \"RI\", \"MI\", \"IL\", \"TX\", \"OR\", \"AL\", \"TX\", \"MS\", \"MA\", \"OK\", \"WA\", \"WA\", \"CO\"],\n",
    "    \"val\": [random.randint(0, 100) for _ in range(20)]\n",
    "})\n",
    "df3.head()"
   ]
  },
  {
   "cell_type": "code",
   "execution_count": 37,
   "id": "97eef34d",
   "metadata": {},
   "outputs": [
    {
     "data": {
      "text/plain": [
       "0     CA\n",
       "1     CA\n",
       "3     WA\n",
       "4     CO\n",
       "5     FL\n",
       "6     CO\n",
       "8     CA\n",
       "10    IL\n",
       "11    WA\n",
       "12    IL\n",
       "14    MA\n",
       "15    MS\n",
       "16    TX\n",
       "17    CA\n",
       "18    WA\n",
       "19    CO\n",
       "Name: state, dtype: object"
      ]
     },
     "execution_count": 37,
     "metadata": {},
     "output_type": "execute_result"
    }
   ],
   "source": [
    "# Intersection - values of state in df2 that are also in df3 - .isin\n",
    "df2[df2.state.isin(df3.state)].state"
   ]
  },
  {
   "cell_type": "markdown",
   "id": "7a4eeeae",
   "metadata": {},
   "source": [
    "## Modification"
   ]
  },
  {
   "cell_type": "markdown",
   "id": "a5264736",
   "metadata": {},
   "source": [
    "### Convert date strings to datetimes"
   ]
  },
  {
   "cell_type": "code",
   "execution_count": 38,
   "id": "b7e588d7",
   "metadata": {},
   "outputs": [
    {
     "data": {
      "text/plain": [
       "str"
      ]
     },
     "execution_count": 38,
     "metadata": {},
     "output_type": "execute_result"
    }
   ],
   "source": [
    "type(df.at[0, \"day\"])"
   ]
  },
  {
   "cell_type": "code",
   "execution_count": 39,
   "id": "938351f2",
   "metadata": {},
   "outputs": [
    {
     "data": {
      "text/plain": [
       "Timestamp('2018-02-03 00:00:00')"
      ]
     },
     "execution_count": 39,
     "metadata": {},
     "output_type": "execute_result"
    }
   ],
   "source": [
    "pd.to_datetime(df.at[0, \"day\"])"
   ]
  },
  {
   "cell_type": "code",
   "execution_count": 40,
   "id": "abddd420",
   "metadata": {},
   "outputs": [
    {
     "data": {
      "text/html": [
       "<div>\n",
       "<style scoped>\n",
       "    .dataframe tbody tr th:only-of-type {\n",
       "        vertical-align: middle;\n",
       "    }\n",
       "\n",
       "    .dataframe tbody tr th {\n",
       "        vertical-align: top;\n",
       "    }\n",
       "\n",
       "    .dataframe thead th {\n",
       "        text-align: right;\n",
       "    }\n",
       "</style>\n",
       "<table border=\"1\" class=\"dataframe\">\n",
       "  <thead>\n",
       "    <tr style=\"text-align: right;\">\n",
       "      <th></th>\n",
       "      <th>day</th>\n",
       "      <th>price</th>\n",
       "      <th>vol</th>\n",
       "      <th>color</th>\n",
       "    </tr>\n",
       "  </thead>\n",
       "  <tbody>\n",
       "    <tr>\n",
       "      <th>0</th>\n",
       "      <td>2018-02-03</td>\n",
       "      <td>10</td>\n",
       "      <td>12</td>\n",
       "      <td>red</td>\n",
       "    </tr>\n",
       "    <tr>\n",
       "      <th>1</th>\n",
       "      <td>2018-04-05</td>\n",
       "      <td>12</td>\n",
       "      <td>12</td>\n",
       "      <td>yellow</td>\n",
       "    </tr>\n",
       "    <tr>\n",
       "      <th>2</th>\n",
       "      <td>2019-06-07</td>\n",
       "      <td>20</td>\n",
       "      <td>25</td>\n",
       "      <td>green</td>\n",
       "    </tr>\n",
       "    <tr>\n",
       "      <th>3</th>\n",
       "      <td>2019-08-09</td>\n",
       "      <td>34</td>\n",
       "      <td>40</td>\n",
       "      <td>blue</td>\n",
       "    </tr>\n",
       "    <tr>\n",
       "      <th>4</th>\n",
       "      <td>2020-10-11</td>\n",
       "      <td>32</td>\n",
       "      <td>56</td>\n",
       "      <td>orange</td>\n",
       "    </tr>\n",
       "    <tr>\n",
       "      <th>5</th>\n",
       "      <td>2020-12-13</td>\n",
       "      <td>40</td>\n",
       "      <td>12</td>\n",
       "      <td>magenta</td>\n",
       "    </tr>\n",
       "    <tr>\n",
       "      <th>6</th>\n",
       "      <td>2021-01-02</td>\n",
       "      <td>34</td>\n",
       "      <td>68</td>\n",
       "      <td>cyan</td>\n",
       "    </tr>\n",
       "    <tr>\n",
       "      <th>7</th>\n",
       "      <td>2021-01-03</td>\n",
       "      <td>42</td>\n",
       "      <td>40</td>\n",
       "      <td>violet</td>\n",
       "    </tr>\n",
       "  </tbody>\n",
       "</table>\n",
       "</div>"
      ],
      "text/plain": [
       "         day  price  vol    color\n",
       "0 2018-02-03     10   12      red\n",
       "1 2018-04-05     12   12   yellow\n",
       "2 2019-06-07     20   25    green\n",
       "3 2019-08-09     34   40     blue\n",
       "4 2020-10-11     32   56   orange\n",
       "5 2020-12-13     40   12  magenta\n",
       "6 2021-01-02     34   68     cyan\n",
       "7 2021-01-03     42   40   violet"
      ]
     },
     "execution_count": 40,
     "metadata": {},
     "output_type": "execute_result"
    }
   ],
   "source": [
    "df[\"day\"] = pd.to_datetime(df[\"day\"])\n",
    "df"
   ]
  },
  {
   "cell_type": "markdown",
   "id": "a5036d74",
   "metadata": {},
   "source": [
    "### Add a derived column"
   ]
  },
  {
   "cell_type": "code",
   "execution_count": 41,
   "id": "454d20c8",
   "metadata": {},
   "outputs": [
    {
     "data": {
      "text/html": [
       "<div>\n",
       "<style scoped>\n",
       "    .dataframe tbody tr th:only-of-type {\n",
       "        vertical-align: middle;\n",
       "    }\n",
       "\n",
       "    .dataframe tbody tr th {\n",
       "        vertical-align: top;\n",
       "    }\n",
       "\n",
       "    .dataframe thead th {\n",
       "        text-align: right;\n",
       "    }\n",
       "</style>\n",
       "<table border=\"1\" class=\"dataframe\">\n",
       "  <thead>\n",
       "    <tr style=\"text-align: right;\">\n",
       "      <th></th>\n",
       "      <th>day</th>\n",
       "      <th>price</th>\n",
       "      <th>vol</th>\n",
       "      <th>color</th>\n",
       "      <th>sales</th>\n",
       "    </tr>\n",
       "  </thead>\n",
       "  <tbody>\n",
       "    <tr>\n",
       "      <th>0</th>\n",
       "      <td>2018-02-03</td>\n",
       "      <td>10</td>\n",
       "      <td>12</td>\n",
       "      <td>red</td>\n",
       "      <td>120</td>\n",
       "    </tr>\n",
       "    <tr>\n",
       "      <th>1</th>\n",
       "      <td>2018-04-05</td>\n",
       "      <td>12</td>\n",
       "      <td>12</td>\n",
       "      <td>yellow</td>\n",
       "      <td>144</td>\n",
       "    </tr>\n",
       "    <tr>\n",
       "      <th>2</th>\n",
       "      <td>2019-06-07</td>\n",
       "      <td>20</td>\n",
       "      <td>25</td>\n",
       "      <td>green</td>\n",
       "      <td>500</td>\n",
       "    </tr>\n",
       "    <tr>\n",
       "      <th>3</th>\n",
       "      <td>2019-08-09</td>\n",
       "      <td>34</td>\n",
       "      <td>40</td>\n",
       "      <td>blue</td>\n",
       "      <td>1360</td>\n",
       "    </tr>\n",
       "    <tr>\n",
       "      <th>4</th>\n",
       "      <td>2020-10-11</td>\n",
       "      <td>32</td>\n",
       "      <td>56</td>\n",
       "      <td>orange</td>\n",
       "      <td>1792</td>\n",
       "    </tr>\n",
       "    <tr>\n",
       "      <th>5</th>\n",
       "      <td>2020-12-13</td>\n",
       "      <td>40</td>\n",
       "      <td>12</td>\n",
       "      <td>magenta</td>\n",
       "      <td>480</td>\n",
       "    </tr>\n",
       "    <tr>\n",
       "      <th>6</th>\n",
       "      <td>2021-01-02</td>\n",
       "      <td>34</td>\n",
       "      <td>68</td>\n",
       "      <td>cyan</td>\n",
       "      <td>2312</td>\n",
       "    </tr>\n",
       "    <tr>\n",
       "      <th>7</th>\n",
       "      <td>2021-01-03</td>\n",
       "      <td>42</td>\n",
       "      <td>40</td>\n",
       "      <td>violet</td>\n",
       "      <td>1680</td>\n",
       "    </tr>\n",
       "  </tbody>\n",
       "</table>\n",
       "</div>"
      ],
      "text/plain": [
       "         day  price  vol    color  sales\n",
       "0 2018-02-03     10   12      red    120\n",
       "1 2018-04-05     12   12   yellow    144\n",
       "2 2019-06-07     20   25    green    500\n",
       "3 2019-08-09     34   40     blue   1360\n",
       "4 2020-10-11     32   56   orange   1792\n",
       "5 2020-12-13     40   12  magenta    480\n",
       "6 2021-01-02     34   68     cyan   2312\n",
       "7 2021-01-03     42   40   violet   1680"
      ]
     },
     "execution_count": 41,
     "metadata": {},
     "output_type": "execute_result"
    }
   ],
   "source": [
    "# Add a column that is the result of an operation performed on zero or more other columns.\n",
    "df = df.assign(sales=df.price * df.vol)\n",
    "df"
   ]
  },
  {
   "cell_type": "code",
   "execution_count": 42,
   "id": "5038a88e",
   "metadata": {},
   "outputs": [
    {
     "name": "stdout",
     "output_type": "stream",
     "text": [
      "type(df.color) = <class 'pandas.core.series.Series'>\n"
     ]
    },
    {
     "data": {
      "text/html": [
       "<div>\n",
       "<style scoped>\n",
       "    .dataframe tbody tr th:only-of-type {\n",
       "        vertical-align: middle;\n",
       "    }\n",
       "\n",
       "    .dataframe tbody tr th {\n",
       "        vertical-align: top;\n",
       "    }\n",
       "\n",
       "    .dataframe thead th {\n",
       "        text-align: right;\n",
       "    }\n",
       "</style>\n",
       "<table border=\"1\" class=\"dataframe\">\n",
       "  <thead>\n",
       "    <tr style=\"text-align: right;\">\n",
       "      <th></th>\n",
       "      <th>day</th>\n",
       "      <th>price</th>\n",
       "      <th>vol</th>\n",
       "      <th>color</th>\n",
       "      <th>sales</th>\n",
       "      <th>light_color</th>\n",
       "    </tr>\n",
       "  </thead>\n",
       "  <tbody>\n",
       "    <tr>\n",
       "      <th>0</th>\n",
       "      <td>2018-02-03</td>\n",
       "      <td>10</td>\n",
       "      <td>12</td>\n",
       "      <td>red</td>\n",
       "      <td>120</td>\n",
       "      <td>light 0        red\\n1     yellow\\n2      green...</td>\n",
       "    </tr>\n",
       "    <tr>\n",
       "      <th>1</th>\n",
       "      <td>2018-04-05</td>\n",
       "      <td>12</td>\n",
       "      <td>12</td>\n",
       "      <td>yellow</td>\n",
       "      <td>144</td>\n",
       "      <td>light 0        red\\n1     yellow\\n2      green...</td>\n",
       "    </tr>\n",
       "    <tr>\n",
       "      <th>2</th>\n",
       "      <td>2019-06-07</td>\n",
       "      <td>20</td>\n",
       "      <td>25</td>\n",
       "      <td>green</td>\n",
       "      <td>500</td>\n",
       "      <td>light 0        red\\n1     yellow\\n2      green...</td>\n",
       "    </tr>\n",
       "    <tr>\n",
       "      <th>3</th>\n",
       "      <td>2019-08-09</td>\n",
       "      <td>34</td>\n",
       "      <td>40</td>\n",
       "      <td>blue</td>\n",
       "      <td>1360</td>\n",
       "      <td>light 0        red\\n1     yellow\\n2      green...</td>\n",
       "    </tr>\n",
       "    <tr>\n",
       "      <th>4</th>\n",
       "      <td>2020-10-11</td>\n",
       "      <td>32</td>\n",
       "      <td>56</td>\n",
       "      <td>orange</td>\n",
       "      <td>1792</td>\n",
       "      <td>light 0        red\\n1     yellow\\n2      green...</td>\n",
       "    </tr>\n",
       "    <tr>\n",
       "      <th>5</th>\n",
       "      <td>2020-12-13</td>\n",
       "      <td>40</td>\n",
       "      <td>12</td>\n",
       "      <td>magenta</td>\n",
       "      <td>480</td>\n",
       "      <td>light 0        red\\n1     yellow\\n2      green...</td>\n",
       "    </tr>\n",
       "    <tr>\n",
       "      <th>6</th>\n",
       "      <td>2021-01-02</td>\n",
       "      <td>34</td>\n",
       "      <td>68</td>\n",
       "      <td>cyan</td>\n",
       "      <td>2312</td>\n",
       "      <td>light 0        red\\n1     yellow\\n2      green...</td>\n",
       "    </tr>\n",
       "    <tr>\n",
       "      <th>7</th>\n",
       "      <td>2021-01-03</td>\n",
       "      <td>42</td>\n",
       "      <td>40</td>\n",
       "      <td>violet</td>\n",
       "      <td>1680</td>\n",
       "      <td>light 0        red\\n1     yellow\\n2      green...</td>\n",
       "    </tr>\n",
       "  </tbody>\n",
       "</table>\n",
       "</div>"
      ],
      "text/plain": [
       "         day  price  vol    color  sales   \n",
       "0 2018-02-03     10   12      red    120  \\\n",
       "1 2018-04-05     12   12   yellow    144   \n",
       "2 2019-06-07     20   25    green    500   \n",
       "3 2019-08-09     34   40     blue   1360   \n",
       "4 2020-10-11     32   56   orange   1792   \n",
       "5 2020-12-13     40   12  magenta    480   \n",
       "6 2021-01-02     34   68     cyan   2312   \n",
       "7 2021-01-03     42   40   violet   1680   \n",
       "\n",
       "                                         light_color  \n",
       "0  light 0        red\\n1     yellow\\n2      green...  \n",
       "1  light 0        red\\n1     yellow\\n2      green...  \n",
       "2  light 0        red\\n1     yellow\\n2      green...  \n",
       "3  light 0        red\\n1     yellow\\n2      green...  \n",
       "4  light 0        red\\n1     yellow\\n2      green...  \n",
       "5  light 0        red\\n1     yellow\\n2      green...  \n",
       "6  light 0        red\\n1     yellow\\n2      green...  \n",
       "7  light 0        red\\n1     yellow\\n2      green...  "
      ]
     },
     "execution_count": 42,
     "metadata": {},
     "output_type": "execute_result"
    }
   ],
   "source": [
    "def lighten(color):\n",
    "    return f\"light {color}\"\n",
    "\n",
    "# This doesn't work as expected since df.color is a series\n",
    "print(f\"type(df.color) = {type(df.color)}\")\n",
    "df.assign(light_color=lighten(df.color))"
   ]
  },
  {
   "cell_type": "code",
   "execution_count": 43,
   "id": "f3783b71",
   "metadata": {},
   "outputs": [
    {
     "data": {
      "text/html": [
       "<div>\n",
       "<style scoped>\n",
       "    .dataframe tbody tr th:only-of-type {\n",
       "        vertical-align: middle;\n",
       "    }\n",
       "\n",
       "    .dataframe tbody tr th {\n",
       "        vertical-align: top;\n",
       "    }\n",
       "\n",
       "    .dataframe thead th {\n",
       "        text-align: right;\n",
       "    }\n",
       "</style>\n",
       "<table border=\"1\" class=\"dataframe\">\n",
       "  <thead>\n",
       "    <tr style=\"text-align: right;\">\n",
       "      <th></th>\n",
       "      <th>day</th>\n",
       "      <th>price</th>\n",
       "      <th>vol</th>\n",
       "      <th>color</th>\n",
       "      <th>sales</th>\n",
       "      <th>light_color</th>\n",
       "    </tr>\n",
       "  </thead>\n",
       "  <tbody>\n",
       "    <tr>\n",
       "      <th>0</th>\n",
       "      <td>2018-02-03</td>\n",
       "      <td>10</td>\n",
       "      <td>12</td>\n",
       "      <td>red</td>\n",
       "      <td>120</td>\n",
       "      <td>light red</td>\n",
       "    </tr>\n",
       "    <tr>\n",
       "      <th>1</th>\n",
       "      <td>2018-04-05</td>\n",
       "      <td>12</td>\n",
       "      <td>12</td>\n",
       "      <td>yellow</td>\n",
       "      <td>144</td>\n",
       "      <td>light yellow</td>\n",
       "    </tr>\n",
       "    <tr>\n",
       "      <th>2</th>\n",
       "      <td>2019-06-07</td>\n",
       "      <td>20</td>\n",
       "      <td>25</td>\n",
       "      <td>green</td>\n",
       "      <td>500</td>\n",
       "      <td>light green</td>\n",
       "    </tr>\n",
       "    <tr>\n",
       "      <th>3</th>\n",
       "      <td>2019-08-09</td>\n",
       "      <td>34</td>\n",
       "      <td>40</td>\n",
       "      <td>blue</td>\n",
       "      <td>1360</td>\n",
       "      <td>light blue</td>\n",
       "    </tr>\n",
       "    <tr>\n",
       "      <th>4</th>\n",
       "      <td>2020-10-11</td>\n",
       "      <td>32</td>\n",
       "      <td>56</td>\n",
       "      <td>orange</td>\n",
       "      <td>1792</td>\n",
       "      <td>light orange</td>\n",
       "    </tr>\n",
       "    <tr>\n",
       "      <th>5</th>\n",
       "      <td>2020-12-13</td>\n",
       "      <td>40</td>\n",
       "      <td>12</td>\n",
       "      <td>magenta</td>\n",
       "      <td>480</td>\n",
       "      <td>light magenta</td>\n",
       "    </tr>\n",
       "    <tr>\n",
       "      <th>6</th>\n",
       "      <td>2021-01-02</td>\n",
       "      <td>34</td>\n",
       "      <td>68</td>\n",
       "      <td>cyan</td>\n",
       "      <td>2312</td>\n",
       "      <td>light cyan</td>\n",
       "    </tr>\n",
       "    <tr>\n",
       "      <th>7</th>\n",
       "      <td>2021-01-03</td>\n",
       "      <td>42</td>\n",
       "      <td>40</td>\n",
       "      <td>violet</td>\n",
       "      <td>1680</td>\n",
       "      <td>light violet</td>\n",
       "    </tr>\n",
       "  </tbody>\n",
       "</table>\n",
       "</div>"
      ],
      "text/plain": [
       "         day  price  vol    color  sales    light_color\n",
       "0 2018-02-03     10   12      red    120      light red\n",
       "1 2018-04-05     12   12   yellow    144   light yellow\n",
       "2 2019-06-07     20   25    green    500    light green\n",
       "3 2019-08-09     34   40     blue   1360     light blue\n",
       "4 2020-10-11     32   56   orange   1792   light orange\n",
       "5 2020-12-13     40   12  magenta    480  light magenta\n",
       "6 2021-01-02     34   68     cyan   2312     light cyan\n",
       "7 2021-01-03     42   40   violet   1680   light violet"
      ]
     },
     "execution_count": 43,
     "metadata": {},
     "output_type": "execute_result"
    }
   ],
   "source": [
    "# Use .apply to apply the function to each item in the column series.\n",
    "df.assign(light_color=df.color.apply(lighten))"
   ]
  },
  {
   "cell_type": "markdown",
   "id": "9aad1813",
   "metadata": {},
   "source": [
    "### Rename Columns"
   ]
  },
  {
   "cell_type": "code",
   "execution_count": 44,
   "id": "68f556d1",
   "metadata": {},
   "outputs": [],
   "source": [
    "# Rename one or more columns\n",
    "# Similar to assign, the dataframe is not modified. The return value must be captured to do the modification.\n",
    "df = df.rename(columns = {\"vol\": \"volume\"})\n",
    "df = df.rename(columns = {\"volume\": \"vol\"})"
   ]
  },
  {
   "cell_type": "code",
   "execution_count": 45,
   "id": "45168984",
   "metadata": {},
   "outputs": [
    {
     "data": {
      "text/html": [
       "<div>\n",
       "<style scoped>\n",
       "    .dataframe tbody tr th:only-of-type {\n",
       "        vertical-align: middle;\n",
       "    }\n",
       "\n",
       "    .dataframe tbody tr th {\n",
       "        vertical-align: top;\n",
       "    }\n",
       "\n",
       "    .dataframe thead th {\n",
       "        text-align: right;\n",
       "    }\n",
       "</style>\n",
       "<table border=\"1\" class=\"dataframe\">\n",
       "  <thead>\n",
       "    <tr style=\"text-align: right;\">\n",
       "      <th></th>\n",
       "      <th>day</th>\n",
       "      <th>price</th>\n",
       "      <th>vol</th>\n",
       "      <th>color</th>\n",
       "      <th>sales</th>\n",
       "    </tr>\n",
       "  </thead>\n",
       "  <tbody>\n",
       "    <tr>\n",
       "      <th>0</th>\n",
       "      <td>2018-02-03</td>\n",
       "      <td>10</td>\n",
       "      <td>12</td>\n",
       "      <td>red</td>\n",
       "      <td>120</td>\n",
       "    </tr>\n",
       "    <tr>\n",
       "      <th>1</th>\n",
       "      <td>2018-04-05</td>\n",
       "      <td>12</td>\n",
       "      <td>12</td>\n",
       "      <td>yellow</td>\n",
       "      <td>144</td>\n",
       "    </tr>\n",
       "    <tr>\n",
       "      <th>2</th>\n",
       "      <td>2019-06-07</td>\n",
       "      <td>20</td>\n",
       "      <td>25</td>\n",
       "      <td>green</td>\n",
       "      <td>500</td>\n",
       "    </tr>\n",
       "    <tr>\n",
       "      <th>3</th>\n",
       "      <td>2019-08-09</td>\n",
       "      <td>34</td>\n",
       "      <td>40</td>\n",
       "      <td>blue</td>\n",
       "      <td>1360</td>\n",
       "    </tr>\n",
       "    <tr>\n",
       "      <th>4</th>\n",
       "      <td>2020-10-11</td>\n",
       "      <td>32</td>\n",
       "      <td>56</td>\n",
       "      <td>orange</td>\n",
       "      <td>1792</td>\n",
       "    </tr>\n",
       "    <tr>\n",
       "      <th>5</th>\n",
       "      <td>2020-12-13</td>\n",
       "      <td>40</td>\n",
       "      <td>12</td>\n",
       "      <td>magenta</td>\n",
       "      <td>480</td>\n",
       "    </tr>\n",
       "    <tr>\n",
       "      <th>6</th>\n",
       "      <td>2021-01-02</td>\n",
       "      <td>34</td>\n",
       "      <td>68</td>\n",
       "      <td>cyan</td>\n",
       "      <td>2312</td>\n",
       "    </tr>\n",
       "    <tr>\n",
       "      <th>7</th>\n",
       "      <td>2021-01-03</td>\n",
       "      <td>42</td>\n",
       "      <td>40</td>\n",
       "      <td>violet</td>\n",
       "      <td>1680</td>\n",
       "    </tr>\n",
       "  </tbody>\n",
       "</table>\n",
       "</div>"
      ],
      "text/plain": [
       "         day  price  vol    color  sales\n",
       "0 2018-02-03     10   12      red    120\n",
       "1 2018-04-05     12   12   yellow    144\n",
       "2 2019-06-07     20   25    green    500\n",
       "3 2019-08-09     34   40     blue   1360\n",
       "4 2020-10-11     32   56   orange   1792\n",
       "5 2020-12-13     40   12  magenta    480\n",
       "6 2021-01-02     34   68     cyan   2312\n",
       "7 2021-01-03     42   40   violet   1680"
      ]
     },
     "execution_count": 45,
     "metadata": {},
     "output_type": "execute_result"
    }
   ],
   "source": [
    "df"
   ]
  },
  {
   "cell_type": "code",
   "execution_count": 46,
   "id": "b41e939f",
   "metadata": {},
   "outputs": [
    {
     "data": {
      "text/plain": [
       "(0    10\n",
       " 1    12\n",
       " 2    20\n",
       " 3    34\n",
       " 4    32\n",
       " 5    40\n",
       " 6    34\n",
       " 7    42\n",
       " Name: price, dtype: int64,\n",
       " 0     NaN\n",
       " 1     NaN\n",
       " 2    10.0\n",
       " 3    12.0\n",
       " 4    20.0\n",
       " 5    34.0\n",
       " 6    32.0\n",
       " 7    40.0\n",
       " Name: price, dtype: float64)"
      ]
     },
     "execution_count": 46,
     "metadata": {},
     "output_type": "execute_result"
    }
   ],
   "source": [
    "# Shift values with .shift\n",
    "df.price, df.price.shift(2)"
   ]
  },
  {
   "cell_type": "code",
   "execution_count": 47,
   "id": "7701cca7",
   "metadata": {},
   "outputs": [
    {
     "data": {
      "text/plain": [
       "RangeIndex(start=0, stop=8, step=1)"
      ]
     },
     "execution_count": 47,
     "metadata": {},
     "output_type": "execute_result"
    }
   ],
   "source": [
    "# Show the index\n",
    "df.index"
   ]
  },
  {
   "cell_type": "code",
   "execution_count": 48,
   "id": "83c3ed8f",
   "metadata": {},
   "outputs": [
    {
     "data": {
      "text/html": [
       "<div>\n",
       "<style scoped>\n",
       "    .dataframe tbody tr th:only-of-type {\n",
       "        vertical-align: middle;\n",
       "    }\n",
       "\n",
       "    .dataframe tbody tr th {\n",
       "        vertical-align: top;\n",
       "    }\n",
       "\n",
       "    .dataframe thead th {\n",
       "        text-align: right;\n",
       "    }\n",
       "</style>\n",
       "<table border=\"1\" class=\"dataframe\">\n",
       "  <thead>\n",
       "    <tr style=\"text-align: right;\">\n",
       "      <th></th>\n",
       "      <th>price</th>\n",
       "      <th>vol</th>\n",
       "      <th>color</th>\n",
       "      <th>sales</th>\n",
       "    </tr>\n",
       "    <tr>\n",
       "      <th>day</th>\n",
       "      <th></th>\n",
       "      <th></th>\n",
       "      <th></th>\n",
       "      <th></th>\n",
       "    </tr>\n",
       "  </thead>\n",
       "  <tbody>\n",
       "    <tr>\n",
       "      <th>2018-02-03</th>\n",
       "      <td>10</td>\n",
       "      <td>12</td>\n",
       "      <td>red</td>\n",
       "      <td>120</td>\n",
       "    </tr>\n",
       "    <tr>\n",
       "      <th>2018-04-05</th>\n",
       "      <td>12</td>\n",
       "      <td>12</td>\n",
       "      <td>yellow</td>\n",
       "      <td>144</td>\n",
       "    </tr>\n",
       "    <tr>\n",
       "      <th>2019-06-07</th>\n",
       "      <td>20</td>\n",
       "      <td>25</td>\n",
       "      <td>green</td>\n",
       "      <td>500</td>\n",
       "    </tr>\n",
       "    <tr>\n",
       "      <th>2019-08-09</th>\n",
       "      <td>34</td>\n",
       "      <td>40</td>\n",
       "      <td>blue</td>\n",
       "      <td>1360</td>\n",
       "    </tr>\n",
       "    <tr>\n",
       "      <th>2020-10-11</th>\n",
       "      <td>32</td>\n",
       "      <td>56</td>\n",
       "      <td>orange</td>\n",
       "      <td>1792</td>\n",
       "    </tr>\n",
       "    <tr>\n",
       "      <th>2020-12-13</th>\n",
       "      <td>40</td>\n",
       "      <td>12</td>\n",
       "      <td>magenta</td>\n",
       "      <td>480</td>\n",
       "    </tr>\n",
       "    <tr>\n",
       "      <th>2021-01-02</th>\n",
       "      <td>34</td>\n",
       "      <td>68</td>\n",
       "      <td>cyan</td>\n",
       "      <td>2312</td>\n",
       "    </tr>\n",
       "    <tr>\n",
       "      <th>2021-01-03</th>\n",
       "      <td>42</td>\n",
       "      <td>40</td>\n",
       "      <td>violet</td>\n",
       "      <td>1680</td>\n",
       "    </tr>\n",
       "  </tbody>\n",
       "</table>\n",
       "</div>"
      ],
      "text/plain": [
       "            price  vol    color  sales\n",
       "day                                   \n",
       "2018-02-03     10   12      red    120\n",
       "2018-04-05     12   12   yellow    144\n",
       "2019-06-07     20   25    green    500\n",
       "2019-08-09     34   40     blue   1360\n",
       "2020-10-11     32   56   orange   1792\n",
       "2020-12-13     40   12  magenta    480\n",
       "2021-01-02     34   68     cyan   2312\n",
       "2021-01-03     42   40   violet   1680"
      ]
     },
     "execution_count": 48,
     "metadata": {},
     "output_type": "execute_result"
    }
   ],
   "source": [
    "# Set the index to the provided column\n",
    "df.set_index(\"day\", inplace=True)\n",
    "df"
   ]
  },
  {
   "cell_type": "code",
   "execution_count": 49,
   "id": "f6da368b",
   "metadata": {},
   "outputs": [
    {
     "data": {
      "text/plain": [
       "price      34\n",
       "vol        40\n",
       "color    blue\n",
       "sales    1360\n",
       "Name: 2019-08-09 00:00:00, dtype: object"
      ]
     },
     "execution_count": 49,
     "metadata": {},
     "output_type": "execute_result"
    }
   ],
   "source": [
    "# Now .loc can take a date as an index value\n",
    "df.loc[\"8/9/2019\"]"
   ]
  },
  {
   "cell_type": "code",
   "execution_count": 50,
   "id": "17bff295",
   "metadata": {},
   "outputs": [],
   "source": [
    "# Reset the index\n",
    "df.reset_index(inplace=True)"
   ]
  },
  {
   "cell_type": "markdown",
   "id": "11e5ad75",
   "metadata": {},
   "source": [
    "## Plotting"
   ]
  },
  {
   "cell_type": "code",
   "execution_count": 51,
   "id": "546f654c",
   "metadata": {},
   "outputs": [
    {
     "data": {
      "text/plain": [
       "<Axes: xlabel='state', ylabel='val'>"
      ]
     },
     "execution_count": 51,
     "metadata": {},
     "output_type": "execute_result"
    },
    {
     "data": {
      "image/png": "[encoded data removed]",
      "text/plain": [
       "<Figure size 640x480 with 1 Axes>"
      ]
     },
     "metadata": {},
     "output_type": "display_data"
    }
   ],
   "source": [
    "# Scatter plot\n",
    "df2.plot.scatter(x='state', y='val')"
   ]
  },
  {
   "cell_type": "code",
   "execution_count": 52,
   "id": "a97926cd",
   "metadata": {},
   "outputs": [
    {
     "data": {
      "text/plain": [
       "<Axes: ylabel='Frequency'>"
      ]
     },
     "execution_count": 52,
     "metadata": {},
     "output_type": "execute_result"
    },
    {
     "data": {
      "image/png": "[encoded data removed]",
      "text/plain": [
       "<Figure size 640x480 with 1 Axes>"
      ]
     },
     "metadata": {},
     "output_type": "display_data"
    }
   ],
   "source": [
    "# Histogram\n",
    "df.vol.plot.hist()"
   ]
  },
  {
   "cell_type": "markdown",
   "id": "5ed8f530",
   "metadata": {},
   "source": [
    "## Loading Data"
   ]
  },
  {
   "cell_type": "markdown",
   "id": "f5238343",
   "metadata": {},
   "source": [
    "### CSV - read_csv"
   ]
  },
  {
   "cell_type": "code",
   "execution_count": 118,
   "id": "8da0ae62",
   "metadata": {},
   "outputs": [
    {
     "data": {
      "text/html": [
       "<div>\n",
       "<style scoped>\n",
       "    .dataframe tbody tr th:only-of-type {\n",
       "        vertical-align: middle;\n",
       "    }\n",
       "\n",
       "    .dataframe tbody tr th {\n",
       "        vertical-align: top;\n",
       "    }\n",
       "\n",
       "    .dataframe thead th {\n",
       "        text-align: right;\n",
       "    }\n",
       "</style>\n",
       "<table border=\"1\" class=\"dataframe\">\n",
       "  <thead>\n",
       "    <tr style=\"text-align: right;\">\n",
       "      <th></th>\n",
       "      <th>Month</th>\n",
       "      <th>all fuels (utility-scale) thousand megawatthours</th>\n",
       "      <th>coal thousand megawatthours</th>\n",
       "      <th>natural gas thousand megawatthours</th>\n",
       "      <th>nuclear thousand megawatthours</th>\n",
       "      <th>conventional hydroelectric thousand megawatthours</th>\n",
       "    </tr>\n",
       "  </thead>\n",
       "  <tbody>\n",
       "    <tr>\n",
       "      <th>0</th>\n",
       "      <td>Feb 2023</td>\n",
       "      <td>310200.68838</td>\n",
       "      <td>46315.31790</td>\n",
       "      <td>124428.39313</td>\n",
       "      <td>60806.857</td>\n",
       "      <td>19338.35544</td>\n",
       "    </tr>\n",
       "    <tr>\n",
       "      <th>1</th>\n",
       "      <td>Jan 2023</td>\n",
       "      <td>347437.12445</td>\n",
       "      <td>60121.33153</td>\n",
       "      <td>137731.30470</td>\n",
       "      <td>70870.080</td>\n",
       "      <td>22954.32437</td>\n",
       "    </tr>\n",
       "    <tr>\n",
       "      <th>2</th>\n",
       "      <td>Dec 2022</td>\n",
       "      <td>363624.58257</td>\n",
       "      <td>73164.12069</td>\n",
       "      <td>141137.63611</td>\n",
       "      <td>69094.147</td>\n",
       "      <td>21870.06448</td>\n",
       "    </tr>\n",
       "    <tr>\n",
       "      <th>3</th>\n",
       "      <td>Nov 2022</td>\n",
       "      <td>322958.83812</td>\n",
       "      <td>56169.75355</td>\n",
       "      <td>126944.16353</td>\n",
       "      <td>62041.287</td>\n",
       "      <td>18764.33935</td>\n",
       "    </tr>\n",
       "    <tr>\n",
       "      <th>4</th>\n",
       "      <td>Oct 2022</td>\n",
       "      <td>314110.95176</td>\n",
       "      <td>54071.14987</td>\n",
       "      <td>133024.80631</td>\n",
       "      <td>58945.383</td>\n",
       "      <td>14638.18031</td>\n",
       "    </tr>\n",
       "    <tr>\n",
       "      <th>...</th>\n",
       "      <td>...</td>\n",
       "      <td>...</td>\n",
       "      <td>...</td>\n",
       "      <td>...</td>\n",
       "      <td>...</td>\n",
       "      <td>...</td>\n",
       "    </tr>\n",
       "    <tr>\n",
       "      <th>261</th>\n",
       "      <td>May 2001</td>\n",
       "      <td>300491.62100</td>\n",
       "      <td>151592.91400</td>\n",
       "      <td>50934.20500</td>\n",
       "      <td>61512.445</td>\n",
       "      <td>19175.63500</td>\n",
       "    </tr>\n",
       "    <tr>\n",
       "      <th>262</th>\n",
       "      <td>Apr 2001</td>\n",
       "      <td>278078.87100</td>\n",
       "      <td>140670.65400</td>\n",
       "      <td>45842.74600</td>\n",
       "      <td>56003.026</td>\n",
       "      <td>18012.99400</td>\n",
       "    </tr>\n",
       "    <tr>\n",
       "      <th>263</th>\n",
       "      <td>Mar 2001</td>\n",
       "      <td>300706.54400</td>\n",
       "      <td>155269.01100</td>\n",
       "      <td>44364.41400</td>\n",
       "      <td>62140.712</td>\n",
       "      <td>20477.18900</td>\n",
       "    </tr>\n",
       "    <tr>\n",
       "      <th>264</th>\n",
       "      <td>Feb 2001</td>\n",
       "      <td>282940.19800</td>\n",
       "      <td>149735.48400</td>\n",
       "      <td>37966.92700</td>\n",
       "      <td>61272.407</td>\n",
       "      <td>17472.88900</td>\n",
       "    </tr>\n",
       "    <tr>\n",
       "      <th>265</th>\n",
       "      <td>Jan 2001</td>\n",
       "      <td>332493.16000</td>\n",
       "      <td>177287.11100</td>\n",
       "      <td>42388.66300</td>\n",
       "      <td>68707.077</td>\n",
       "      <td>18852.04800</td>\n",
       "    </tr>\n",
       "  </tbody>\n",
       "</table>\n",
       "<p>266 rows × 6 columns</p>\n",
       "</div>"
      ],
      "text/plain": [
       "        Month  all fuels (utility-scale) thousand megawatthours   \n",
       "0    Feb 2023                                      310200.68838  \\\n",
       "1    Jan 2023                                      347437.12445   \n",
       "2    Dec 2022                                      363624.58257   \n",
       "3    Nov 2022                                      322958.83812   \n",
       "4    Oct 2022                                      314110.95176   \n",
       "..        ...                                               ...   \n",
       "261  May 2001                                      300491.62100   \n",
       "262  Apr 2001                                      278078.87100   \n",
       "263  Mar 2001                                      300706.54400   \n",
       "264  Feb 2001                                      282940.19800   \n",
       "265  Jan 2001                                      332493.16000   \n",
       "\n",
       "     coal thousand megawatthours  natural gas thousand megawatthours   \n",
       "0                    46315.31790                        124428.39313  \\\n",
       "1                    60121.33153                        137731.30470   \n",
       "2                    73164.12069                        141137.63611   \n",
       "3                    56169.75355                        126944.16353   \n",
       "4                    54071.14987                        133024.80631   \n",
       "..                           ...                                 ...   \n",
       "261                 151592.91400                         50934.20500   \n",
       "262                 140670.65400                         45842.74600   \n",
       "263                 155269.01100                         44364.41400   \n",
       "264                 149735.48400                         37966.92700   \n",
       "265                 177287.11100                         42388.66300   \n",
       "\n",
       "     nuclear thousand megawatthours   \n",
       "0                         60806.857  \\\n",
       "1                         70870.080   \n",
       "2                         69094.147   \n",
       "3                         62041.287   \n",
       "4                         58945.383   \n",
       "..                              ...   \n",
       "261                       61512.445   \n",
       "262                       56003.026   \n",
       "263                       62140.712   \n",
       "264                       61272.407   \n",
       "265                       68707.077   \n",
       "\n",
       "     conventional hydroelectric thousand megawatthours  \n",
       "0                                          19338.35544  \n",
       "1                                          22954.32437  \n",
       "2                                          21870.06448  \n",
       "3                                          18764.33935  \n",
       "4                                          14638.18031  \n",
       "..                                                 ...  \n",
       "261                                        19175.63500  \n",
       "262                                        18012.99400  \n",
       "263                                        20477.18900  \n",
       "264                                        17472.88900  \n",
       "265                                        18852.04800  \n",
       "\n",
       "[266 rows x 6 columns]"
      ]
     },
     "execution_count": 118,
     "metadata": {},
     "output_type": "execute_result"
    }
   ],
   "source": [
    "# Data source: U.S. Energy Information Administration\n",
    "# via data.gov\n",
    "# https://www.eia.gov/electricity/data/browser/#/topic/0?agg=2,0,1&fuel=vvg&geo=g&sec=g&linechart=ELEC.GEN.ALL-US-99.M~ELEC.GEN.COW-US-99.M~ELEC.GEN.NG-US-99.M~ELEC.GEN.NUC-US-99.M~ELEC.GEN.HYC-US-99.M&columnchart=ELEC.GEN.ALL-US-99.M~ELEC.GEN.COW-US-99.M~ELEC.GEN.NG-US-99.M~ELEC.GEN.NUC-US-99.M~ELEC.GEN.HYC-US-99.M&map=ELEC.GEN.ALL-US-99.M&freq=M&start=2001&end=2022&ctype=linechart&ltype=pin&rtype=s&pin=&rse=0&maptype=0\n",
    "energy_df = pd.read_csv(\"Net_generation_United_States_all_sectors_monthly.csv\")\n",
    "energy_df"
   ]
  },
  {
   "cell_type": "code",
   "execution_count": 120,
   "id": "63fc15e9",
   "metadata": {},
   "outputs": [
    {
     "data": {
      "text/plain": [
       "Index(['Month', 'all_fuels', 'coal', 'natural_gas', 'nuclear',\n",
       "       'conventional_hydroelectric'],\n",
       "      dtype='object')"
      ]
     },
     "execution_count": 120,
     "metadata": {},
     "output_type": "execute_result"
    }
   ],
   "source": [
    "import re\n",
    "\n",
    "# Rename all columns to be shorter and a little easier to reference.\n",
    "def tidy_column(col):\n",
    "    col = re.sub(r\"( \\((\\w|-)+\\))? thousand megawatthours$\", \"\", col)\n",
    "    col = re.sub(r\" \", \"_\", col)\n",
    "    return col\n",
    "\n",
    "energy_df.rename(columns=lambda col: tidy_column(col), inplace=True)\n",
    "energy_df.columns"
   ]
  },
  {
   "cell_type": "code",
   "execution_count": 121,
   "id": "00af351e",
   "metadata": {},
   "outputs": [
    {
     "data": {
      "text/plain": [
       "<Axes: xlabel='Month', ylabel='coal'>"
      ]
     },
     "execution_count": 121,
     "metadata": {},
     "output_type": "execute_result"
    },
    {
     "data": {
      "image/png": "[encoded data removed]",
      "text/plain": [
       "<Figure size 640x480 with 1 Axes>"
      ]
     },
     "metadata": {},
     "output_type": "display_data"
    }
   ],
   "source": [
    "energy_df.plot.scatter(x=\"Month\", y=\"coal\")"
   ]
  },
  {
   "cell_type": "code",
   "execution_count": 122,
   "id": "e44f47a4",
   "metadata": {},
   "outputs": [
    {
     "data": {
      "text/plain": [
       "<Axes: xlabel='Month', ylabel='nuclear'>"
      ]
     },
     "execution_count": 122,
     "metadata": {},
     "output_type": "execute_result"
    },
    {
     "data": {
      "image/png": "[encoded data removed]",
      "text/plain": [
       "<Figure size 640x480 with 1 Axes>"
      ]
     },
     "metadata": {},
     "output_type": "display_data"
    }
   ],
   "source": [
    "energy_df.plot.scatter(x=\"Month\", y=\"nuclear\")"
   ]
  },
  {
   "cell_type": "code",
   "execution_count": 123,
   "id": "0d884e53",
   "metadata": {},
   "outputs": [],
   "source": [
    "# energy_df.reset_index(inplace=True)\n",
    "energy_df[\"Month\"] = pd.to_datetime(energy_df[\"Month\"], format=\"%b %Y\")"
   ]
  },
  {
   "cell_type": "code",
   "execution_count": 124,
   "id": "c7b77e46",
   "metadata": {},
   "outputs": [
    {
     "data": {
      "text/html": [
       "<div>\n",
       "<style scoped>\n",
       "    .dataframe tbody tr th:only-of-type {\n",
       "        vertical-align: middle;\n",
       "    }\n",
       "\n",
       "    .dataframe tbody tr th {\n",
       "        vertical-align: top;\n",
       "    }\n",
       "\n",
       "    .dataframe thead th {\n",
       "        text-align: right;\n",
       "    }\n",
       "</style>\n",
       "<table border=\"1\" class=\"dataframe\">\n",
       "  <thead>\n",
       "    <tr style=\"text-align: right;\">\n",
       "      <th></th>\n",
       "      <th>Month</th>\n",
       "      <th>all_fuels</th>\n",
       "      <th>coal</th>\n",
       "      <th>natural_gas</th>\n",
       "      <th>nuclear</th>\n",
       "      <th>conventional_hydroelectric</th>\n",
       "    </tr>\n",
       "  </thead>\n",
       "  <tbody>\n",
       "    <tr>\n",
       "      <th>0</th>\n",
       "      <td>2023-02-01</td>\n",
       "      <td>310200.68838</td>\n",
       "      <td>46315.31790</td>\n",
       "      <td>124428.39313</td>\n",
       "      <td>60806.857</td>\n",
       "      <td>19338.35544</td>\n",
       "    </tr>\n",
       "    <tr>\n",
       "      <th>1</th>\n",
       "      <td>2023-01-01</td>\n",
       "      <td>347437.12445</td>\n",
       "      <td>60121.33153</td>\n",
       "      <td>137731.30470</td>\n",
       "      <td>70870.080</td>\n",
       "      <td>22954.32437</td>\n",
       "    </tr>\n",
       "    <tr>\n",
       "      <th>2</th>\n",
       "      <td>2022-12-01</td>\n",
       "      <td>363624.58257</td>\n",
       "      <td>73164.12069</td>\n",
       "      <td>141137.63611</td>\n",
       "      <td>69094.147</td>\n",
       "      <td>21870.06448</td>\n",
       "    </tr>\n",
       "    <tr>\n",
       "      <th>3</th>\n",
       "      <td>2022-11-01</td>\n",
       "      <td>322958.83812</td>\n",
       "      <td>56169.75355</td>\n",
       "      <td>126944.16353</td>\n",
       "      <td>62041.287</td>\n",
       "      <td>18764.33935</td>\n",
       "    </tr>\n",
       "    <tr>\n",
       "      <th>4</th>\n",
       "      <td>2022-10-01</td>\n",
       "      <td>314110.95176</td>\n",
       "      <td>54071.14987</td>\n",
       "      <td>133024.80631</td>\n",
       "      <td>58945.383</td>\n",
       "      <td>14638.18031</td>\n",
       "    </tr>\n",
       "    <tr>\n",
       "      <th>...</th>\n",
       "      <td>...</td>\n",
       "      <td>...</td>\n",
       "      <td>...</td>\n",
       "      <td>...</td>\n",
       "      <td>...</td>\n",
       "      <td>...</td>\n",
       "    </tr>\n",
       "    <tr>\n",
       "      <th>261</th>\n",
       "      <td>2001-05-01</td>\n",
       "      <td>300491.62100</td>\n",
       "      <td>151592.91400</td>\n",
       "      <td>50934.20500</td>\n",
       "      <td>61512.445</td>\n",
       "      <td>19175.63500</td>\n",
       "    </tr>\n",
       "    <tr>\n",
       "      <th>262</th>\n",
       "      <td>2001-04-01</td>\n",
       "      <td>278078.87100</td>\n",
       "      <td>140670.65400</td>\n",
       "      <td>45842.74600</td>\n",
       "      <td>56003.026</td>\n",
       "      <td>18012.99400</td>\n",
       "    </tr>\n",
       "    <tr>\n",
       "      <th>263</th>\n",
       "      <td>2001-03-01</td>\n",
       "      <td>300706.54400</td>\n",
       "      <td>155269.01100</td>\n",
       "      <td>44364.41400</td>\n",
       "      <td>62140.712</td>\n",
       "      <td>20477.18900</td>\n",
       "    </tr>\n",
       "    <tr>\n",
       "      <th>264</th>\n",
       "      <td>2001-02-01</td>\n",
       "      <td>282940.19800</td>\n",
       "      <td>149735.48400</td>\n",
       "      <td>37966.92700</td>\n",
       "      <td>61272.407</td>\n",
       "      <td>17472.88900</td>\n",
       "    </tr>\n",
       "    <tr>\n",
       "      <th>265</th>\n",
       "      <td>2001-01-01</td>\n",
       "      <td>332493.16000</td>\n",
       "      <td>177287.11100</td>\n",
       "      <td>42388.66300</td>\n",
       "      <td>68707.077</td>\n",
       "      <td>18852.04800</td>\n",
       "    </tr>\n",
       "  </tbody>\n",
       "</table>\n",
       "<p>266 rows × 6 columns</p>\n",
       "</div>"
      ],
      "text/plain": [
       "         Month     all_fuels          coal   natural_gas    nuclear   \n",
       "0   2023-02-01  310200.68838   46315.31790  124428.39313  60806.857  \\\n",
       "1   2023-01-01  347437.12445   60121.33153  137731.30470  70870.080   \n",
       "2   2022-12-01  363624.58257   73164.12069  141137.63611  69094.147   \n",
       "3   2022-11-01  322958.83812   56169.75355  126944.16353  62041.287   \n",
       "4   2022-10-01  314110.95176   54071.14987  133024.80631  58945.383   \n",
       "..         ...           ...           ...           ...        ...   \n",
       "261 2001-05-01  300491.62100  151592.91400   50934.20500  61512.445   \n",
       "262 2001-04-01  278078.87100  140670.65400   45842.74600  56003.026   \n",
       "263 2001-03-01  300706.54400  155269.01100   44364.41400  62140.712   \n",
       "264 2001-02-01  282940.19800  149735.48400   37966.92700  61272.407   \n",
       "265 2001-01-01  332493.16000  177287.11100   42388.66300  68707.077   \n",
       "\n",
       "     conventional_hydroelectric  \n",
       "0                   19338.35544  \n",
       "1                   22954.32437  \n",
       "2                   21870.06448  \n",
       "3                   18764.33935  \n",
       "4                   14638.18031  \n",
       "..                          ...  \n",
       "261                 19175.63500  \n",
       "262                 18012.99400  \n",
       "263                 20477.18900  \n",
       "264                 17472.88900  \n",
       "265                 18852.04800  \n",
       "\n",
       "[266 rows x 6 columns]"
      ]
     },
     "execution_count": 124,
     "metadata": {},
     "output_type": "execute_result"
    }
   ],
   "source": [
    "energy_df"
   ]
  },
  {
   "cell_type": "code",
   "execution_count": 125,
   "id": "d2a3920a",
   "metadata": {},
   "outputs": [],
   "source": [
    "energy_df.set_index(\"Month\", inplace=True)"
   ]
  },
  {
   "cell_type": "code",
   "execution_count": 126,
   "id": "dfc2dd2b",
   "metadata": {},
   "outputs": [
    {
     "data": {
      "text/html": [
       "<div>\n",
       "<style scoped>\n",
       "    .dataframe tbody tr th:only-of-type {\n",
       "        vertical-align: middle;\n",
       "    }\n",
       "\n",
       "    .dataframe tbody tr th {\n",
       "        vertical-align: top;\n",
       "    }\n",
       "\n",
       "    .dataframe thead th {\n",
       "        text-align: right;\n",
       "    }\n",
       "</style>\n",
       "<table border=\"1\" class=\"dataframe\">\n",
       "  <thead>\n",
       "    <tr style=\"text-align: right;\">\n",
       "      <th></th>\n",
       "      <th>all_fuels</th>\n",
       "      <th>coal</th>\n",
       "      <th>natural_gas</th>\n",
       "      <th>nuclear</th>\n",
       "      <th>conventional_hydroelectric</th>\n",
       "    </tr>\n",
       "    <tr>\n",
       "      <th>Month</th>\n",
       "      <th></th>\n",
       "      <th></th>\n",
       "      <th></th>\n",
       "      <th></th>\n",
       "      <th></th>\n",
       "    </tr>\n",
       "  </thead>\n",
       "  <tbody>\n",
       "    <tr>\n",
       "      <th>2001-12-31</th>\n",
       "      <td>3.736644e+06</td>\n",
       "      <td>1.903956e+06</td>\n",
       "      <td>639129.11900</td>\n",
       "      <td>768826.308</td>\n",
       "      <td>216961.04500</td>\n",
       "    </tr>\n",
       "    <tr>\n",
       "      <th>2002-12-31</th>\n",
       "      <td>3.858452e+06</td>\n",
       "      <td>1.933130e+06</td>\n",
       "      <td>691005.74700</td>\n",
       "      <td>780064.087</td>\n",
       "      <td>264328.83100</td>\n",
       "    </tr>\n",
       "    <tr>\n",
       "      <th>2003-12-31</th>\n",
       "      <td>3.883185e+06</td>\n",
       "      <td>1.973737e+06</td>\n",
       "      <td>649907.54000</td>\n",
       "      <td>763732.695</td>\n",
       "      <td>275806.32800</td>\n",
       "    </tr>\n",
       "    <tr>\n",
       "      <th>2004-12-31</th>\n",
       "      <td>3.970555e+06</td>\n",
       "      <td>1.978301e+06</td>\n",
       "      <td>710100.01655</td>\n",
       "      <td>788528.387</td>\n",
       "      <td>268417.30837</td>\n",
       "    </tr>\n",
       "    <tr>\n",
       "      <th>2005-12-31</th>\n",
       "      <td>4.055423e+06</td>\n",
       "      <td>2.012873e+06</td>\n",
       "      <td>760960.25437</td>\n",
       "      <td>781986.365</td>\n",
       "      <td>270321.25495</td>\n",
       "    </tr>\n",
       "  </tbody>\n",
       "</table>\n",
       "</div>"
      ],
      "text/plain": [
       "               all_fuels          coal   natural_gas     nuclear   \n",
       "Month                                                              \n",
       "2001-12-31  3.736644e+06  1.903956e+06  639129.11900  768826.308  \\\n",
       "2002-12-31  3.858452e+06  1.933130e+06  691005.74700  780064.087   \n",
       "2003-12-31  3.883185e+06  1.973737e+06  649907.54000  763732.695   \n",
       "2004-12-31  3.970555e+06  1.978301e+06  710100.01655  788528.387   \n",
       "2005-12-31  4.055423e+06  2.012873e+06  760960.25437  781986.365   \n",
       "\n",
       "            conventional_hydroelectric  \n",
       "Month                                   \n",
       "2001-12-31                216961.04500  \n",
       "2002-12-31                264328.83100  \n",
       "2003-12-31                275806.32800  \n",
       "2004-12-31                268417.30837  \n",
       "2005-12-31                270321.25495  "
      ]
     },
     "execution_count": 126,
     "metadata": {},
     "output_type": "execute_result"
    }
   ],
   "source": [
    "# energy_df.set_index(\"Month\")\n",
    "yearly_energy_df = energy_df.groupby(pd.Grouper(freq=\"Y\"))\n",
    "yearly_energy_df.sum().head()"
   ]
  },
  {
   "cell_type": "code",
   "execution_count": 127,
   "id": "4d725ff8",
   "metadata": {},
   "outputs": [
    {
     "data": {
      "text/html": [
       "<div>\n",
       "<style scoped>\n",
       "    .dataframe tbody tr th:only-of-type {\n",
       "        vertical-align: middle;\n",
       "    }\n",
       "\n",
       "    .dataframe tbody tr th {\n",
       "        vertical-align: top;\n",
       "    }\n",
       "\n",
       "    .dataframe thead th {\n",
       "        text-align: right;\n",
       "    }\n",
       "</style>\n",
       "<table border=\"1\" class=\"dataframe\">\n",
       "  <thead>\n",
       "    <tr style=\"text-align: right;\">\n",
       "      <th></th>\n",
       "      <th>all_fuels</th>\n",
       "      <th>coal</th>\n",
       "      <th>natural_gas</th>\n",
       "      <th>nuclear</th>\n",
       "      <th>conventional_hydroelectric</th>\n",
       "    </tr>\n",
       "    <tr>\n",
       "      <th>Month</th>\n",
       "      <th></th>\n",
       "      <th></th>\n",
       "      <th></th>\n",
       "      <th></th>\n",
       "      <th></th>\n",
       "    </tr>\n",
       "  </thead>\n",
       "  <tbody>\n",
       "    <tr>\n",
       "      <th>2001-12-31</th>\n",
       "      <td>3.736644e+06</td>\n",
       "      <td>1.903956e+06</td>\n",
       "      <td>639129.11900</td>\n",
       "      <td>768826.308</td>\n",
       "      <td>216961.04500</td>\n",
       "    </tr>\n",
       "    <tr>\n",
       "      <th>2002-12-31</th>\n",
       "      <td>3.858452e+06</td>\n",
       "      <td>1.933130e+06</td>\n",
       "      <td>691005.74700</td>\n",
       "      <td>780064.087</td>\n",
       "      <td>264328.83100</td>\n",
       "    </tr>\n",
       "    <tr>\n",
       "      <th>2003-12-31</th>\n",
       "      <td>3.883185e+06</td>\n",
       "      <td>1.973737e+06</td>\n",
       "      <td>649907.54000</td>\n",
       "      <td>763732.695</td>\n",
       "      <td>275806.32800</td>\n",
       "    </tr>\n",
       "    <tr>\n",
       "      <th>2004-12-31</th>\n",
       "      <td>3.970555e+06</td>\n",
       "      <td>1.978301e+06</td>\n",
       "      <td>710100.01655</td>\n",
       "      <td>788528.387</td>\n",
       "      <td>268417.30837</td>\n",
       "    </tr>\n",
       "    <tr>\n",
       "      <th>2005-12-31</th>\n",
       "      <td>4.055423e+06</td>\n",
       "      <td>2.012873e+06</td>\n",
       "      <td>760960.25437</td>\n",
       "      <td>781986.365</td>\n",
       "      <td>270321.25495</td>\n",
       "    </tr>\n",
       "  </tbody>\n",
       "</table>\n",
       "</div>"
      ],
      "text/plain": [
       "               all_fuels          coal   natural_gas     nuclear   \n",
       "Month                                                              \n",
       "2001-12-31  3.736644e+06  1.903956e+06  639129.11900  768826.308  \\\n",
       "2002-12-31  3.858452e+06  1.933130e+06  691005.74700  780064.087   \n",
       "2003-12-31  3.883185e+06  1.973737e+06  649907.54000  763732.695   \n",
       "2004-12-31  3.970555e+06  1.978301e+06  710100.01655  788528.387   \n",
       "2005-12-31  4.055423e+06  2.012873e+06  760960.25437  781986.365   \n",
       "\n",
       "            conventional_hydroelectric  \n",
       "Month                                   \n",
       "2001-12-31                216961.04500  \n",
       "2002-12-31                264328.83100  \n",
       "2003-12-31                275806.32800  \n",
       "2004-12-31                268417.30837  \n",
       "2005-12-31                270321.25495  "
      ]
     },
     "execution_count": 127,
     "metadata": {},
     "output_type": "execute_result"
    }
   ],
   "source": [
    "# Aggregate or resample on a yearly basis to get annual totals.\n",
    "# The older `how` parameter to .resample is deprecated:\n",
    "# energy_df.resample(\"Y\", how=\"sum\")\n",
    "yearly_energy_df = energy_df.resample(\"Y\").sum()\n",
    "yearly_energy_df.head()"
   ]
  },
  {
   "cell_type": "code",
   "execution_count": 128,
   "id": "8baf7c13",
   "metadata": {},
   "outputs": [
    {
     "data": {
      "text/plain": [
       "<Axes: xlabel='Year'>"
      ]
     },
     "execution_count": 128,
     "metadata": {},
     "output_type": "execute_result"
    },
    {
     "data": {
      "image/png": "[encoded data removed]",
      "text/plain": [
       "<Figure size 640x480 with 1 Axes>"
      ]
     },
     "metadata": {},
     "output_type": "display_data"
    }
   ],
   "source": [
    "# Reset the index (non-destructive) so that the Month column can be passed to matplotlib as the x parameter.\n",
    "yearly_energy_df.reset_index().plot.line(x=\"Month\", y=\"coal\", xlabel=\"Year\")"
   ]
  },
  {
   "cell_type": "code",
   "execution_count": 129,
   "id": "e8291bab",
   "metadata": {},
   "outputs": [
    {
     "data": {
      "text/plain": [
       "<Axes: xlabel='Year'>"
      ]
     },
     "execution_count": 129,
     "metadata": {},
     "output_type": "execute_result"
    },
    {
     "data": {
      "image/png": "[encoded data removed]",
      "text/plain": [
       "<Figure size 640x480 with 1 Axes>"
      ]
     },
     "metadata": {},
     "output_type": "display_data"
    }
   ],
   "source": [
    "# The last value is for the partial year 2023 (only through\n",
    "# January), so let's drop the last row in the plot:\n",
    "yearly_energy_df[:-1].reset_index().plot.line(x=\"Month\", y=\"coal\", xlabel=\"Year\")"
   ]
  },
  {
   "cell_type": "code",
   "execution_count": 131,
   "id": "650abd9e",
   "metadata": {},
   "outputs": [
    {
     "data": {
      "text/plain": [
       "<Axes: xlabel='Year'>"
      ]
     },
     "execution_count": 131,
     "metadata": {},
     "output_type": "execute_result"
    },
    {
     "data": {
      "image/png": "[encoded data removed]",
      "text/plain": [
       "<Figure size 640x480 with 1 Axes>"
      ]
     },
     "metadata": {},
     "output_type": "display_data"
    }
   ],
   "source": [
    "yearly_energy_df.drop([\"all_fuels\"], axis=1)[:-1].reset_index().plot.line(x=\"Month\", xlabel=\"Year\")"
   ]
  },
  {
   "cell_type": "code",
   "execution_count": 132,
   "id": "c0d5ec4e",
   "metadata": {},
   "outputs": [
    {
     "data": {
      "text/plain": [
       "array([<Axes: xlabel='Year'>, <Axes: xlabel='Year'>,\n",
       "       <Axes: xlabel='Year'>, <Axes: xlabel='Year'>], dtype=object)"
      ]
     },
     "execution_count": 132,
     "metadata": {},
     "output_type": "execute_result"
    },
    {
     "data": {
      "image/png": "[encoded data removed]",
      "text/plain": [
       "<Figure size 640x480 with 4 Axes>"
      ]
     },
     "metadata": {},
     "output_type": "display_data"
    }
   ],
   "source": [
    "yearly_energy_df.drop([\"all_fuels\"], axis=1)[:-1].reset_index().plot.line(x=\"Month\", xlabel=\"Year\", subplots=True)"
   ]
  },
  {
   "cell_type": "code",
   "execution_count": null,
   "id": "39478837",
   "metadata": {},
   "outputs": [],
   "source": []
  }
 ],
 "metadata": {
  "kernelspec": {
   "display_name": "Python 3 (ipykernel)",
   "language": "python",
   "name": "python3"
  },
  "language_info": {
   "codemirror_mode": {
    "name": "ipython",
    "version": 3
   },
   "file_extension": ".py",
   "mimetype": "text/x-python",
   "name": "python",
   "nbconvert_exporter": "python",
   "pygments_lexer": "ipython3",
   "version": "3.10.8"
  }
 },
 "nbformat": 4,
 "nbformat_minor": 5
}
