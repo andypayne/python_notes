{
 "cells": [
  {
   "cell_type": "code",
   "execution_count": 1,
   "id": "76e340a0",
   "metadata": {},
   "outputs": [],
   "source": [
    "import pandas as pd"
   ]
  },
  {
   "cell_type": "code",
   "execution_count": 73,
   "id": "c6f34cb1",
   "metadata": {},
   "outputs": [],
   "source": [
    "sample_data = {\n",
    "    \"day\": [\"2/3/2018\", \"4/5/2018\", \"6/7/2019\", \"8/9/2019\", \"10/11/2020\", \"12/13/2020\", \"1/2/2021\", \"1/3/2021\"],\n",
    "    \"price\": [10, 12, 20, 34, 32, 40, 34, 42],\n",
    "    \"vol\": [12, 12, 25, 40, 56, 12, 68, 40],\n",
    "    \"color\": [\"red\", \"yellow\", \"green\", \"blue\", \"orange\", \"magenta\", \"cyan\", \"violet\"],\n",
    "}\n",
    "df = pd.DataFrame(sample_data)"
   ]
  },
  {
   "cell_type": "code",
   "execution_count": 74,
   "id": "b6395567",
   "metadata": {},
   "outputs": [
    {
     "data": {
      "text/html": [
       "<div>\n",
       "<style scoped>\n",
       "    .dataframe tbody tr th:only-of-type {\n",
       "        vertical-align: middle;\n",
       "    }\n",
       "\n",
       "    .dataframe tbody tr th {\n",
       "        vertical-align: top;\n",
       "    }\n",
       "\n",
       "    .dataframe thead th {\n",
       "        text-align: right;\n",
       "    }\n",
       "</style>\n",
       "<table border=\"1\" class=\"dataframe\">\n",
       "  <thead>\n",
       "    <tr style=\"text-align: right;\">\n",
       "      <th></th>\n",
       "      <th>day</th>\n",
       "      <th>price</th>\n",
       "      <th>vol</th>\n",
       "      <th>color</th>\n",
       "    </tr>\n",
       "  </thead>\n",
       "  <tbody>\n",
       "    <tr>\n",
       "      <th>0</th>\n",
       "      <td>2/3/2018</td>\n",
       "      <td>10</td>\n",
       "      <td>12</td>\n",
       "      <td>red</td>\n",
       "    </tr>\n",
       "    <tr>\n",
       "      <th>1</th>\n",
       "      <td>4/5/2018</td>\n",
       "      <td>12</td>\n",
       "      <td>12</td>\n",
       "      <td>yellow</td>\n",
       "    </tr>\n",
       "    <tr>\n",
       "      <th>2</th>\n",
       "      <td>6/7/2019</td>\n",
       "      <td>20</td>\n",
       "      <td>25</td>\n",
       "      <td>green</td>\n",
       "    </tr>\n",
       "    <tr>\n",
       "      <th>3</th>\n",
       "      <td>8/9/2019</td>\n",
       "      <td>34</td>\n",
       "      <td>40</td>\n",
       "      <td>blue</td>\n",
       "    </tr>\n",
       "    <tr>\n",
       "      <th>4</th>\n",
       "      <td>10/11/2020</td>\n",
       "      <td>32</td>\n",
       "      <td>56</td>\n",
       "      <td>orange</td>\n",
       "    </tr>\n",
       "    <tr>\n",
       "      <th>5</th>\n",
       "      <td>12/13/2020</td>\n",
       "      <td>40</td>\n",
       "      <td>12</td>\n",
       "      <td>magenta</td>\n",
       "    </tr>\n",
       "    <tr>\n",
       "      <th>6</th>\n",
       "      <td>1/2/2021</td>\n",
       "      <td>34</td>\n",
       "      <td>68</td>\n",
       "      <td>cyan</td>\n",
       "    </tr>\n",
       "    <tr>\n",
       "      <th>7</th>\n",
       "      <td>1/3/2021</td>\n",
       "      <td>42</td>\n",
       "      <td>40</td>\n",
       "      <td>violet</td>\n",
       "    </tr>\n",
       "  </tbody>\n",
       "</table>\n",
       "</div>"
      ],
      "text/plain": [
       "          day  price  vol    color\n",
       "0    2/3/2018     10   12      red\n",
       "1    4/5/2018     12   12   yellow\n",
       "2    6/7/2019     20   25    green\n",
       "3    8/9/2019     34   40     blue\n",
       "4  10/11/2020     32   56   orange\n",
       "5  12/13/2020     40   12  magenta\n",
       "6    1/2/2021     34   68     cyan\n",
       "7    1/3/2021     42   40   violet"
      ]
     },
     "execution_count": 74,
     "metadata": {},
     "output_type": "execute_result"
    }
   ],
   "source": [
    "# Or: df[:], df.head()\n",
    "df"
   ]
  },
  {
   "cell_type": "code",
   "execution_count": 75,
   "id": "64fbaf47",
   "metadata": {},
   "outputs": [
    {
     "data": {
      "text/html": [
       "<div>\n",
       "<style scoped>\n",
       "    .dataframe tbody tr th:only-of-type {\n",
       "        vertical-align: middle;\n",
       "    }\n",
       "\n",
       "    .dataframe tbody tr th {\n",
       "        vertical-align: top;\n",
       "    }\n",
       "\n",
       "    .dataframe thead th {\n",
       "        text-align: right;\n",
       "    }\n",
       "</style>\n",
       "<table border=\"1\" class=\"dataframe\">\n",
       "  <thead>\n",
       "    <tr style=\"text-align: right;\">\n",
       "      <th></th>\n",
       "      <th>day</th>\n",
       "      <th>price</th>\n",
       "      <th>vol</th>\n",
       "      <th>color</th>\n",
       "    </tr>\n",
       "  </thead>\n",
       "  <tbody>\n",
       "    <tr>\n",
       "      <th>3</th>\n",
       "      <td>8/9/2019</td>\n",
       "      <td>34</td>\n",
       "      <td>40</td>\n",
       "      <td>blue</td>\n",
       "    </tr>\n",
       "    <tr>\n",
       "      <th>4</th>\n",
       "      <td>10/11/2020</td>\n",
       "      <td>32</td>\n",
       "      <td>56</td>\n",
       "      <td>orange</td>\n",
       "    </tr>\n",
       "    <tr>\n",
       "      <th>5</th>\n",
       "      <td>12/13/2020</td>\n",
       "      <td>40</td>\n",
       "      <td>12</td>\n",
       "      <td>magenta</td>\n",
       "    </tr>\n",
       "    <tr>\n",
       "      <th>6</th>\n",
       "      <td>1/2/2021</td>\n",
       "      <td>34</td>\n",
       "      <td>68</td>\n",
       "      <td>cyan</td>\n",
       "    </tr>\n",
       "    <tr>\n",
       "      <th>7</th>\n",
       "      <td>1/3/2021</td>\n",
       "      <td>42</td>\n",
       "      <td>40</td>\n",
       "      <td>violet</td>\n",
       "    </tr>\n",
       "  </tbody>\n",
       "</table>\n",
       "</div>"
      ],
      "text/plain": [
       "          day  price  vol    color\n",
       "3    8/9/2019     34   40     blue\n",
       "4  10/11/2020     32   56   orange\n",
       "5  12/13/2020     40   12  magenta\n",
       "6    1/2/2021     34   68     cyan\n",
       "7    1/3/2021     42   40   violet"
      ]
     },
     "execution_count": 75,
     "metadata": {},
     "output_type": "execute_result"
    }
   ],
   "source": [
    "df.tail()"
   ]
  },
  {
   "cell_type": "code",
   "execution_count": 76,
   "id": "68261033",
   "metadata": {},
   "outputs": [
    {
     "data": {
      "text/plain": [
       "(8, 4)"
      ]
     },
     "execution_count": 76,
     "metadata": {},
     "output_type": "execute_result"
    }
   ],
   "source": [
    "# Shape\n",
    "df.shape"
   ]
  },
  {
   "cell_type": "code",
   "execution_count": 77,
   "id": "367915aa",
   "metadata": {},
   "outputs": [
    {
     "data": {
      "text/plain": [
       "8"
      ]
     },
     "execution_count": 77,
     "metadata": {},
     "output_type": "execute_result"
    }
   ],
   "source": [
    "# Number of rows\n",
    "len(df)"
   ]
  },
  {
   "cell_type": "code",
   "execution_count": 78,
   "id": "aacb1a1a",
   "metadata": {},
   "outputs": [
    {
     "data": {
      "text/plain": [
       "day      object\n",
       "price     int64\n",
       "vol       int64\n",
       "color    object\n",
       "dtype: object"
      ]
     },
     "execution_count": 78,
     "metadata": {},
     "output_type": "execute_result"
    }
   ],
   "source": [
    "df.dtypes"
   ]
  },
  {
   "cell_type": "markdown",
   "id": "7075e30e",
   "metadata": {},
   "source": [
    "## Access"
   ]
  },
  {
   "cell_type": "code",
   "execution_count": 79,
   "id": "e4d20e59",
   "metadata": {},
   "outputs": [
    {
     "data": {
      "text/plain": [
       "0    12\n",
       "1    12\n",
       "2    25\n",
       "3    40\n",
       "4    56\n",
       "5    12\n",
       "6    68\n",
       "7    40\n",
       "Name: vol, dtype: int64"
      ]
     },
     "execution_count": 79,
     "metadata": {},
     "output_type": "execute_result"
    }
   ],
   "source": [
    "# Access a column\n",
    "df.vol"
   ]
  },
  {
   "cell_type": "code",
   "execution_count": 80,
   "id": "9599fa2e",
   "metadata": {},
   "outputs": [
    {
     "data": {
      "text/plain": [
       "0    10\n",
       "1    12\n",
       "2    20\n",
       "3    34\n",
       "4    32\n",
       "5    40\n",
       "6    34\n",
       "7    42\n",
       "Name: price, dtype: int64"
      ]
     },
     "execution_count": 80,
     "metadata": {},
     "output_type": "execute_result"
    }
   ],
   "source": [
    "# Also\n",
    "df['price']"
   ]
  },
  {
   "cell_type": "code",
   "execution_count": 81,
   "id": "d5d0a617",
   "metadata": {},
   "outputs": [
    {
     "data": {
      "text/html": [
       "<div>\n",
       "<style scoped>\n",
       "    .dataframe tbody tr th:only-of-type {\n",
       "        vertical-align: middle;\n",
       "    }\n",
       "\n",
       "    .dataframe tbody tr th {\n",
       "        vertical-align: top;\n",
       "    }\n",
       "\n",
       "    .dataframe thead th {\n",
       "        text-align: right;\n",
       "    }\n",
       "</style>\n",
       "<table border=\"1\" class=\"dataframe\">\n",
       "  <thead>\n",
       "    <tr style=\"text-align: right;\">\n",
       "      <th></th>\n",
       "      <th>day</th>\n",
       "      <th>price</th>\n",
       "      <th>vol</th>\n",
       "      <th>color</th>\n",
       "    </tr>\n",
       "  </thead>\n",
       "  <tbody>\n",
       "    <tr>\n",
       "      <th>2</th>\n",
       "      <td>6/7/2019</td>\n",
       "      <td>20</td>\n",
       "      <td>25</td>\n",
       "      <td>green</td>\n",
       "    </tr>\n",
       "  </tbody>\n",
       "</table>\n",
       "</div>"
      ],
      "text/plain": [
       "        day  price  vol  color\n",
       "2  6/7/2019     20   25  green"
      ]
     },
     "execution_count": 81,
     "metadata": {},
     "output_type": "execute_result"
    }
   ],
   "source": [
    "# Access a row\n",
    "df[2:3]"
   ]
  },
  {
   "cell_type": "code",
   "execution_count": 114,
   "id": "235d29d7",
   "metadata": {},
   "outputs": [
    {
     "data": {
      "text/html": [
       "<div>\n",
       "<style scoped>\n",
       "    .dataframe tbody tr th:only-of-type {\n",
       "        vertical-align: middle;\n",
       "    }\n",
       "\n",
       "    .dataframe tbody tr th {\n",
       "        vertical-align: top;\n",
       "    }\n",
       "\n",
       "    .dataframe thead th {\n",
       "        text-align: right;\n",
       "    }\n",
       "</style>\n",
       "<table border=\"1\" class=\"dataframe\">\n",
       "  <thead>\n",
       "    <tr style=\"text-align: right;\">\n",
       "      <th></th>\n",
       "      <th>day</th>\n",
       "      <th>price</th>\n",
       "      <th>vol</th>\n",
       "      <th>color</th>\n",
       "    </tr>\n",
       "  </thead>\n",
       "  <tbody>\n",
       "    <tr>\n",
       "      <th>2</th>\n",
       "      <td>6/7/2019</td>\n",
       "      <td>20</td>\n",
       "      <td>25</td>\n",
       "      <td>green</td>\n",
       "    </tr>\n",
       "  </tbody>\n",
       "</table>\n",
       "</div>"
      ],
      "text/plain": [
       "        day  price  vol  color\n",
       "2  6/7/2019     20   25  green"
      ]
     },
     "execution_count": 114,
     "metadata": {},
     "output_type": "execute_result"
    }
   ],
   "source": [
    "# Also\n",
    "df.iloc[2:3]"
   ]
  },
  {
   "cell_type": "code",
   "execution_count": 121,
   "id": "c786a6d9",
   "metadata": {},
   "outputs": [
    {
     "data": {
      "text/plain": [
       "34"
      ]
     },
     "execution_count": 121,
     "metadata": {},
     "output_type": "execute_result"
    }
   ],
   "source": [
    "# Access a cell by row, col index with .iat\n",
    "df.iat[3, 1]"
   ]
  },
  {
   "cell_type": "code",
   "execution_count": 120,
   "id": "0d853407",
   "metadata": {},
   "outputs": [
    {
     "data": {
      "text/plain": [
       "'magenta'"
      ]
     },
     "execution_count": 120,
     "metadata": {},
     "output_type": "execute_result"
    }
   ],
   "source": [
    "# Access a cell by row index and column name with .at\n",
    "df.at[5, 'color']"
   ]
  },
  {
   "cell_type": "code",
   "execution_count": 113,
   "id": "1697dbab",
   "metadata": {},
   "outputs": [
    {
     "data": {
      "text/html": [
       "<div>\n",
       "<style scoped>\n",
       "    .dataframe tbody tr th:only-of-type {\n",
       "        vertical-align: middle;\n",
       "    }\n",
       "\n",
       "    .dataframe tbody tr th {\n",
       "        vertical-align: top;\n",
       "    }\n",
       "\n",
       "    .dataframe thead th {\n",
       "        text-align: right;\n",
       "    }\n",
       "</style>\n",
       "<table border=\"1\" class=\"dataframe\">\n",
       "  <thead>\n",
       "    <tr style=\"text-align: right;\">\n",
       "      <th></th>\n",
       "      <th>day</th>\n",
       "      <th>price</th>\n",
       "      <th>vol</th>\n",
       "      <th>color</th>\n",
       "    </tr>\n",
       "  </thead>\n",
       "  <tbody>\n",
       "    <tr>\n",
       "      <th>3</th>\n",
       "      <td>8/9/2019</td>\n",
       "      <td>34</td>\n",
       "      <td>40</td>\n",
       "      <td>blue</td>\n",
       "    </tr>\n",
       "    <tr>\n",
       "      <th>4</th>\n",
       "      <td>10/11/2020</td>\n",
       "      <td>32</td>\n",
       "      <td>56</td>\n",
       "      <td>orange</td>\n",
       "    </tr>\n",
       "    <tr>\n",
       "      <th>6</th>\n",
       "      <td>1/2/2021</td>\n",
       "      <td>34</td>\n",
       "      <td>68</td>\n",
       "      <td>cyan</td>\n",
       "    </tr>\n",
       "    <tr>\n",
       "      <th>7</th>\n",
       "      <td>1/3/2021</td>\n",
       "      <td>42</td>\n",
       "      <td>40</td>\n",
       "      <td>violet</td>\n",
       "    </tr>\n",
       "  </tbody>\n",
       "</table>\n",
       "</div>"
      ],
      "text/plain": [
       "          day  price  vol   color\n",
       "3    8/9/2019     34   40    blue\n",
       "4  10/11/2020     32   56  orange\n",
       "6    1/2/2021     34   68    cyan\n",
       "7    1/3/2021     42   40  violet"
      ]
     },
     "execution_count": 113,
     "metadata": {},
     "output_type": "execute_result"
    }
   ],
   "source": [
    "df.loc[df['vol'] > 30]"
   ]
  },
  {
   "cell_type": "code",
   "execution_count": 115,
   "id": "674f8d2f",
   "metadata": {},
   "outputs": [
    {
     "data": {
      "text/html": [
       "<div>\n",
       "<style scoped>\n",
       "    .dataframe tbody tr th:only-of-type {\n",
       "        vertical-align: middle;\n",
       "    }\n",
       "\n",
       "    .dataframe tbody tr th {\n",
       "        vertical-align: top;\n",
       "    }\n",
       "\n",
       "    .dataframe thead th {\n",
       "        text-align: right;\n",
       "    }\n",
       "</style>\n",
       "<table border=\"1\" class=\"dataframe\">\n",
       "  <thead>\n",
       "    <tr style=\"text-align: right;\">\n",
       "      <th></th>\n",
       "      <th>day</th>\n",
       "      <th>price</th>\n",
       "      <th>vol</th>\n",
       "      <th>color</th>\n",
       "    </tr>\n",
       "  </thead>\n",
       "  <tbody>\n",
       "    <tr>\n",
       "      <th>3</th>\n",
       "      <td>8/9/2019</td>\n",
       "      <td>34</td>\n",
       "      <td>40</td>\n",
       "      <td>blue</td>\n",
       "    </tr>\n",
       "    <tr>\n",
       "      <th>4</th>\n",
       "      <td>10/11/2020</td>\n",
       "      <td>32</td>\n",
       "      <td>56</td>\n",
       "      <td>orange</td>\n",
       "    </tr>\n",
       "    <tr>\n",
       "      <th>6</th>\n",
       "      <td>1/2/2021</td>\n",
       "      <td>34</td>\n",
       "      <td>68</td>\n",
       "      <td>cyan</td>\n",
       "    </tr>\n",
       "    <tr>\n",
       "      <th>7</th>\n",
       "      <td>1/3/2021</td>\n",
       "      <td>42</td>\n",
       "      <td>40</td>\n",
       "      <td>violet</td>\n",
       "    </tr>\n",
       "  </tbody>\n",
       "</table>\n",
       "</div>"
      ],
      "text/plain": [
       "          day  price  vol   color\n",
       "3    8/9/2019     34   40    blue\n",
       "4  10/11/2020     32   56  orange\n",
       "6    1/2/2021     34   68    cyan\n",
       "7    1/3/2021     42   40  violet"
      ]
     },
     "execution_count": 115,
     "metadata": {},
     "output_type": "execute_result"
    }
   ],
   "source": [
    "df[df.vol > 30]"
   ]
  },
  {
   "cell_type": "code",
   "execution_count": 152,
   "id": "257bce40",
   "metadata": {},
   "outputs": [
    {
     "data": {
      "text/html": [
       "<div>\n",
       "<style scoped>\n",
       "    .dataframe tbody tr th:only-of-type {\n",
       "        vertical-align: middle;\n",
       "    }\n",
       "\n",
       "    .dataframe tbody tr th {\n",
       "        vertical-align: top;\n",
       "    }\n",
       "\n",
       "    .dataframe thead th {\n",
       "        text-align: right;\n",
       "    }\n",
       "</style>\n",
       "<table border=\"1\" class=\"dataframe\">\n",
       "  <thead>\n",
       "    <tr style=\"text-align: right;\">\n",
       "      <th></th>\n",
       "      <th>day</th>\n",
       "      <th>color</th>\n",
       "    </tr>\n",
       "  </thead>\n",
       "  <tbody>\n",
       "    <tr>\n",
       "      <th>0</th>\n",
       "      <td>2/3/2018</td>\n",
       "      <td>red</td>\n",
       "    </tr>\n",
       "    <tr>\n",
       "      <th>1</th>\n",
       "      <td>4/5/2018</td>\n",
       "      <td>yellow</td>\n",
       "    </tr>\n",
       "    <tr>\n",
       "      <th>2</th>\n",
       "      <td>6/7/2019</td>\n",
       "      <td>green</td>\n",
       "    </tr>\n",
       "    <tr>\n",
       "      <th>3</th>\n",
       "      <td>8/9/2019</td>\n",
       "      <td>blue</td>\n",
       "    </tr>\n",
       "    <tr>\n",
       "      <th>4</th>\n",
       "      <td>10/11/2020</td>\n",
       "      <td>orange</td>\n",
       "    </tr>\n",
       "    <tr>\n",
       "      <th>5</th>\n",
       "      <td>12/13/2020</td>\n",
       "      <td>magenta</td>\n",
       "    </tr>\n",
       "    <tr>\n",
       "      <th>6</th>\n",
       "      <td>1/2/2021</td>\n",
       "      <td>cyan</td>\n",
       "    </tr>\n",
       "    <tr>\n",
       "      <th>7</th>\n",
       "      <td>1/3/2021</td>\n",
       "      <td>violet</td>\n",
       "    </tr>\n",
       "  </tbody>\n",
       "</table>\n",
       "</div>"
      ],
      "text/plain": [
       "          day    color\n",
       "0    2/3/2018      red\n",
       "1    4/5/2018   yellow\n",
       "2    6/7/2019    green\n",
       "3    8/9/2019     blue\n",
       "4  10/11/2020   orange\n",
       "5  12/13/2020  magenta\n",
       "6    1/2/2021     cyan\n",
       "7    1/3/2021   violet"
      ]
     },
     "execution_count": 152,
     "metadata": {},
     "output_type": "execute_result"
    }
   ],
   "source": [
    "# Show columns from a list\n",
    "df[[\"day\", \"color\"]]"
   ]
  },
  {
   "cell_type": "code",
   "execution_count": 116,
   "id": "8edad026",
   "metadata": {},
   "outputs": [
    {
     "data": {
      "text/plain": [
       "[0     24\n",
       " 1     24\n",
       " 2     50\n",
       " 3     80\n",
       " 4    112\n",
       " 5     24\n",
       " 6    136\n",
       " 7     80\n",
       " Name: vol, dtype: int64]"
      ]
     },
     "execution_count": 116,
     "metadata": {},
     "output_type": "execute_result"
    }
   ],
   "source": [
    "# Vector-style operations on a column\n",
    "[2 * df.vol]"
   ]
  },
  {
   "cell_type": "code",
   "execution_count": 104,
   "id": "4aa5baf9",
   "metadata": {},
   "outputs": [
    {
     "data": {
      "text/html": [
       "<div>\n",
       "<style scoped>\n",
       "    .dataframe tbody tr th:only-of-type {\n",
       "        vertical-align: middle;\n",
       "    }\n",
       "\n",
       "    .dataframe tbody tr th {\n",
       "        vertical-align: top;\n",
       "    }\n",
       "\n",
       "    .dataframe thead th {\n",
       "        text-align: right;\n",
       "    }\n",
       "</style>\n",
       "<table border=\"1\" class=\"dataframe\">\n",
       "  <thead>\n",
       "    <tr style=\"text-align: right;\">\n",
       "      <th></th>\n",
       "      <th>day</th>\n",
       "      <th>price</th>\n",
       "      <th>vol</th>\n",
       "      <th>color</th>\n",
       "    </tr>\n",
       "  </thead>\n",
       "  <tbody>\n",
       "    <tr>\n",
       "      <th>3</th>\n",
       "      <td>8/9/2019</td>\n",
       "      <td>34</td>\n",
       "      <td>40</td>\n",
       "      <td>blue</td>\n",
       "    </tr>\n",
       "    <tr>\n",
       "      <th>6</th>\n",
       "      <td>1/2/2021</td>\n",
       "      <td>34</td>\n",
       "      <td>68</td>\n",
       "      <td>cyan</td>\n",
       "    </tr>\n",
       "    <tr>\n",
       "      <th>7</th>\n",
       "      <td>1/3/2021</td>\n",
       "      <td>42</td>\n",
       "      <td>40</td>\n",
       "      <td>violet</td>\n",
       "    </tr>\n",
       "  </tbody>\n",
       "</table>\n",
       "</div>"
      ],
      "text/plain": [
       "        day  price  vol   color\n",
       "3  8/9/2019     34   40    blue\n",
       "6  1/2/2021     34   68    cyan\n",
       "7  1/3/2021     42   40  violet"
      ]
     },
     "execution_count": 104,
     "metadata": {},
     "output_type": "execute_result"
    }
   ],
   "source": [
    "# Query\n",
    "df.query('vol > 30 and price > 32')"
   ]
  },
  {
   "cell_type": "code",
   "execution_count": 108,
   "id": "7e812d50",
   "metadata": {},
   "outputs": [
    {
     "data": {
      "text/html": [
       "<div>\n",
       "<style scoped>\n",
       "    .dataframe tbody tr th:only-of-type {\n",
       "        vertical-align: middle;\n",
       "    }\n",
       "\n",
       "    .dataframe tbody tr th {\n",
       "        vertical-align: top;\n",
       "    }\n",
       "\n",
       "    .dataframe thead th {\n",
       "        text-align: right;\n",
       "    }\n",
       "</style>\n",
       "<table border=\"1\" class=\"dataframe\">\n",
       "  <thead>\n",
       "    <tr style=\"text-align: right;\">\n",
       "      <th></th>\n",
       "      <th>day</th>\n",
       "      <th>price</th>\n",
       "      <th>vol</th>\n",
       "      <th>color</th>\n",
       "    </tr>\n",
       "  </thead>\n",
       "  <tbody>\n",
       "    <tr>\n",
       "      <th>2</th>\n",
       "      <td>6/7/2019</td>\n",
       "      <td>20</td>\n",
       "      <td>25</td>\n",
       "      <td>green</td>\n",
       "    </tr>\n",
       "  </tbody>\n",
       "</table>\n",
       "</div>"
      ],
      "text/plain": [
       "        day  price  vol  color\n",
       "2  6/7/2019     20   25  green"
      ]
     },
     "execution_count": 108,
     "metadata": {},
     "output_type": "execute_result"
    }
   ],
   "source": [
    "# Select a random row\n",
    "df.sample()"
   ]
  },
  {
   "cell_type": "code",
   "execution_count": 111,
   "id": "e86c4eab",
   "metadata": {},
   "outputs": [
    {
     "data": {
      "text/html": [
       "<div>\n",
       "<style scoped>\n",
       "    .dataframe tbody tr th:only-of-type {\n",
       "        vertical-align: middle;\n",
       "    }\n",
       "\n",
       "    .dataframe tbody tr th {\n",
       "        vertical-align: top;\n",
       "    }\n",
       "\n",
       "    .dataframe thead th {\n",
       "        text-align: right;\n",
       "    }\n",
       "</style>\n",
       "<table border=\"1\" class=\"dataframe\">\n",
       "  <thead>\n",
       "    <tr style=\"text-align: right;\">\n",
       "      <th></th>\n",
       "      <th>day</th>\n",
       "      <th>price</th>\n",
       "      <th>vol</th>\n",
       "      <th>color</th>\n",
       "    </tr>\n",
       "  </thead>\n",
       "  <tbody>\n",
       "    <tr>\n",
       "      <th>5</th>\n",
       "      <td>12/13/2020</td>\n",
       "      <td>40</td>\n",
       "      <td>12</td>\n",
       "      <td>magenta</td>\n",
       "    </tr>\n",
       "    <tr>\n",
       "      <th>4</th>\n",
       "      <td>10/11/2020</td>\n",
       "      <td>32</td>\n",
       "      <td>56</td>\n",
       "      <td>orange</td>\n",
       "    </tr>\n",
       "  </tbody>\n",
       "</table>\n",
       "</div>"
      ],
      "text/plain": [
       "          day  price  vol    color\n",
       "5  12/13/2020     40   12  magenta\n",
       "4  10/11/2020     32   56   orange"
      ]
     },
     "execution_count": 111,
     "metadata": {},
     "output_type": "execute_result"
    }
   ],
   "source": [
    "# Select n random rows\n",
    "df.sample(n=2)"
   ]
  },
  {
   "cell_type": "code",
   "execution_count": 155,
   "id": "49c2765a",
   "metadata": {},
   "outputs": [
    {
     "data": {
      "text/html": [
       "<div>\n",
       "<style scoped>\n",
       "    .dataframe tbody tr th:only-of-type {\n",
       "        vertical-align: middle;\n",
       "    }\n",
       "\n",
       "    .dataframe tbody tr th {\n",
       "        vertical-align: top;\n",
       "    }\n",
       "\n",
       "    .dataframe thead th {\n",
       "        text-align: right;\n",
       "    }\n",
       "</style>\n",
       "<table border=\"1\" class=\"dataframe\">\n",
       "  <thead>\n",
       "    <tr style=\"text-align: right;\">\n",
       "      <th></th>\n",
       "      <th>variable</th>\n",
       "      <th>value</th>\n",
       "    </tr>\n",
       "  </thead>\n",
       "  <tbody>\n",
       "    <tr>\n",
       "      <th>0</th>\n",
       "      <td>day</td>\n",
       "      <td>2/3/2018</td>\n",
       "    </tr>\n",
       "    <tr>\n",
       "      <th>1</th>\n",
       "      <td>day</td>\n",
       "      <td>4/5/2018</td>\n",
       "    </tr>\n",
       "    <tr>\n",
       "      <th>2</th>\n",
       "      <td>day</td>\n",
       "      <td>6/7/2019</td>\n",
       "    </tr>\n",
       "    <tr>\n",
       "      <th>3</th>\n",
       "      <td>day</td>\n",
       "      <td>8/9/2019</td>\n",
       "    </tr>\n",
       "    <tr>\n",
       "      <th>4</th>\n",
       "      <td>day</td>\n",
       "      <td>10/11/2020</td>\n",
       "    </tr>\n",
       "    <tr>\n",
       "      <th>5</th>\n",
       "      <td>day</td>\n",
       "      <td>12/13/2020</td>\n",
       "    </tr>\n",
       "    <tr>\n",
       "      <th>6</th>\n",
       "      <td>day</td>\n",
       "      <td>1/2/2021</td>\n",
       "    </tr>\n",
       "    <tr>\n",
       "      <th>7</th>\n",
       "      <td>day</td>\n",
       "      <td>1/3/2021</td>\n",
       "    </tr>\n",
       "    <tr>\n",
       "      <th>8</th>\n",
       "      <td>price</td>\n",
       "      <td>10</td>\n",
       "    </tr>\n",
       "    <tr>\n",
       "      <th>9</th>\n",
       "      <td>price</td>\n",
       "      <td>12</td>\n",
       "    </tr>\n",
       "    <tr>\n",
       "      <th>10</th>\n",
       "      <td>price</td>\n",
       "      <td>20</td>\n",
       "    </tr>\n",
       "    <tr>\n",
       "      <th>11</th>\n",
       "      <td>price</td>\n",
       "      <td>34</td>\n",
       "    </tr>\n",
       "    <tr>\n",
       "      <th>12</th>\n",
       "      <td>price</td>\n",
       "      <td>32</td>\n",
       "    </tr>\n",
       "    <tr>\n",
       "      <th>13</th>\n",
       "      <td>price</td>\n",
       "      <td>40</td>\n",
       "    </tr>\n",
       "    <tr>\n",
       "      <th>14</th>\n",
       "      <td>price</td>\n",
       "      <td>34</td>\n",
       "    </tr>\n",
       "    <tr>\n",
       "      <th>15</th>\n",
       "      <td>price</td>\n",
       "      <td>42</td>\n",
       "    </tr>\n",
       "    <tr>\n",
       "      <th>16</th>\n",
       "      <td>vol</td>\n",
       "      <td>12</td>\n",
       "    </tr>\n",
       "    <tr>\n",
       "      <th>17</th>\n",
       "      <td>vol</td>\n",
       "      <td>12</td>\n",
       "    </tr>\n",
       "    <tr>\n",
       "      <th>18</th>\n",
       "      <td>vol</td>\n",
       "      <td>25</td>\n",
       "    </tr>\n",
       "    <tr>\n",
       "      <th>19</th>\n",
       "      <td>vol</td>\n",
       "      <td>40</td>\n",
       "    </tr>\n",
       "    <tr>\n",
       "      <th>20</th>\n",
       "      <td>vol</td>\n",
       "      <td>56</td>\n",
       "    </tr>\n",
       "    <tr>\n",
       "      <th>21</th>\n",
       "      <td>vol</td>\n",
       "      <td>12</td>\n",
       "    </tr>\n",
       "    <tr>\n",
       "      <th>22</th>\n",
       "      <td>vol</td>\n",
       "      <td>68</td>\n",
       "    </tr>\n",
       "    <tr>\n",
       "      <th>23</th>\n",
       "      <td>vol</td>\n",
       "      <td>40</td>\n",
       "    </tr>\n",
       "    <tr>\n",
       "      <th>24</th>\n",
       "      <td>color</td>\n",
       "      <td>red</td>\n",
       "    </tr>\n",
       "    <tr>\n",
       "      <th>25</th>\n",
       "      <td>color</td>\n",
       "      <td>yellow</td>\n",
       "    </tr>\n",
       "    <tr>\n",
       "      <th>26</th>\n",
       "      <td>color</td>\n",
       "      <td>green</td>\n",
       "    </tr>\n",
       "    <tr>\n",
       "      <th>27</th>\n",
       "      <td>color</td>\n",
       "      <td>blue</td>\n",
       "    </tr>\n",
       "    <tr>\n",
       "      <th>28</th>\n",
       "      <td>color</td>\n",
       "      <td>orange</td>\n",
       "    </tr>\n",
       "    <tr>\n",
       "      <th>29</th>\n",
       "      <td>color</td>\n",
       "      <td>magenta</td>\n",
       "    </tr>\n",
       "    <tr>\n",
       "      <th>30</th>\n",
       "      <td>color</td>\n",
       "      <td>cyan</td>\n",
       "    </tr>\n",
       "    <tr>\n",
       "      <th>31</th>\n",
       "      <td>color</td>\n",
       "      <td>violet</td>\n",
       "    </tr>\n",
       "  </tbody>\n",
       "</table>\n",
       "</div>"
      ],
      "text/plain": [
       "   variable       value\n",
       "0       day    2/3/2018\n",
       "1       day    4/5/2018\n",
       "2       day    6/7/2019\n",
       "3       day    8/9/2019\n",
       "4       day  10/11/2020\n",
       "5       day  12/13/2020\n",
       "6       day    1/2/2021\n",
       "7       day    1/3/2021\n",
       "8     price          10\n",
       "9     price          12\n",
       "10    price          20\n",
       "11    price          34\n",
       "12    price          32\n",
       "13    price          40\n",
       "14    price          34\n",
       "15    price          42\n",
       "16      vol          12\n",
       "17      vol          12\n",
       "18      vol          25\n",
       "19      vol          40\n",
       "20      vol          56\n",
       "21      vol          12\n",
       "22      vol          68\n",
       "23      vol          40\n",
       "24    color         red\n",
       "25    color      yellow\n",
       "26    color       green\n",
       "27    color        blue\n",
       "28    color      orange\n",
       "29    color     magenta\n",
       "30    color        cyan\n",
       "31    color      violet"
      ]
     },
     "execution_count": 155,
     "metadata": {},
     "output_type": "execute_result"
    }
   ],
   "source": [
    "pd.melt(df)"
   ]
  },
  {
   "cell_type": "markdown",
   "id": "d00f4e91",
   "metadata": {},
   "source": [
    "## Summarization"
   ]
  },
  {
   "cell_type": "code",
   "execution_count": 83,
   "id": "b3b8ef8c",
   "metadata": {},
   "outputs": [
    {
     "data": {
      "text/html": [
       "<div>\n",
       "<style scoped>\n",
       "    .dataframe tbody tr th:only-of-type {\n",
       "        vertical-align: middle;\n",
       "    }\n",
       "\n",
       "    .dataframe tbody tr th {\n",
       "        vertical-align: top;\n",
       "    }\n",
       "\n",
       "    .dataframe thead th {\n",
       "        text-align: right;\n",
       "    }\n",
       "</style>\n",
       "<table border=\"1\" class=\"dataframe\">\n",
       "  <thead>\n",
       "    <tr style=\"text-align: right;\">\n",
       "      <th></th>\n",
       "      <th>price</th>\n",
       "      <th>vol</th>\n",
       "    </tr>\n",
       "  </thead>\n",
       "  <tbody>\n",
       "    <tr>\n",
       "      <th>count</th>\n",
       "      <td>8.00000</td>\n",
       "      <td>8.00000</td>\n",
       "    </tr>\n",
       "    <tr>\n",
       "      <th>mean</th>\n",
       "      <td>28.00000</td>\n",
       "      <td>33.12500</td>\n",
       "    </tr>\n",
       "    <tr>\n",
       "      <th>std</th>\n",
       "      <td>12.37509</td>\n",
       "      <td>21.51038</td>\n",
       "    </tr>\n",
       "    <tr>\n",
       "      <th>min</th>\n",
       "      <td>10.00000</td>\n",
       "      <td>12.00000</td>\n",
       "    </tr>\n",
       "    <tr>\n",
       "      <th>25%</th>\n",
       "      <td>18.00000</td>\n",
       "      <td>12.00000</td>\n",
       "    </tr>\n",
       "    <tr>\n",
       "      <th>50%</th>\n",
       "      <td>33.00000</td>\n",
       "      <td>32.50000</td>\n",
       "    </tr>\n",
       "    <tr>\n",
       "      <th>75%</th>\n",
       "      <td>35.50000</td>\n",
       "      <td>44.00000</td>\n",
       "    </tr>\n",
       "    <tr>\n",
       "      <th>max</th>\n",
       "      <td>42.00000</td>\n",
       "      <td>68.00000</td>\n",
       "    </tr>\n",
       "  </tbody>\n",
       "</table>\n",
       "</div>"
      ],
      "text/plain": [
       "          price       vol\n",
       "count   8.00000   8.00000\n",
       "mean   28.00000  33.12500\n",
       "std    12.37509  21.51038\n",
       "min    10.00000  12.00000\n",
       "25%    18.00000  12.00000\n",
       "50%    33.00000  32.50000\n",
       "75%    35.50000  44.00000\n",
       "max    42.00000  68.00000"
      ]
     },
     "execution_count": 83,
     "metadata": {},
     "output_type": "execute_result"
    }
   ],
   "source": [
    "df.describe()"
   ]
  },
  {
   "cell_type": "code",
   "execution_count": 84,
   "id": "2c0e1437",
   "metadata": {},
   "outputs": [
    {
     "data": {
      "text/plain": [
       "42"
      ]
     },
     "execution_count": 84,
     "metadata": {},
     "output_type": "execute_result"
    }
   ],
   "source": [
    "# Max of a column\n",
    "max(df.price)"
   ]
  },
  {
   "cell_type": "code",
   "execution_count": 131,
   "id": "57940e40",
   "metadata": {},
   "outputs": [
    {
     "data": {
      "text/plain": [
       "42"
      ]
     },
     "execution_count": 131,
     "metadata": {},
     "output_type": "execute_result"
    }
   ],
   "source": [
    "# Or:\n",
    "df.price.max()"
   ]
  },
  {
   "cell_type": "code",
   "execution_count": 132,
   "id": "79c9c4aa",
   "metadata": {},
   "outputs": [
    {
     "data": {
      "text/plain": [
       "33.125"
      ]
     },
     "execution_count": 132,
     "metadata": {},
     "output_type": "execute_result"
    }
   ],
   "source": [
    "# Mean of a column\n",
    "df.vol.mean()"
   ]
  },
  {
   "cell_type": "code",
   "execution_count": 85,
   "id": "61019372",
   "metadata": {},
   "outputs": [
    {
     "data": {
      "text/plain": [
       "265"
      ]
     },
     "execution_count": 85,
     "metadata": {},
     "output_type": "execute_result"
    }
   ],
   "source": [
    "sum(df.vol)"
   ]
  },
  {
   "cell_type": "code",
   "execution_count": 86,
   "id": "42fba1cd",
   "metadata": {},
   "outputs": [
    {
     "data": {
      "text/plain": [
       "0     12.0\n",
       "1     24.0\n",
       "2     49.0\n",
       "3     89.0\n",
       "4    145.0\n",
       "5    157.0\n",
       "6    225.0\n",
       "7    265.0\n",
       "Name: vol, dtype: float64"
      ]
     },
     "execution_count": 86,
     "metadata": {},
     "output_type": "execute_result"
    }
   ],
   "source": [
    "# Calculate a running sum with .expanding\n",
    "df.vol.expanding(1).sum()"
   ]
  },
  {
   "cell_type": "code",
   "execution_count": 87,
   "id": "d4c19c02",
   "metadata": {},
   "outputs": [
    {
     "data": {
      "text/plain": [
       "12    3\n",
       "40    2\n",
       "25    1\n",
       "56    1\n",
       "68    1\n",
       "Name: vol, dtype: int64"
      ]
     },
     "execution_count": 87,
     "metadata": {},
     "output_type": "execute_result"
    }
   ],
   "source": [
    "# Count a column by unique values\n",
    "df.vol.value_counts()"
   ]
  },
  {
   "cell_type": "code",
   "execution_count": 88,
   "id": "b6d51b97",
   "metadata": {},
   "outputs": [
    {
     "data": {
      "text/plain": [
       "0    15\n",
       "1    15\n",
       "2    25\n",
       "3    40\n",
       "4    55\n",
       "5    15\n",
       "6    55\n",
       "7    40\n",
       "Name: vol, dtype: int64"
      ]
     },
     "execution_count": 88,
     "metadata": {},
     "output_type": "execute_result"
    }
   ],
   "source": [
    "# Enforce boundary values with .clip\n",
    "df.vol.clip(lower=15, upper=55)"
   ]
  },
  {
   "cell_type": "code",
   "execution_count": 89,
   "id": "e7c686da",
   "metadata": {},
   "outputs": [
    {
     "data": {
      "text/html": [
       "<div>\n",
       "<style scoped>\n",
       "    .dataframe tbody tr th:only-of-type {\n",
       "        vertical-align: middle;\n",
       "    }\n",
       "\n",
       "    .dataframe tbody tr th {\n",
       "        vertical-align: top;\n",
       "    }\n",
       "\n",
       "    .dataframe thead th {\n",
       "        text-align: right;\n",
       "    }\n",
       "</style>\n",
       "<table border=\"1\" class=\"dataframe\">\n",
       "  <thead>\n",
       "    <tr style=\"text-align: right;\">\n",
       "      <th></th>\n",
       "      <th>state</th>\n",
       "      <th>val</th>\n",
       "    </tr>\n",
       "  </thead>\n",
       "  <tbody>\n",
       "    <tr>\n",
       "      <th>0</th>\n",
       "      <td>CA</td>\n",
       "      <td>62</td>\n",
       "    </tr>\n",
       "    <tr>\n",
       "      <th>1</th>\n",
       "      <td>CA</td>\n",
       "      <td>2</td>\n",
       "    </tr>\n",
       "    <tr>\n",
       "      <th>2</th>\n",
       "      <td>NY</td>\n",
       "      <td>49</td>\n",
       "    </tr>\n",
       "    <tr>\n",
       "      <th>3</th>\n",
       "      <td>WA</td>\n",
       "      <td>38</td>\n",
       "    </tr>\n",
       "    <tr>\n",
       "      <th>4</th>\n",
       "      <td>CO</td>\n",
       "      <td>81</td>\n",
       "    </tr>\n",
       "  </tbody>\n",
       "</table>\n",
       "</div>"
      ],
      "text/plain": [
       "  state  val\n",
       "0    CA   62\n",
       "1    CA    2\n",
       "2    NY   49\n",
       "3    WA   38\n",
       "4    CO   81"
      ]
     },
     "execution_count": 89,
     "metadata": {},
     "output_type": "execute_result"
    }
   ],
   "source": [
    "import random\n",
    "\n",
    "df2 = pd.DataFrame({\n",
    "    \"state\": [\"CA\", \"CA\", \"NY\", \"WA\", \"CO\", \"FL\", \"CO\", \"NY\", \"CA\", \"NY\", \"IL\", \"WA\", \"IL\", \"NY\", \"MA\", \"MS\", \"TX\", \"CA\", \"WA\", \"CO\"],\n",
    "    \"val\": [random.randint(0, 100) for _ in range(20)]\n",
    "})\n",
    "df2.head()"
   ]
  },
  {
   "cell_type": "code",
   "execution_count": 96,
   "id": "fc6c369c",
   "metadata": {},
   "outputs": [
    {
     "data": {
      "text/html": [
       "<div>\n",
       "<style scoped>\n",
       "    .dataframe tbody tr th:only-of-type {\n",
       "        vertical-align: middle;\n",
       "    }\n",
       "\n",
       "    .dataframe tbody tr th {\n",
       "        vertical-align: top;\n",
       "    }\n",
       "\n",
       "    .dataframe thead th {\n",
       "        text-align: right;\n",
       "    }\n",
       "</style>\n",
       "<table border=\"1\" class=\"dataframe\">\n",
       "  <thead>\n",
       "    <tr style=\"text-align: right;\">\n",
       "      <th></th>\n",
       "      <th>val</th>\n",
       "    </tr>\n",
       "    <tr>\n",
       "      <th>state</th>\n",
       "      <th></th>\n",
       "    </tr>\n",
       "  </thead>\n",
       "  <tbody>\n",
       "    <tr>\n",
       "      <th>CA</th>\n",
       "      <td>4</td>\n",
       "    </tr>\n",
       "    <tr>\n",
       "      <th>NY</th>\n",
       "      <td>4</td>\n",
       "    </tr>\n",
       "    <tr>\n",
       "      <th>CO</th>\n",
       "      <td>3</td>\n",
       "    </tr>\n",
       "    <tr>\n",
       "      <th>WA</th>\n",
       "      <td>3</td>\n",
       "    </tr>\n",
       "    <tr>\n",
       "      <th>IL</th>\n",
       "      <td>2</td>\n",
       "    </tr>\n",
       "    <tr>\n",
       "      <th>FL</th>\n",
       "      <td>1</td>\n",
       "    </tr>\n",
       "    <tr>\n",
       "      <th>MA</th>\n",
       "      <td>1</td>\n",
       "    </tr>\n",
       "    <tr>\n",
       "      <th>MS</th>\n",
       "      <td>1</td>\n",
       "    </tr>\n",
       "    <tr>\n",
       "      <th>TX</th>\n",
       "      <td>1</td>\n",
       "    </tr>\n",
       "  </tbody>\n",
       "</table>\n",
       "</div>"
      ],
      "text/plain": [
       "       val\n",
       "state     \n",
       "CA       4\n",
       "NY       4\n",
       "CO       3\n",
       "WA       3\n",
       "IL       2\n",
       "FL       1\n",
       "MA       1\n",
       "MS       1\n",
       "TX       1"
      ]
     },
     "execution_count": 96,
     "metadata": {},
     "output_type": "execute_result"
    }
   ],
   "source": [
    "# Count values by a column with .groupby\n",
    "# Sort by a different column with .sort_values\n",
    "df2.groupby(by=\"state\").count().sort_values('val', ascending=False)"
   ]
  },
  {
   "cell_type": "code",
   "execution_count": 122,
   "id": "12493c02",
   "metadata": {},
   "outputs": [
    {
     "data": {
      "text/plain": [
       "9"
      ]
     },
     "execution_count": 122,
     "metadata": {},
     "output_type": "execute_result"
    }
   ],
   "source": [
    "# The number of unique values in a column\n",
    "df2['state'].nunique()"
   ]
  },
  {
   "cell_type": "code",
   "execution_count": 127,
   "id": "7dbb6f54",
   "metadata": {},
   "outputs": [
    {
     "data": {
      "text/plain": [
       "0      62\n",
       "1      64\n",
       "2     113\n",
       "3     151\n",
       "4     232\n",
       "5     279\n",
       "6     284\n",
       "7     326\n",
       "8     374\n",
       "9     438\n",
       "10    447\n",
       "11    448\n",
       "12    528\n",
       "13    586\n",
       "14    676\n",
       "15    694\n",
       "16    711\n",
       "17    776\n",
       "18    858\n",
       "19    861\n",
       "Name: val, dtype: int64"
      ]
     },
     "execution_count": 127,
     "metadata": {},
     "output_type": "execute_result"
    }
   ],
   "source": [
    "# Cumulative sum of a column\n",
    "df2.val.cumsum()"
   ]
  },
  {
   "cell_type": "code",
   "execution_count": 128,
   "id": "fa610586",
   "metadata": {},
   "outputs": [
    {
     "data": {
      "text/plain": [
       "0     62\n",
       "1     62\n",
       "2     62\n",
       "3     62\n",
       "4     81\n",
       "5     81\n",
       "6     81\n",
       "7     81\n",
       "8     81\n",
       "9     81\n",
       "10    81\n",
       "11    81\n",
       "12    81\n",
       "13    81\n",
       "14    90\n",
       "15    90\n",
       "16    90\n",
       "17    90\n",
       "18    90\n",
       "19    90\n",
       "Name: val, dtype: int64"
      ]
     },
     "execution_count": 128,
     "metadata": {},
     "output_type": "execute_result"
    }
   ],
   "source": [
    "# Cumulative max of a column\n",
    "df2.val.cummax()"
   ]
  },
  {
   "cell_type": "code",
   "execution_count": 146,
   "id": "2e467d6a",
   "metadata": {},
   "outputs": [
    {
     "data": {
      "text/plain": [
       "0                      62\n",
       "1                     124\n",
       "2                    6076\n",
       "3                  230888\n",
       "4                18701928\n",
       "5               878990616\n",
       "6              4394953080\n",
       "7            184588029360\n",
       "8           8860225409280\n",
       "9         567054426193920\n",
       "10       5103489835745280\n",
       "11       5103489835745280\n",
       "12     408279186859622400\n",
       "13    5233448764148547584\n",
       "14   -8604957143079059456\n",
       "15   -7315275985746657280\n",
       "16    4767516758273687552\n",
       "17   -3706059965272686592\n",
       "18   -8749011973007474688\n",
       "19   -7800291845312872448\n",
       "Name: val, dtype: int64"
      ]
     },
     "execution_count": 146,
     "metadata": {},
     "output_type": "execute_result"
    }
   ],
   "source": [
    "# Cumulative product of a column\n",
    "df2.val.cumprod()"
   ]
  },
  {
   "cell_type": "code",
   "execution_count": 148,
   "id": "23f0fbb1",
   "metadata": {},
   "outputs": [
    {
     "data": {
      "text/html": [
       "<div>\n",
       "<style scoped>\n",
       "    .dataframe tbody tr th:only-of-type {\n",
       "        vertical-align: middle;\n",
       "    }\n",
       "\n",
       "    .dataframe tbody tr th {\n",
       "        vertical-align: top;\n",
       "    }\n",
       "\n",
       "    .dataframe thead th {\n",
       "        text-align: right;\n",
       "    }\n",
       "</style>\n",
       "<table border=\"1\" class=\"dataframe\">\n",
       "  <thead>\n",
       "    <tr style=\"text-align: right;\">\n",
       "      <th></th>\n",
       "      <th>state</th>\n",
       "      <th>val</th>\n",
       "    </tr>\n",
       "  </thead>\n",
       "  <tbody>\n",
       "    <tr>\n",
       "      <th>0</th>\n",
       "      <td>WA</td>\n",
       "      <td>48</td>\n",
       "    </tr>\n",
       "    <tr>\n",
       "      <th>1</th>\n",
       "      <td>MI</td>\n",
       "      <td>44</td>\n",
       "    </tr>\n",
       "    <tr>\n",
       "      <th>2</th>\n",
       "      <td>WA</td>\n",
       "      <td>4</td>\n",
       "    </tr>\n",
       "    <tr>\n",
       "      <th>3</th>\n",
       "      <td>AK</td>\n",
       "      <td>25</td>\n",
       "    </tr>\n",
       "    <tr>\n",
       "      <th>4</th>\n",
       "      <td>FL</td>\n",
       "      <td>74</td>\n",
       "    </tr>\n",
       "  </tbody>\n",
       "</table>\n",
       "</div>"
      ],
      "text/plain": [
       "  state  val\n",
       "0    WA   48\n",
       "1    MI   44\n",
       "2    WA    4\n",
       "3    AK   25\n",
       "4    FL   74"
      ]
     },
     "execution_count": 148,
     "metadata": {},
     "output_type": "execute_result"
    }
   ],
   "source": [
    "df3 = pd.DataFrame({\n",
    "    \"state\": [\"WA\", \"MI\", \"WA\", \"AK\", \"FL\", \"IL\", \"CA\", \"RI\", \"MI\", \"IL\", \"TX\", \"OR\", \"AL\", \"TX\", \"MS\", \"MA\", \"OK\", \"WA\", \"WA\", \"CO\"],\n",
    "    \"val\": [random.randint(0, 100) for _ in range(20)]\n",
    "})\n",
    "df3.head()"
   ]
  },
  {
   "cell_type": "code",
   "execution_count": 151,
   "id": "97eef34d",
   "metadata": {},
   "outputs": [
    {
     "data": {
      "text/plain": [
       "0     CA\n",
       "1     CA\n",
       "3     WA\n",
       "4     CO\n",
       "5     FL\n",
       "6     CO\n",
       "8     CA\n",
       "10    IL\n",
       "11    WA\n",
       "12    IL\n",
       "14    MA\n",
       "15    MS\n",
       "16    TX\n",
       "17    CA\n",
       "18    WA\n",
       "19    CO\n",
       "Name: state, dtype: object"
      ]
     },
     "execution_count": 151,
     "metadata": {},
     "output_type": "execute_result"
    }
   ],
   "source": [
    "# Intersection - values of state in df2 that are also in df3 - .isin\n",
    "df2[df2.state.isin(df3.state)].state"
   ]
  },
  {
   "cell_type": "markdown",
   "id": "7a4eeeae",
   "metadata": {},
   "source": [
    "## Modification"
   ]
  },
  {
   "cell_type": "code",
   "execution_count": 59,
   "id": "454d20c8",
   "metadata": {},
   "outputs": [
    {
     "data": {
      "text/html": [
       "<div>\n",
       "<style scoped>\n",
       "    .dataframe tbody tr th:only-of-type {\n",
       "        vertical-align: middle;\n",
       "    }\n",
       "\n",
       "    .dataframe tbody tr th {\n",
       "        vertical-align: top;\n",
       "    }\n",
       "\n",
       "    .dataframe thead th {\n",
       "        text-align: right;\n",
       "    }\n",
       "</style>\n",
       "<table border=\"1\" class=\"dataframe\">\n",
       "  <thead>\n",
       "    <tr style=\"text-align: right;\">\n",
       "      <th></th>\n",
       "      <th>day</th>\n",
       "      <th>price</th>\n",
       "      <th>vol</th>\n",
       "      <th>color</th>\n",
       "      <th>sales</th>\n",
       "    </tr>\n",
       "  </thead>\n",
       "  <tbody>\n",
       "    <tr>\n",
       "      <th>0</th>\n",
       "      <td>2/3/2018</td>\n",
       "      <td>10</td>\n",
       "      <td>12</td>\n",
       "      <td>red</td>\n",
       "      <td>120</td>\n",
       "    </tr>\n",
       "    <tr>\n",
       "      <th>1</th>\n",
       "      <td>4/5/2018</td>\n",
       "      <td>12</td>\n",
       "      <td>12</td>\n",
       "      <td>yellow</td>\n",
       "      <td>144</td>\n",
       "    </tr>\n",
       "    <tr>\n",
       "      <th>2</th>\n",
       "      <td>6/7/2019</td>\n",
       "      <td>20</td>\n",
       "      <td>25</td>\n",
       "      <td>green</td>\n",
       "      <td>500</td>\n",
       "    </tr>\n",
       "    <tr>\n",
       "      <th>3</th>\n",
       "      <td>8/9/2019</td>\n",
       "      <td>34</td>\n",
       "      <td>40</td>\n",
       "      <td>blue</td>\n",
       "      <td>1360</td>\n",
       "    </tr>\n",
       "    <tr>\n",
       "      <th>4</th>\n",
       "      <td>10/11/2020</td>\n",
       "      <td>32</td>\n",
       "      <td>56</td>\n",
       "      <td>orange</td>\n",
       "      <td>1792</td>\n",
       "    </tr>\n",
       "    <tr>\n",
       "      <th>5</th>\n",
       "      <td>12/13/2020</td>\n",
       "      <td>40</td>\n",
       "      <td>12</td>\n",
       "      <td>magenta</td>\n",
       "      <td>480</td>\n",
       "    </tr>\n",
       "    <tr>\n",
       "      <th>6</th>\n",
       "      <td>1/2/2021</td>\n",
       "      <td>34</td>\n",
       "      <td>68</td>\n",
       "      <td>cyan</td>\n",
       "      <td>2312</td>\n",
       "    </tr>\n",
       "    <tr>\n",
       "      <th>7</th>\n",
       "      <td>1/3/2021</td>\n",
       "      <td>42</td>\n",
       "      <td>40</td>\n",
       "      <td>violet</td>\n",
       "      <td>1680</td>\n",
       "    </tr>\n",
       "  </tbody>\n",
       "</table>\n",
       "</div>"
      ],
      "text/plain": [
       "          day  price  vol    color  sales\n",
       "0    2/3/2018     10   12      red    120\n",
       "1    4/5/2018     12   12   yellow    144\n",
       "2    6/7/2019     20   25    green    500\n",
       "3    8/9/2019     34   40     blue   1360\n",
       "4  10/11/2020     32   56   orange   1792\n",
       "5  12/13/2020     40   12  magenta    480\n",
       "6    1/2/2021     34   68     cyan   2312\n",
       "7    1/3/2021     42   40   violet   1680"
      ]
     },
     "execution_count": 59,
     "metadata": {},
     "output_type": "execute_result"
    }
   ],
   "source": [
    "# Add a column that is the result of an operation performed on zero or more other columns.\n",
    "df = df.assign(sales=df.price * df.vol)\n",
    "df"
   ]
  },
  {
   "cell_type": "code",
   "execution_count": 42,
   "id": "5038a88e",
   "metadata": {},
   "outputs": [
    {
     "name": "stdout",
     "output_type": "stream",
     "text": [
      "type(df.color) = <class 'pandas.core.series.Series'>\n"
     ]
    },
    {
     "data": {
      "text/html": [
       "<div>\n",
       "<style scoped>\n",
       "    .dataframe tbody tr th:only-of-type {\n",
       "        vertical-align: middle;\n",
       "    }\n",
       "\n",
       "    .dataframe tbody tr th {\n",
       "        vertical-align: top;\n",
       "    }\n",
       "\n",
       "    .dataframe thead th {\n",
       "        text-align: right;\n",
       "    }\n",
       "</style>\n",
       "<table border=\"1\" class=\"dataframe\">\n",
       "  <thead>\n",
       "    <tr style=\"text-align: right;\">\n",
       "      <th></th>\n",
       "      <th>day</th>\n",
       "      <th>price</th>\n",
       "      <th>vol</th>\n",
       "      <th>color</th>\n",
       "      <th>sales</th>\n",
       "      <th>light_color</th>\n",
       "    </tr>\n",
       "  </thead>\n",
       "  <tbody>\n",
       "    <tr>\n",
       "      <th>0</th>\n",
       "      <td>2/3/2018</td>\n",
       "      <td>10</td>\n",
       "      <td>12</td>\n",
       "      <td>red</td>\n",
       "      <td>120</td>\n",
       "      <td>light 0        red\\n1     yellow\\n2      green...</td>\n",
       "    </tr>\n",
       "    <tr>\n",
       "      <th>1</th>\n",
       "      <td>4/5/2018</td>\n",
       "      <td>12</td>\n",
       "      <td>12</td>\n",
       "      <td>yellow</td>\n",
       "      <td>144</td>\n",
       "      <td>light 0        red\\n1     yellow\\n2      green...</td>\n",
       "    </tr>\n",
       "    <tr>\n",
       "      <th>2</th>\n",
       "      <td>6/7/2019</td>\n",
       "      <td>20</td>\n",
       "      <td>25</td>\n",
       "      <td>green</td>\n",
       "      <td>500</td>\n",
       "      <td>light 0        red\\n1     yellow\\n2      green...</td>\n",
       "    </tr>\n",
       "    <tr>\n",
       "      <th>3</th>\n",
       "      <td>8/9/2019</td>\n",
       "      <td>34</td>\n",
       "      <td>40</td>\n",
       "      <td>blue</td>\n",
       "      <td>1360</td>\n",
       "      <td>light 0        red\\n1     yellow\\n2      green...</td>\n",
       "    </tr>\n",
       "    <tr>\n",
       "      <th>4</th>\n",
       "      <td>10/11/2020</td>\n",
       "      <td>32</td>\n",
       "      <td>56</td>\n",
       "      <td>orange</td>\n",
       "      <td>1792</td>\n",
       "      <td>light 0        red\\n1     yellow\\n2      green...</td>\n",
       "    </tr>\n",
       "    <tr>\n",
       "      <th>5</th>\n",
       "      <td>12/13/2020</td>\n",
       "      <td>40</td>\n",
       "      <td>12</td>\n",
       "      <td>magenta</td>\n",
       "      <td>480</td>\n",
       "      <td>light 0        red\\n1     yellow\\n2      green...</td>\n",
       "    </tr>\n",
       "    <tr>\n",
       "      <th>6</th>\n",
       "      <td>1/2/2021</td>\n",
       "      <td>34</td>\n",
       "      <td>68</td>\n",
       "      <td>cyan</td>\n",
       "      <td>2312</td>\n",
       "      <td>light 0        red\\n1     yellow\\n2      green...</td>\n",
       "    </tr>\n",
       "    <tr>\n",
       "      <th>7</th>\n",
       "      <td>1/3/2021</td>\n",
       "      <td>42</td>\n",
       "      <td>40</td>\n",
       "      <td>violet</td>\n",
       "      <td>1680</td>\n",
       "      <td>light 0        red\\n1     yellow\\n2      green...</td>\n",
       "    </tr>\n",
       "  </tbody>\n",
       "</table>\n",
       "</div>"
      ],
      "text/plain": [
       "          day  price  vol    color  sales  \\\n",
       "0    2/3/2018     10   12      red    120   \n",
       "1    4/5/2018     12   12   yellow    144   \n",
       "2    6/7/2019     20   25    green    500   \n",
       "3    8/9/2019     34   40     blue   1360   \n",
       "4  10/11/2020     32   56   orange   1792   \n",
       "5  12/13/2020     40   12  magenta    480   \n",
       "6    1/2/2021     34   68     cyan   2312   \n",
       "7    1/3/2021     42   40   violet   1680   \n",
       "\n",
       "                                         light_color  \n",
       "0  light 0        red\\n1     yellow\\n2      green...  \n",
       "1  light 0        red\\n1     yellow\\n2      green...  \n",
       "2  light 0        red\\n1     yellow\\n2      green...  \n",
       "3  light 0        red\\n1     yellow\\n2      green...  \n",
       "4  light 0        red\\n1     yellow\\n2      green...  \n",
       "5  light 0        red\\n1     yellow\\n2      green...  \n",
       "6  light 0        red\\n1     yellow\\n2      green...  \n",
       "7  light 0        red\\n1     yellow\\n2      green...  "
      ]
     },
     "execution_count": 42,
     "metadata": {},
     "output_type": "execute_result"
    }
   ],
   "source": [
    "def lighten(color):\n",
    "    return f\"light {color}\"\n",
    "\n",
    "# This doesn't work as expected since df.color is a series\n",
    "print(f\"type(df.color) = {type(df.color)}\")\n",
    "df.assign(light_color=lighten(df.color))"
   ]
  },
  {
   "cell_type": "code",
   "execution_count": 43,
   "id": "f3783b71",
   "metadata": {},
   "outputs": [
    {
     "data": {
      "text/html": [
       "<div>\n",
       "<style scoped>\n",
       "    .dataframe tbody tr th:only-of-type {\n",
       "        vertical-align: middle;\n",
       "    }\n",
       "\n",
       "    .dataframe tbody tr th {\n",
       "        vertical-align: top;\n",
       "    }\n",
       "\n",
       "    .dataframe thead th {\n",
       "        text-align: right;\n",
       "    }\n",
       "</style>\n",
       "<table border=\"1\" class=\"dataframe\">\n",
       "  <thead>\n",
       "    <tr style=\"text-align: right;\">\n",
       "      <th></th>\n",
       "      <th>day</th>\n",
       "      <th>price</th>\n",
       "      <th>vol</th>\n",
       "      <th>color</th>\n",
       "      <th>sales</th>\n",
       "      <th>light_color</th>\n",
       "    </tr>\n",
       "  </thead>\n",
       "  <tbody>\n",
       "    <tr>\n",
       "      <th>0</th>\n",
       "      <td>2/3/2018</td>\n",
       "      <td>10</td>\n",
       "      <td>12</td>\n",
       "      <td>red</td>\n",
       "      <td>120</td>\n",
       "      <td>light red</td>\n",
       "    </tr>\n",
       "    <tr>\n",
       "      <th>1</th>\n",
       "      <td>4/5/2018</td>\n",
       "      <td>12</td>\n",
       "      <td>12</td>\n",
       "      <td>yellow</td>\n",
       "      <td>144</td>\n",
       "      <td>light yellow</td>\n",
       "    </tr>\n",
       "    <tr>\n",
       "      <th>2</th>\n",
       "      <td>6/7/2019</td>\n",
       "      <td>20</td>\n",
       "      <td>25</td>\n",
       "      <td>green</td>\n",
       "      <td>500</td>\n",
       "      <td>light green</td>\n",
       "    </tr>\n",
       "    <tr>\n",
       "      <th>3</th>\n",
       "      <td>8/9/2019</td>\n",
       "      <td>34</td>\n",
       "      <td>40</td>\n",
       "      <td>blue</td>\n",
       "      <td>1360</td>\n",
       "      <td>light blue</td>\n",
       "    </tr>\n",
       "    <tr>\n",
       "      <th>4</th>\n",
       "      <td>10/11/2020</td>\n",
       "      <td>32</td>\n",
       "      <td>56</td>\n",
       "      <td>orange</td>\n",
       "      <td>1792</td>\n",
       "      <td>light orange</td>\n",
       "    </tr>\n",
       "    <tr>\n",
       "      <th>5</th>\n",
       "      <td>12/13/2020</td>\n",
       "      <td>40</td>\n",
       "      <td>12</td>\n",
       "      <td>magenta</td>\n",
       "      <td>480</td>\n",
       "      <td>light magenta</td>\n",
       "    </tr>\n",
       "    <tr>\n",
       "      <th>6</th>\n",
       "      <td>1/2/2021</td>\n",
       "      <td>34</td>\n",
       "      <td>68</td>\n",
       "      <td>cyan</td>\n",
       "      <td>2312</td>\n",
       "      <td>light cyan</td>\n",
       "    </tr>\n",
       "    <tr>\n",
       "      <th>7</th>\n",
       "      <td>1/3/2021</td>\n",
       "      <td>42</td>\n",
       "      <td>40</td>\n",
       "      <td>violet</td>\n",
       "      <td>1680</td>\n",
       "      <td>light violet</td>\n",
       "    </tr>\n",
       "  </tbody>\n",
       "</table>\n",
       "</div>"
      ],
      "text/plain": [
       "          day  price  vol    color  sales    light_color\n",
       "0    2/3/2018     10   12      red    120      light red\n",
       "1    4/5/2018     12   12   yellow    144   light yellow\n",
       "2    6/7/2019     20   25    green    500    light green\n",
       "3    8/9/2019     34   40     blue   1360     light blue\n",
       "4  10/11/2020     32   56   orange   1792   light orange\n",
       "5  12/13/2020     40   12  magenta    480  light magenta\n",
       "6    1/2/2021     34   68     cyan   2312     light cyan\n",
       "7    1/3/2021     42   40   violet   1680   light violet"
      ]
     },
     "execution_count": 43,
     "metadata": {},
     "output_type": "execute_result"
    }
   ],
   "source": [
    "# Use .apply to apply the function to each item in the column series.\n",
    "df.assign(light_color=df.color.apply(lighten))"
   ]
  },
  {
   "cell_type": "code",
   "execution_count": 100,
   "id": "68f556d1",
   "metadata": {},
   "outputs": [],
   "source": [
    "# Rename one or more columns\n",
    "# Similar to assign, the dataframe is not modified. The return value must be captured to do the modification.\n",
    "df = df.rename(columns = {\"vol\": \"volume\"})\n",
    "df = df.rename(columns = {\"volume\": \"vol\"})"
   ]
  },
  {
   "cell_type": "code",
   "execution_count": 101,
   "id": "45168984",
   "metadata": {},
   "outputs": [
    {
     "data": {
      "text/html": [
       "<div>\n",
       "<style scoped>\n",
       "    .dataframe tbody tr th:only-of-type {\n",
       "        vertical-align: middle;\n",
       "    }\n",
       "\n",
       "    .dataframe tbody tr th {\n",
       "        vertical-align: top;\n",
       "    }\n",
       "\n",
       "    .dataframe thead th {\n",
       "        text-align: right;\n",
       "    }\n",
       "</style>\n",
       "<table border=\"1\" class=\"dataframe\">\n",
       "  <thead>\n",
       "    <tr style=\"text-align: right;\">\n",
       "      <th></th>\n",
       "      <th>day</th>\n",
       "      <th>price</th>\n",
       "      <th>vol</th>\n",
       "      <th>color</th>\n",
       "    </tr>\n",
       "  </thead>\n",
       "  <tbody>\n",
       "    <tr>\n",
       "      <th>0</th>\n",
       "      <td>2/3/2018</td>\n",
       "      <td>10</td>\n",
       "      <td>12</td>\n",
       "      <td>red</td>\n",
       "    </tr>\n",
       "    <tr>\n",
       "      <th>1</th>\n",
       "      <td>4/5/2018</td>\n",
       "      <td>12</td>\n",
       "      <td>12</td>\n",
       "      <td>yellow</td>\n",
       "    </tr>\n",
       "    <tr>\n",
       "      <th>2</th>\n",
       "      <td>6/7/2019</td>\n",
       "      <td>20</td>\n",
       "      <td>25</td>\n",
       "      <td>green</td>\n",
       "    </tr>\n",
       "    <tr>\n",
       "      <th>3</th>\n",
       "      <td>8/9/2019</td>\n",
       "      <td>34</td>\n",
       "      <td>40</td>\n",
       "      <td>blue</td>\n",
       "    </tr>\n",
       "    <tr>\n",
       "      <th>4</th>\n",
       "      <td>10/11/2020</td>\n",
       "      <td>32</td>\n",
       "      <td>56</td>\n",
       "      <td>orange</td>\n",
       "    </tr>\n",
       "    <tr>\n",
       "      <th>5</th>\n",
       "      <td>12/13/2020</td>\n",
       "      <td>40</td>\n",
       "      <td>12</td>\n",
       "      <td>magenta</td>\n",
       "    </tr>\n",
       "    <tr>\n",
       "      <th>6</th>\n",
       "      <td>1/2/2021</td>\n",
       "      <td>34</td>\n",
       "      <td>68</td>\n",
       "      <td>cyan</td>\n",
       "    </tr>\n",
       "    <tr>\n",
       "      <th>7</th>\n",
       "      <td>1/3/2021</td>\n",
       "      <td>42</td>\n",
       "      <td>40</td>\n",
       "      <td>violet</td>\n",
       "    </tr>\n",
       "  </tbody>\n",
       "</table>\n",
       "</div>"
      ],
      "text/plain": [
       "          day  price  vol    color\n",
       "0    2/3/2018     10   12      red\n",
       "1    4/5/2018     12   12   yellow\n",
       "2    6/7/2019     20   25    green\n",
       "3    8/9/2019     34   40     blue\n",
       "4  10/11/2020     32   56   orange\n",
       "5  12/13/2020     40   12  magenta\n",
       "6    1/2/2021     34   68     cyan\n",
       "7    1/3/2021     42   40   violet"
      ]
     },
     "execution_count": 101,
     "metadata": {},
     "output_type": "execute_result"
    }
   ],
   "source": [
    "df"
   ]
  },
  {
   "cell_type": "code",
   "execution_count": 139,
   "id": "b41e939f",
   "metadata": {},
   "outputs": [
    {
     "data": {
      "text/plain": [
       "(0    10\n",
       " 1    12\n",
       " 2    20\n",
       " 3    34\n",
       " 4    32\n",
       " 5    40\n",
       " 6    34\n",
       " 7    42\n",
       " Name: price, dtype: int64,\n",
       " 0     NaN\n",
       " 1     NaN\n",
       " 2    10.0\n",
       " 3    12.0\n",
       " 4    20.0\n",
       " 5    34.0\n",
       " 6    32.0\n",
       " 7    40.0\n",
       " Name: price, dtype: float64)"
      ]
     },
     "execution_count": 139,
     "metadata": {},
     "output_type": "execute_result"
    }
   ],
   "source": [
    "# Shift values with .shift\n",
    "df.price, df.price.shift(2)"
   ]
  },
  {
   "cell_type": "code",
   "execution_count": 156,
   "id": "7701cca7",
   "metadata": {},
   "outputs": [
    {
     "data": {
      "text/plain": [
       "RangeIndex(start=0, stop=8, step=1)"
      ]
     },
     "execution_count": 156,
     "metadata": {},
     "output_type": "execute_result"
    }
   ],
   "source": [
    "# Show the index\n",
    "df.index"
   ]
  },
  {
   "cell_type": "code",
   "execution_count": 157,
   "id": "83c3ed8f",
   "metadata": {},
   "outputs": [
    {
     "data": {
      "text/html": [
       "<div>\n",
       "<style scoped>\n",
       "    .dataframe tbody tr th:only-of-type {\n",
       "        vertical-align: middle;\n",
       "    }\n",
       "\n",
       "    .dataframe tbody tr th {\n",
       "        vertical-align: top;\n",
       "    }\n",
       "\n",
       "    .dataframe thead th {\n",
       "        text-align: right;\n",
       "    }\n",
       "</style>\n",
       "<table border=\"1\" class=\"dataframe\">\n",
       "  <thead>\n",
       "    <tr style=\"text-align: right;\">\n",
       "      <th></th>\n",
       "      <th>price</th>\n",
       "      <th>vol</th>\n",
       "      <th>color</th>\n",
       "    </tr>\n",
       "    <tr>\n",
       "      <th>day</th>\n",
       "      <th></th>\n",
       "      <th></th>\n",
       "      <th></th>\n",
       "    </tr>\n",
       "  </thead>\n",
       "  <tbody>\n",
       "    <tr>\n",
       "      <th>2/3/2018</th>\n",
       "      <td>10</td>\n",
       "      <td>12</td>\n",
       "      <td>red</td>\n",
       "    </tr>\n",
       "    <tr>\n",
       "      <th>4/5/2018</th>\n",
       "      <td>12</td>\n",
       "      <td>12</td>\n",
       "      <td>yellow</td>\n",
       "    </tr>\n",
       "    <tr>\n",
       "      <th>6/7/2019</th>\n",
       "      <td>20</td>\n",
       "      <td>25</td>\n",
       "      <td>green</td>\n",
       "    </tr>\n",
       "    <tr>\n",
       "      <th>8/9/2019</th>\n",
       "      <td>34</td>\n",
       "      <td>40</td>\n",
       "      <td>blue</td>\n",
       "    </tr>\n",
       "    <tr>\n",
       "      <th>10/11/2020</th>\n",
       "      <td>32</td>\n",
       "      <td>56</td>\n",
       "      <td>orange</td>\n",
       "    </tr>\n",
       "    <tr>\n",
       "      <th>12/13/2020</th>\n",
       "      <td>40</td>\n",
       "      <td>12</td>\n",
       "      <td>magenta</td>\n",
       "    </tr>\n",
       "    <tr>\n",
       "      <th>1/2/2021</th>\n",
       "      <td>34</td>\n",
       "      <td>68</td>\n",
       "      <td>cyan</td>\n",
       "    </tr>\n",
       "    <tr>\n",
       "      <th>1/3/2021</th>\n",
       "      <td>42</td>\n",
       "      <td>40</td>\n",
       "      <td>violet</td>\n",
       "    </tr>\n",
       "  </tbody>\n",
       "</table>\n",
       "</div>"
      ],
      "text/plain": [
       "            price  vol    color\n",
       "day                            \n",
       "2/3/2018       10   12      red\n",
       "4/5/2018       12   12   yellow\n",
       "6/7/2019       20   25    green\n",
       "8/9/2019       34   40     blue\n",
       "10/11/2020     32   56   orange\n",
       "12/13/2020     40   12  magenta\n",
       "1/2/2021       34   68     cyan\n",
       "1/3/2021       42   40   violet"
      ]
     },
     "execution_count": 157,
     "metadata": {},
     "output_type": "execute_result"
    }
   ],
   "source": [
    "# Set the index to the provided column\n",
    "df.set_index(\"day\")"
   ]
  },
  {
   "cell_type": "markdown",
   "id": "11e5ad75",
   "metadata": {},
   "source": [
    "## Plotting"
   ]
  },
  {
   "cell_type": "code",
   "execution_count": 142,
   "id": "546f654c",
   "metadata": {},
   "outputs": [
    {
     "data": {
      "text/plain": [
       "<AxesSubplot: xlabel='state', ylabel='val'>"
      ]
     },
     "execution_count": 142,
     "metadata": {},
     "output_type": "execute_result"
    },
    {
     "data": {
      "image/png": "[encoded data removed]",
      "text/plain": [
       "<Figure size 640x480 with 1 Axes>"
      ]
     },
     "metadata": {},
     "output_type": "display_data"
    }
   ],
   "source": [
    "# Scatter plot\n",
    "df2.plot.scatter(x='state', y='val')"
   ]
  },
  {
   "cell_type": "code",
   "execution_count": 144,
   "id": "a97926cd",
   "metadata": {},
   "outputs": [
    {
     "data": {
      "text/plain": [
       "<AxesSubplot: ylabel='Frequency'>"
      ]
     },
     "execution_count": 144,
     "metadata": {},
     "output_type": "execute_result"
    },
    {
     "data": {
      "image/png": "[encoded data removed]",
      "text/plain": [
       "<Figure size 640x480 with 1 Axes>"
      ]
     },
     "metadata": {},
     "output_type": "display_data"
    }
   ],
   "source": [
    "# Histogram\n",
    "df.vol.plot.hist()"
   ]
  },
  {
   "cell_type": "code",
   "execution_count": null,
   "id": "ea772285",
   "metadata": {},
   "outputs": [],
   "source": []
  }
 ],
 "metadata": {
  "kernelspec": {
   "display_name": "Python 3 (ipykernel)",
   "language": "python",
   "name": "python3"
  },
  "language_info": {
   "codemirror_mode": {
    "name": "ipython",
    "version": 3
   },
   "file_extension": ".py",
   "mimetype": "text/x-python",
   "name": "python",
   "nbconvert_exporter": "python",
   "pygments_lexer": "ipython3",
   "version": "3.10.8"
  }
 },
 "nbformat": 4,
 "nbformat_minor": 5
}
