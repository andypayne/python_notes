{
 "cells": [
  {
   "cell_type": "markdown",
   "metadata": {},
   "source": [
    "## Strings - accessing substrings"
   ]
  },
  {
   "cell_type": "code",
   "execution_count": 26,
   "metadata": {},
   "outputs": [
    {
     "name": "stdout",
     "output_type": "stream",
     "text": [
      "With\n",
      "view\n",
      "qualification. qualification\n"
     ]
    }
   ],
   "source": [
    "s1 = \"With regard to the view that all things are for the sake of an end and nothing is in vain, the assignation of ends is in general not easy, as it is usually stated to be ... we must set certain limits to purposiveness and to the effort after the best, and not assert it to exist in all cases without qualification.\"\n",
    "\n",
    "print(s1[0:4])\n",
    "print(s1[19:23])\n",
    "print(s1[-14:], s1[-14:-1])"
   ]
  },
  {
   "cell_type": "markdown",
   "metadata": {},
   "source": [
    "## Numbers"
   ]
  },
  {
   "cell_type": "code",
   "execution_count": 5,
   "metadata": {},
   "outputs": [
    {
     "name": "stdout",
     "output_type": "stream",
     "text": [
      "0x4d2\n",
      "0b10011010010\n",
      "0o2322\n"
     ]
    }
   ],
   "source": [
    "a_num = 1234\n",
    "\n",
    "# Hexadecimal\n",
    "print(hex(a_num))\n",
    "\n",
    "# Binary\n",
    "print(bin(a_num))\n",
    "\n",
    "# Octal\n",
    "print(oct(a_num))"
   ]
  },
  {
   "cell_type": "markdown",
   "metadata": {},
   "source": [
    "## Dictionaries"
   ]
  },
  {
   "cell_type": "code",
   "execution_count": 1,
   "metadata": {},
   "outputs": [
    {
     "data": {
      "text/plain": [
       "11"
      ]
     },
     "execution_count": 1,
     "metadata": {},
     "output_type": "execute_result"
    }
   ],
   "source": [
    "h = {\n",
    "    'one': {\n",
    "        'a': 10,\n",
    "        'b': 20\n",
    "    },\n",
    "    'two': {\n",
    "        'a': 100,\n",
    "        'b': 10\n",
    "    },\n",
    "    'three': {\n",
    "        'a': 123,\n",
    "        'b': 1\n",
    "    },\n",
    "    'four': {\n",
    "        'a': 50,\n",
    "        'b': 75\n",
    "    },\n",
    "    'five': {\n",
    "        'a': 21,\n",
    "        'b': 43\n",
    "    },\n",
    "    'six': {\n",
    "        'a': 22,\n",
    "        'b': 11\n",
    "    },\n",
    "    'seven': {\n",
    "        'a': 66,\n",
    "        'b': 44\n",
    "    }\n",
    "}\n",
    "\n",
    "h['six']['b']"
   ]
  },
  {
   "cell_type": "code",
   "execution_count": 3,
   "metadata": {},
   "outputs": [
    {
     "data": {
      "text/plain": [
       "dict_items([('one', {'a': 10, 'b': 20}), ('two', {'a': 100, 'b': 10}), ('three', {'a': 123, 'b': 1}), ('four', {'a': 50, 'b': 75}), ('five', {'a': 21, 'b': 43}), ('six', {'a': 22, 'b': 11}), ('seven', {'a': 66, 'b': 44})])"
      ]
     },
     "execution_count": 3,
     "metadata": {},
     "output_type": "execute_result"
    }
   ],
   "source": [
    "# Values\n",
    "h.items()"
   ]
  },
  {
   "cell_type": "code",
   "execution_count": 4,
   "metadata": {},
   "outputs": [
    {
     "data": {
      "text/plain": [
       "{'three': {'a': 123, 'b': 1},\n",
       " 'two': {'a': 100, 'b': 10},\n",
       " 'six': {'a': 22, 'b': 11},\n",
       " 'one': {'a': 10, 'b': 20},\n",
       " 'five': {'a': 21, 'b': 43},\n",
       " 'seven': {'a': 66, 'b': 44},\n",
       " 'four': {'a': 50, 'b': 75}}"
      ]
     },
     "execution_count": 4,
     "metadata": {},
     "output_type": "execute_result"
    }
   ],
   "source": [
    "# Sort a dictionary by a value\n",
    "{k: v for k, v in sorted(h.items(), key=lambda item: item[1]['b'])}"
   ]
  },
  {
   "cell_type": "code",
   "execution_count": 6,
   "metadata": {},
   "outputs": [
    {
     "data": {
      "text/plain": [
       "[('four', {'a': 50, 'b': 75}),\n",
       " ('seven', {'a': 66, 'b': 44}),\n",
       " ('five', {'a': 21, 'b': 43}),\n",
       " ('one', {'a': 10, 'b': 20}),\n",
       " ('six', {'a': 22, 'b': 11}),\n",
       " ('two', {'a': 100, 'b': 10}),\n",
       " ('three', {'a': 123, 'b': 1})]"
      ]
     },
     "execution_count": 6,
     "metadata": {},
     "output_type": "execute_result"
    }
   ],
   "source": [
    "# Reverse sort\n",
    "sorted(h.items(), key=lambda item: item[1]['b'], reverse=True)"
   ]
  },
  {
   "cell_type": "code",
   "execution_count": 3,
   "metadata": {},
   "outputs": [
    {
     "data": {
      "text/plain": [
       "[12, 44, 321, 456, 10101]"
      ]
     },
     "execution_count": 3,
     "metadata": {},
     "output_type": "execute_result"
    }
   ],
   "source": [
    "# More sorting\n",
    "\n",
    "h2 = {\n",
    "    'one': {\n",
    "        'a1': 456,\n",
    "        'a2': 4321\n",
    "    },\n",
    "    'two': {\n",
    "        'a1': 321,\n",
    "        'a2': 1234\n",
    "    },\n",
    "    'three': {\n",
    "        'a1': 12,\n",
    "        'a2': 505\n",
    "    },\n",
    "    'four': {\n",
    "        'a1': 10101,\n",
    "        'b1': 8\n",
    "    },\n",
    "    'five': {\n",
    "        'a1': 44,\n",
    "        'b1': 555\n",
    "    }\n",
    "}\n",
    "\n",
    "# Sort by sub-key a1\n",
    "sorted_keys = sorted(h2.keys(), key=lambda k: h2[k]['a1'])\n",
    "[h2[k]['a1'] for k in sorted_keys]"
   ]
  },
  {
   "cell_type": "code",
   "execution_count": 4,
   "metadata": {},
   "outputs": [
    {
     "data": {
      "text/plain": [
       "['three', 'one', 'five', 'two', 'four']"
      ]
     },
     "execution_count": 4,
     "metadata": {},
     "output_type": "execute_result"
    }
   ],
   "source": [
    "# Sort by the reverse of each key\n",
    "sorted_keys = sorted(h2.keys(), key=lambda k: k[::-1])\n",
    "sorted_keys"
   ]
  },
  {
   "cell_type": "markdown",
   "metadata": {},
   "source": [
    "## Paths"
   ]
  },
  {
   "cell_type": "code",
   "execution_count": 2,
   "metadata": {},
   "outputs": [
    {
     "data": {
      "text/plain": [
       "'filename.txt'"
      ]
     },
     "execution_count": 2,
     "metadata": {},
     "output_type": "execute_result"
    }
   ],
   "source": [
    "from pathlib import Path\n",
    "\n",
    "p = Path(\"/path/to/some/filename.txt\")\n",
    "\n",
    "# Path basename\n",
    "p.name"
   ]
  },
  {
   "cell_type": "markdown",
   "metadata": {},
   "source": [
    "## Parsing XML\n",
    "\n",
    "Using [xml.etree.ElementTree](https://docs.python.org/3/library/xml.etree.elementtree.html)"
   ]
  },
  {
   "cell_type": "code",
   "execution_count": 12,
   "metadata": {},
   "outputs": [
    {
     "name": "stdout",
     "output_type": "stream",
     "text": [
      "country {'name': 'Liechtenstein'} 2008\n",
      "country {'name': 'Singapore'} 2011\n",
      "country {'name': 'Panama'} 2011\n"
     ]
    }
   ],
   "source": [
    "\n",
    "import xml.etree.ElementTree as ET\n",
    "\n",
    "xml_str = \"\"\"<?xml version=\"1.0\"?>\n",
    "<data>\n",
    "    <country name=\"Liechtenstein\">\n",
    "        <rank>1</rank>\n",
    "        <year>2008</year>\n",
    "        <gdppc>141100</gdppc>\n",
    "        <neighbor name=\"Austria\" direction=\"E\"/>\n",
    "        <neighbor name=\"Switzerland\" direction=\"W\"/>\n",
    "    </country>\n",
    "    <country name=\"Singapore\">\n",
    "        <rank>4</rank>\n",
    "        <year>2011</year>\n",
    "        <gdppc>59900</gdppc>\n",
    "        <neighbor name=\"Malaysia\" direction=\"N\"/>\n",
    "    </country>\n",
    "    <country name=\"Panama\">\n",
    "        <rank>68</rank>\n",
    "        <year>2011</year>\n",
    "        <gdppc>13600</gdppc>\n",
    "        <neighbor name=\"Costa Rica\" direction=\"W\"/>\n",
    "        <neighbor name=\"Colombia\" direction=\"E\"/>\n",
    "    </country>\n",
    "</data>\n",
    "\"\"\"\n",
    "\n",
    "# From a string:\n",
    "docroot = ET.fromstring(xml_str)\n",
    "\n",
    "# From a file:\n",
    "#tree = ET.parse('some_file.xml')\n",
    "#docroot = tree.getroot()\n",
    "\n",
    "for el in docroot:\n",
    "    # tag names, attributes, child elements\n",
    "    print(el.tag, el.attrib, el.find(\"year\").text)"
   ]
  },
  {
   "cell_type": "code",
   "execution_count": null,
   "metadata": {},
   "outputs": [],
   "source": []
  }
 ],
 "metadata": {
  "kernelspec": {
   "display_name": "Python 3",
   "language": "python",
   "name": "python3"
  },
  "language_info": {
   "codemirror_mode": {
    "name": "ipython",
    "version": 3
   },
   "file_extension": ".py",
   "mimetype": "text/x-python",
   "name": "python",
   "nbconvert_exporter": "python",
   "pygments_lexer": "ipython3",
   "version": "3.8.3"
  }
 },
 "nbformat": 4,
 "nbformat_minor": 4
}
